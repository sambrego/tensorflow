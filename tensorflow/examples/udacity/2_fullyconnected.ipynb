{
 "metadata": {
  "colabVersion": "0.3.2",
  "colab_default_view": {},
  "colab_views": {},
  "name": "",
  "signature": "sha256:43b93dceec00a78e11c431d3bb1a4d24b7d6fc83163d6cf51d9e92a4c648a14f"
 },
 "nbformat": 3,
 "nbformat_minor": 0,
 "worksheets": [
  {
   "cells": [
    {
     "cell_type": "markdown",
     "metadata": {
      "colab_type": "text",
      "id": "kR-4eNdK6lYS"
     },
     "source": [
      "Deep Learning\n",
      "=============\n",
      "\n",
      "Assignment 2\n",
      "------------\n",
      "\n",
      "Previously in `1_notmnist.ipynb`, we created a pickle with formatted datasets for training, development and testing on the [notMNIST dataset](http://yaroslavvb.blogspot.com/2011/09/notmnist-dataset.html).\n",
      "\n",
      "The goal of this assignment is to progressively train deeper and more accurate models using TensorFlow."
     ]
    },
    {
     "cell_type": "code",
     "collapsed": false,
     "input": [
      "# These are all the modules we'll be using later. Make sure you can import them\n",
      "# before proceeding further.\n",
      "import cPickle as pickle\n",
      "import numpy as np\n",
      "import tensorflow as tf"
     ],
     "language": "python",
     "metadata": {
      "cellView": "both",
      "colab": {
       "autoexec": {
        "startup": false,
        "wait_interval": 0
       }
      },
      "colab_type": "code",
      "id": "JLpLa8Jt7Vu4"
     },
     "outputs": [],
     "prompt_number": 1
    },
    {
     "cell_type": "markdown",
     "metadata": {
      "colab_type": "text",
      "id": "1HrCK6e17WzV"
     },
     "source": [
      "First reload the data we generated in `1_notmist.ipynb`."
     ]
    },
    {
     "cell_type": "code",
     "collapsed": false,
     "input": [
      "pickle_file = 'notMNIST.pickle'\n",
      "\n",
      "with open(pickle_file, 'rb') as f:\n",
      "  save = pickle.load(f)\n",
      "  train_dataset = save['train_dataset']\n",
      "  train_labels = save['train_labels']\n",
      "  valid_dataset = save['valid_dataset']\n",
      "  valid_labels = save['valid_labels']\n",
      "  test_dataset = save['test_dataset']\n",
      "  test_labels = save['test_labels']\n",
      "  del save  # hint to help gc free up memory\n",
      "  print 'Training set', train_dataset.shape, train_labels.shape\n",
      "  print 'Validation set', valid_dataset.shape, valid_labels.shape\n",
      "  print 'Test set', test_dataset.shape, test_labels.shape"
     ],
     "language": "python",
     "metadata": {
      "cellView": "both",
      "colab": {
       "autoexec": {
        "startup": false,
        "wait_interval": 0
       },
       "output_extras": [
        {
         "item_id": 1
        }
       ]
      },
      "colab_type": "code",
      "executionInfo": {
       "elapsed": 19456,
       "status": "ok",
       "timestamp": 1449847956073,
       "user": {
        "color": "",
        "displayName": "",
        "isAnonymous": false,
        "isMe": true,
        "permissionId": "",
        "photoUrl": "",
        "sessionId": "0",
        "userId": ""
       },
       "user_tz": 480
      },
      "id": "y3-cj1bpmuxc",
      "outputId": "0ddb1607-1fc4-4ddb-de28-6c7ab7fb0c33"
     },
     "outputs": [
      {
       "output_type": "stream",
       "stream": "stdout",
       "text": [
        "Training set (200000, 28, 28) (200000,)\n",
        "Validation set (10000, 28, 28) (10000,)\n",
        "Test set (18724, 28, 28) (18724,)\n"
       ]
      }
     ],
     "prompt_number": 2
    },
    {
     "cell_type": "code",
     "collapsed": false,
     "input": [
      "#let's check consistency\n",
      "import matplotlib.pyplot as plt\n",
      "def show_samples(dataset,labels,start,num):\n",
      "    %matplotlib inline\n",
      "    i = start\n",
      "    while i<(start+num):\n",
      "        print \"Label: \", labels[i], \" char: \", chr(ord('a') + labels[i]) \n",
      "        img = dataset[i,:,:]\n",
      "        plt.figure(figsize=(1,1),frameon=False)\n",
      "        plt.imshow(img)\n",
      "        i+=1\n",
      "\n",
      "show_samples(train_dataset,train_labels,10,5)\n",
      "show_samples(test_dataset,test_labels,10,5)"
     ],
     "language": "python",
     "metadata": {},
     "outputs": [
      {
       "output_type": "stream",
       "stream": "stdout",
       "text": [
        "Label:  [ 0.  0.  0.  1.  0.  0.  0.  0.  0.  0.]  char: "
       ]
      },
      {
       "ename": "TypeError",
       "evalue": "only length-1 arrays can be converted to Python scalars",
       "output_type": "pyerr",
       "traceback": [
        "\u001b[0;31m---------------------------------------------------------------------------\u001b[0m\n\u001b[0;31mTypeError\u001b[0m                                 Traceback (most recent call last)",
        "\u001b[0;32m<ipython-input-8-b11e927bcef0>\u001b[0m in \u001b[0;36m<module>\u001b[0;34m()\u001b[0m\n\u001b[1;32m     11\u001b[0m         \u001b[0mi\u001b[0m\u001b[0;34m+=\u001b[0m\u001b[0;36m1\u001b[0m\u001b[0;34m\u001b[0m\u001b[0m\n\u001b[1;32m     12\u001b[0m \u001b[0;34m\u001b[0m\u001b[0m\n\u001b[0;32m---> 13\u001b[0;31m \u001b[0mshow_samples\u001b[0m\u001b[0;34m(\u001b[0m\u001b[0mtrain_dataset\u001b[0m\u001b[0;34m,\u001b[0m\u001b[0mtrain_labels\u001b[0m\u001b[0;34m,\u001b[0m\u001b[0;36m10\u001b[0m\u001b[0;34m,\u001b[0m\u001b[0;36m5\u001b[0m\u001b[0;34m)\u001b[0m\u001b[0;34m\u001b[0m\u001b[0m\n\u001b[0m\u001b[1;32m     14\u001b[0m \u001b[0mshow_samples\u001b[0m\u001b[0;34m(\u001b[0m\u001b[0mtest_dataset\u001b[0m\u001b[0;34m,\u001b[0m\u001b[0mtest_labels\u001b[0m\u001b[0;34m,\u001b[0m\u001b[0;36m10\u001b[0m\u001b[0;34m,\u001b[0m\u001b[0;36m5\u001b[0m\u001b[0;34m)\u001b[0m\u001b[0;34m\u001b[0m\u001b[0m\n",
        "\u001b[0;32m<ipython-input-8-b11e927bcef0>\u001b[0m in \u001b[0;36mshow_samples\u001b[0;34m(dataset, labels, start, num)\u001b[0m\n\u001b[1;32m      5\u001b[0m     \u001b[0mi\u001b[0m \u001b[0;34m=\u001b[0m \u001b[0mstart\u001b[0m\u001b[0;34m\u001b[0m\u001b[0m\n\u001b[1;32m      6\u001b[0m     \u001b[0;32mwhile\u001b[0m \u001b[0mi\u001b[0m\u001b[0;34m<\u001b[0m\u001b[0;34m(\u001b[0m\u001b[0mstart\u001b[0m\u001b[0;34m+\u001b[0m\u001b[0mnum\u001b[0m\u001b[0;34m)\u001b[0m\u001b[0;34m:\u001b[0m\u001b[0;34m\u001b[0m\u001b[0m\n\u001b[0;32m----> 7\u001b[0;31m         \u001b[0;32mprint\u001b[0m \u001b[0;34m\"Label: \"\u001b[0m\u001b[0;34m,\u001b[0m \u001b[0mlabels\u001b[0m\u001b[0;34m[\u001b[0m\u001b[0mi\u001b[0m\u001b[0;34m]\u001b[0m\u001b[0;34m,\u001b[0m \u001b[0;34m\" char: \"\u001b[0m\u001b[0;34m,\u001b[0m \u001b[0mchr\u001b[0m\u001b[0;34m(\u001b[0m\u001b[0mord\u001b[0m\u001b[0;34m(\u001b[0m\u001b[0;34m'a'\u001b[0m\u001b[0;34m)\u001b[0m \u001b[0;34m+\u001b[0m \u001b[0mlabels\u001b[0m\u001b[0;34m[\u001b[0m\u001b[0mi\u001b[0m\u001b[0;34m]\u001b[0m\u001b[0;34m)\u001b[0m\u001b[0;34m\u001b[0m\u001b[0m\n\u001b[0m\u001b[1;32m      8\u001b[0m         \u001b[0mimg\u001b[0m \u001b[0;34m=\u001b[0m \u001b[0mdataset\u001b[0m\u001b[0;34m[\u001b[0m\u001b[0mi\u001b[0m\u001b[0;34m,\u001b[0m\u001b[0;34m:\u001b[0m\u001b[0;34m,\u001b[0m\u001b[0;34m:\u001b[0m\u001b[0;34m]\u001b[0m\u001b[0;34m\u001b[0m\u001b[0m\n\u001b[1;32m      9\u001b[0m         \u001b[0mplt\u001b[0m\u001b[0;34m.\u001b[0m\u001b[0mfigure\u001b[0m\u001b[0;34m(\u001b[0m\u001b[0mfigsize\u001b[0m\u001b[0;34m=\u001b[0m\u001b[0;34m(\u001b[0m\u001b[0;36m1\u001b[0m\u001b[0;34m,\u001b[0m\u001b[0;36m1\u001b[0m\u001b[0;34m)\u001b[0m\u001b[0;34m,\u001b[0m\u001b[0mframeon\u001b[0m\u001b[0;34m=\u001b[0m\u001b[0mFalse\u001b[0m\u001b[0;34m)\u001b[0m\u001b[0;34m\u001b[0m\u001b[0m\n",
        "\u001b[0;31mTypeError\u001b[0m: only length-1 arrays can be converted to Python scalars"
       ]
      }
     ],
     "prompt_number": 8
    },
    {
     "cell_type": "markdown",
     "metadata": {
      "colab_type": "text",
      "id": "L7aHrm6nGDMB"
     },
     "source": [
      "Reformat into a shape that's more adapted to the models we're going to train:\n",
      "- data as a flat matrix,\n",
      "- labels as float 1-hot encodings."
     ]
    },
    {
     "cell_type": "code",
     "collapsed": false,
     "input": [
      "image_size = 28\n",
      "num_labels = 10\n",
      "\n",
      "def reformat(dataset, labels):\n",
      "  dataset = dataset.reshape((-1, image_size * image_size)).astype(np.float32)\n",
      "  # Map 0 to [1.0, 0.0, 0.0 ...], 1 to [0.0, 1.0, 0.0 ...]\n",
      "  labels = (np.arange(num_labels) == labels[:,None]).astype(np.float32)\n",
      "  return dataset, labels\n",
      "train_dataset, train_labels = reformat(train_dataset, train_labels)\n",
      "valid_dataset, valid_labels = reformat(valid_dataset, valid_labels)\n",
      "test_dataset, test_labels = reformat(test_dataset, test_labels)\n",
      "print 'Training set', train_dataset.shape, train_labels.shape\n",
      "print 'Validation set', valid_dataset.shape, valid_labels.shape\n",
      "print 'Test set', test_dataset.shape, test_labels.shape"
     ],
     "language": "python",
     "metadata": {
      "cellView": "both",
      "colab": {
       "autoexec": {
        "startup": false,
        "wait_interval": 0
       },
       "output_extras": [
        {
         "item_id": 1
        }
       ]
      },
      "colab_type": "code",
      "executionInfo": {
       "elapsed": 19723,
       "status": "ok",
       "timestamp": 1449847956364,
       "user": {
        "color": "",
        "displayName": "",
        "isAnonymous": false,
        "isMe": true,
        "permissionId": "",
        "photoUrl": "",
        "sessionId": "0",
        "userId": ""
       },
       "user_tz": 480
      },
      "id": "IRSyYiIIGIzS",
      "outputId": "2ba0fc75-1487-4ace-a562-cf81cae82793"
     },
     "outputs": [
      {
       "output_type": "stream",
       "stream": "stdout",
       "text": [
        "Training set (200000, 784) (200000, 10)\n",
        "Validation set (10000, 784) (10000, 10)\n",
        "Test set (18724, 784) (18724, 10)\n"
       ]
      }
     ],
     "prompt_number": 7
    },
    {
     "cell_type": "markdown",
     "metadata": {
      "colab_type": "text",
      "id": "nCLVqyQ5vPPH"
     },
     "source": [
      "We're first going to train a multinomial logistic regression using simple gradient descent.\n",
      "\n",
      "TensorFlow works like this:\n",
      "* First you describe the computation that you want to see performed: what the inputs, the variables, and the operations look like. These get created as nodes over a computation graph. This description is all contained within the block below:\n",
      "\n",
      "      with graph.as_default():\n",
      "          ...\n",
      "\n",
      "* Then you can run the operations on this graph as many times as you want by calling `session.run()`, providing it outputs to fetch from the graph that get returned. This runtime operation is all contained in the block below:\n",
      "\n",
      "      with tf.Session(graph=graph) as session:\n",
      "          ...\n",
      "\n",
      "Let's load all the data into TensorFlow and build the computation graph corresponding to our training:"
     ]
    },
    {
     "cell_type": "code",
     "collapsed": false,
     "input": [
      "# With gradient descent training, even this much data is prohibitive.\n",
      "# Subset the training data for faster turnaround.\n",
      "train_subset = 10000\n",
      "\n",
      "graph = tf.Graph()\n",
      "with graph.as_default():\n",
      "\n",
      "  # Input data.\n",
      "  # Load the training, validation and test data into constants that are\n",
      "  # attached to the graph.\n",
      "  tf_train_dataset = tf.constant(train_dataset[:train_subset, :])\n",
      "  tf_train_labels = tf.constant(train_labels[:train_subset])\n",
      "  tf_valid_dataset = tf.constant(valid_dataset)\n",
      "  tf_test_dataset = tf.constant(test_dataset)\n",
      "  \n",
      "  # Variables.\n",
      "  # These are the parameters that we are going to be training. The weight\n",
      "  # matrix will be initialized using random valued following a (truncated)\n",
      "  # normal distribution. The biases get initialized to zero.\n",
      "  weights = tf.Variable(\n",
      "    tf.truncated_normal([image_size * image_size, num_labels]))\n",
      "  biases = tf.Variable(tf.zeros([num_labels]))\n",
      "  \n",
      "  # Training computation.\n",
      "  # We multiply the inputs with the weight matrix, and add biases. We compute\n",
      "  # the softmax and cross-entropy (it's one operation in TensorFlow, because\n",
      "  # it's very common, and it can be optimized). We take the average of this\n",
      "  # cross-entropy across all training examples: that's our loss.\n",
      "  logits = tf.matmul(tf_train_dataset, weights) + biases\n",
      "  loss = tf.reduce_mean(\n",
      "    tf.nn.softmax_cross_entropy_with_logits(logits, tf_train_labels))\n",
      "  \n",
      "  # Optimizer.\n",
      "  # We are going to find the minimum of this loss using gradient descent.\n",
      "  optimizer = tf.train.GradientDescentOptimizer(0.5).minimize(loss)\n",
      "  \n",
      "  # Predictions for the training, validation, and test data.\n",
      "  # These are not part of training, but merely here so that we can report\n",
      "  # accuracy figures as we train.\n",
      "  train_prediction = tf.nn.softmax(logits)\n",
      "  valid_prediction = tf.nn.softmax(\n",
      "    tf.matmul(tf_valid_dataset, weights) + biases)\n",
      "  test_prediction = tf.nn.softmax(tf.matmul(tf_test_dataset, weights) + biases)"
     ],
     "language": "python",
     "metadata": {
      "cellView": "both",
      "colab": {
       "autoexec": {
        "startup": false,
        "wait_interval": 0
       }
      },
      "colab_type": "code",
      "id": "Nfv39qvtvOl_"
     },
     "outputs": [
      {
       "output_type": "stream",
       "stream": "stdout",
       "text": [
        "\n"
       ]
      }
     ],
     "prompt_number": 9
    },
    {
     "cell_type": "markdown",
     "metadata": {
      "colab_type": "text",
      "id": "KQcL4uqISHjP"
     },
     "source": [
      "Let's run this computation and iterate:"
     ]
    },
    {
     "cell_type": "code",
     "collapsed": false,
     "input": [
      "num_steps = 301\n",
      "\n",
      "def accuracy(predictions, labels):\n",
      "  return (100.0 * np.sum(np.argmax(predictions, 1) == np.argmax(labels, 1))\n",
      "          / predictions.shape[0])\n",
      "\n",
      "with tf.Session(graph=graph) as session:\n",
      "  # This is a one-time operation which ensures the parameters get initialized as\n",
      "  # we described in the graph: random weights for the matrix, zeros for the\n",
      "  # biases. \n",
      "  tf.initialize_all_variables().run()\n",
      "  print 'Initialized'\n",
      "  for step in xrange(num_steps):\n",
      "    # Run the computations. We tell .run() that we want to run the optimizer,\n",
      "    # and get the loss value and the training predictions returned as numpy\n",
      "    # arrays.\n",
      "    _, l, predictions = session.run([optimizer, loss, train_prediction])\n",
      "    if (step % 100 == 0):\n",
      "      print 'Loss at step', step, ':', l\n",
      "      print 'Training accuracy: %.1f%%' % accuracy(\n",
      "        predictions, train_labels[:train_subset, :])\n",
      "      # Calling .eval() on valid_prediction is basically like calling run(), but\n",
      "      # just to get that one numpy array. Note that it recomputes all its graph\n",
      "      # dependencies.\n",
      "      print 'Validation accuracy: %.1f%%' % accuracy(\n",
      "        valid_prediction.eval(), valid_labels)\n",
      "  print 'Test accuracy: %.1f%%' % accuracy(test_prediction.eval(), test_labels)"
     ],
     "language": "python",
     "metadata": {
      "cellView": "both",
      "colab": {
       "autoexec": {
        "startup": false,
        "wait_interval": 0
       },
       "output_extras": [
        {
         "item_id": 9
        }
       ]
      },
      "colab_type": "code",
      "executionInfo": {
       "elapsed": 57454,
       "status": "ok",
       "timestamp": 1449847994134,
       "user": {
        "color": "",
        "displayName": "",
        "isAnonymous": false,
        "isMe": true,
        "permissionId": "",
        "photoUrl": "",
        "sessionId": "0",
        "userId": ""
       },
       "user_tz": 480
      },
      "id": "z2cjdenH869W",
      "outputId": "4c037ba1-b526-4d8e-e632-91e2a0333267"
     },
     "outputs": [
      {
       "output_type": "stream",
       "stream": "stdout",
       "text": [
        "Initialized\n",
        "Loss at step"
       ]
      },
      {
       "output_type": "stream",
       "stream": "stdout",
       "text": [
        " 0 : 16.5683\n",
        "Training accuracy: 13.5%\n",
        "Validation accuracy: 15.0%"
       ]
      },
      {
       "output_type": "stream",
       "stream": "stdout",
       "text": [
        "\n",
        "Loss at step"
       ]
      },
      {
       "output_type": "stream",
       "stream": "stdout",
       "text": [
        " 100 : 2.42239\n",
        "Training accuracy: 71.3%\n",
        "Validation accuracy: 70.2%"
       ]
      },
      {
       "output_type": "stream",
       "stream": "stdout",
       "text": [
        "\n",
        "Loss at step"
       ]
      },
      {
       "output_type": "stream",
       "stream": "stdout",
       "text": [
        " 200 : 1.92741\n",
        "Training accuracy: 74.0%\n",
        "Validation accuracy: 72.5%"
       ]
      },
      {
       "output_type": "stream",
       "stream": "stdout",
       "text": [
        "\n",
        "Loss at step"
       ]
      },
      {
       "output_type": "stream",
       "stream": "stdout",
       "text": [
        " 300 : 1.66265\n",
        "Training accuracy: 75.4%\n",
        "Validation accuracy: 73.5%"
       ]
      },
      {
       "output_type": "stream",
       "stream": "stdout",
       "text": [
        "\n",
        "Test accuracy: 81.4%"
       ]
      },
      {
       "output_type": "stream",
       "stream": "stdout",
       "text": [
        "\n"
       ]
      }
     ],
     "prompt_number": 11
    },
    {
     "cell_type": "markdown",
     "metadata": {
      "colab_type": "text",
      "id": "x68f-hxRGm3H"
     },
     "source": [
      "Let's now switch to stochastic gradient descent training instead, which is much faster.\n",
      "\n",
      "The graph will be similar, except that instead of holding all the training data into a constant node, we create a `Placeholder` node which will be fed actual data at every call of `sesion.run()`."
     ]
    },
    {
     "cell_type": "code",
     "collapsed": false,
     "input": [
      "batch_size = 128\n",
      "\n",
      "graph = tf.Graph()\n",
      "with graph.as_default():\n",
      "\n",
      "  # Input data. For the training data, we use a placeholder that will be fed\n",
      "  # at run time with a training minibatch.\n",
      "  tf_train_dataset = tf.placeholder(tf.float32,\n",
      "                                    shape=(batch_size, image_size * image_size))\n",
      "  tf_train_labels = tf.placeholder(tf.float32, shape=(batch_size, num_labels))\n",
      "  tf_valid_dataset = tf.constant(valid_dataset)\n",
      "  tf_test_dataset = tf.constant(test_dataset)\n",
      "  \n",
      "  # Variables.\n",
      "  weights = tf.Variable(\n",
      "    tf.truncated_normal([image_size * image_size, num_labels]))\n",
      "  biases = tf.Variable(tf.zeros([num_labels]))\n",
      "  \n",
      "  # Training computation.\n",
      "  logits = tf.matmul(tf_train_dataset, weights) + biases\n",
      "  loss = tf.reduce_mean(\n",
      "    tf.nn.softmax_cross_entropy_with_logits(logits, tf_train_labels))\n",
      "  \n",
      "  # Optimizer.\n",
      "  optimizer = tf.train.GradientDescentOptimizer(0.5).minimize(loss)\n",
      "    \n",
      "  \n",
      "  # Predictions for the training, validation, and test data.\n",
      "  train_prediction = tf.nn.softmax(logits)\n",
      "  valid_prediction = tf.nn.softmax(tf.matmul(tf_valid_dataset, weights) + biases)\n",
      "  test_prediction = tf.nn.softmax(tf.matmul(tf_test_dataset, weights) + biases)"
     ],
     "language": "python",
     "metadata": {
      "cellView": "both",
      "colab": {
       "autoexec": {
        "startup": false,
        "wait_interval": 0
       }
      },
      "colab_type": "code",
      "id": "qhPMzWYRGrzM"
     },
     "outputs": [],
     "prompt_number": 19
    },
    {
     "cell_type": "markdown",
     "metadata": {
      "colab_type": "text",
      "id": "XmVZESmtG4JH"
     },
     "source": [
      "Let's run it:"
     ]
    },
    {
     "cell_type": "code",
     "collapsed": false,
     "input": [
      "num_steps = 20001\n",
      "\n",
      "with tf.Session(graph=graph) as session:\n",
      "  tf.initialize_all_variables().run()\n",
      "  print \"Initialized\"\n",
      "  for step in xrange(num_steps):\n",
      "    # Pick an offset within the training data, which has been randomized.\n",
      "    # Note: we could use better randomization across epochs.\n",
      "    offset = (step * batch_size) % (train_labels.shape[0] - batch_size)\n",
      "    # Generate a minibatch.\n",
      "    batch_data = train_dataset[offset:(offset + batch_size), :]\n",
      "    batch_labels = train_labels[offset:(offset + batch_size), :]\n",
      "    # Prepare a dictionary telling the session where to feed the minibatch.\n",
      "    # The key of the dictionary is the placeholder node of the graph to be fed,\n",
      "    # and the value is the numpy array to feed to it.\n",
      "    feed_dict = {tf_train_dataset : batch_data, tf_train_labels : batch_labels}\n",
      "    _, l, predictions = session.run(\n",
      "      [optimizer, loss, train_prediction], feed_dict=feed_dict)\n",
      "    if (step % 500 == 0):\n",
      "      print \"Minibatch loss at step\", step, \":\", l\n",
      "      print \"Minibatch accuracy: %.1f%%\" % accuracy(predictions, batch_labels)\n",
      "      print \"Validation accuracy: %.1f%%\" % accuracy(\n",
      "        valid_prediction.eval(), valid_labels)\n",
      "  print \"Test accuracy: %.1f%%\" % accuracy(test_prediction.eval(), test_labels)"
     ],
     "language": "python",
     "metadata": {
      "cellView": "both",
      "colab": {
       "autoexec": {
        "startup": false,
        "wait_interval": 0
       },
       "output_extras": [
        {
         "item_id": 6
        }
       ]
      },
      "colab_type": "code",
      "executionInfo": {
       "elapsed": 66292,
       "status": "ok",
       "timestamp": 1449848003013,
       "user": {
        "color": "",
        "displayName": "",
        "isAnonymous": false,
        "isMe": true,
        "permissionId": "",
        "photoUrl": "",
        "sessionId": "0",
        "userId": ""
       },
       "user_tz": 480
      },
      "id": "FoF91pknG_YW",
      "outputId": "d255c80e-954d-4183-ca1c-c7333ce91d0a"
     },
     "outputs": [
      {
       "output_type": "stream",
       "stream": "stdout",
       "text": [
        "Initialized\n",
        "Minibatch loss at step 0 : 20.3029\n",
        "Minibatch accuracy: 5.5%\n",
        "Validation accuracy: 7.9%"
       ]
      },
      {
       "output_type": "stream",
       "stream": "stdout",
       "text": [
        "\n",
        "Minibatch loss at step"
       ]
      },
      {
       "output_type": "stream",
       "stream": "stdout",
       "text": [
        " 500 : 1.35541\n",
        "Minibatch accuracy: 80.5%\n",
        "Validation accuracy: 75.3%"
       ]
      },
      {
       "output_type": "stream",
       "stream": "stdout",
       "text": [
        "\n",
        "Minibatch loss at step"
       ]
      },
      {
       "output_type": "stream",
       "stream": "stdout",
       "text": [
        " 1000 : 1.22848\n",
        "Minibatch accuracy: 77.3%\n",
        "Validation accuracy: 76.3%"
       ]
      },
      {
       "output_type": "stream",
       "stream": "stdout",
       "text": [
        "\n",
        "Minibatch loss at step"
       ]
      },
      {
       "output_type": "stream",
       "stream": "stdout",
       "text": [
        " 1500 : 0.84388\n",
        "Minibatch accuracy: 82.0%\n",
        "Validation accuracy: 77.3%"
       ]
      },
      {
       "output_type": "stream",
       "stream": "stdout",
       "text": [
        "\n",
        "Minibatch loss at step"
       ]
      },
      {
       "output_type": "stream",
       "stream": "stdout",
       "text": [
        " 2000 : 1.19609\n",
        "Minibatch accuracy: 78.9%\n",
        "Validation accuracy: 77.5%"
       ]
      },
      {
       "output_type": "stream",
       "stream": "stdout",
       "text": [
        "\n",
        "Minibatch loss at step"
       ]
      },
      {
       "output_type": "stream",
       "stream": "stdout",
       "text": [
        " 2500 : 1.06692\n",
        "Minibatch accuracy: 79.7%\n",
        "Validation accuracy: 78.4%"
       ]
      },
      {
       "output_type": "stream",
       "stream": "stdout",
       "text": [
        "\n",
        "Minibatch loss at step"
       ]
      },
      {
       "output_type": "stream",
       "stream": "stdout",
       "text": [
        " 3000 : 1.09057\n",
        "Minibatch accuracy: 73.4%\n",
        "Validation accuracy: 78.5%"
       ]
      },
      {
       "output_type": "stream",
       "stream": "stdout",
       "text": [
        "\n",
        "Minibatch loss at step"
       ]
      },
      {
       "output_type": "stream",
       "stream": "stdout",
       "text": [
        " 3500 : 1.03204\n",
        "Minibatch accuracy: 80.5%\n",
        "Validation accuracy: 78.5%"
       ]
      },
      {
       "output_type": "stream",
       "stream": "stdout",
       "text": [
        "\n",
        "Minibatch loss at step"
       ]
      },
      {
       "output_type": "stream",
       "stream": "stdout",
       "text": [
        " 4000 : 0.752965\n",
        "Minibatch accuracy: 78.9%\n",
        "Validation accuracy: 78.7%"
       ]
      },
      {
       "output_type": "stream",
       "stream": "stdout",
       "text": [
        "\n",
        "Minibatch loss at step"
       ]
      },
      {
       "output_type": "stream",
       "stream": "stdout",
       "text": [
        " 4500 : 1.07116\n",
        "Minibatch accuracy: 78.9%\n",
        "Validation accuracy: 79.4%"
       ]
      },
      {
       "output_type": "stream",
       "stream": "stdout",
       "text": [
        "\n",
        "Minibatch loss at step"
       ]
      },
      {
       "output_type": "stream",
       "stream": "stdout",
       "text": [
        " 5000 : 1.0406\n",
        "Minibatch accuracy: 75.0%\n",
        "Validation accuracy: 79.4%"
       ]
      },
      {
       "output_type": "stream",
       "stream": "stdout",
       "text": [
        "\n",
        "Minibatch loss at step"
       ]
      },
      {
       "output_type": "stream",
       "stream": "stdout",
       "text": [
        " 5500 : 0.771504\n",
        "Minibatch accuracy: 78.9%\n",
        "Validation accuracy: 79.7%"
       ]
      },
      {
       "output_type": "stream",
       "stream": "stdout",
       "text": [
        "\n",
        "Minibatch loss at step"
       ]
      },
      {
       "output_type": "stream",
       "stream": "stdout",
       "text": [
        " 6000 : 0.743084\n",
        "Minibatch accuracy: 78.9%\n",
        "Validation accuracy: 80.0%"
       ]
      },
      {
       "output_type": "stream",
       "stream": "stdout",
       "text": [
        "\n",
        "Minibatch loss at step"
       ]
      },
      {
       "output_type": "stream",
       "stream": "stdout",
       "text": [
        " 6500 : 0.627754\n",
        "Minibatch accuracy: 82.0%\n",
        "Validation accuracy: 79.9%"
       ]
      },
      {
       "output_type": "stream",
       "stream": "stdout",
       "text": [
        "\n",
        "Minibatch loss at step"
       ]
      },
      {
       "output_type": "stream",
       "stream": "stdout",
       "text": [
        " 7000 : 0.732122\n",
        "Minibatch accuracy: 82.0%\n",
        "Validation accuracy: 79.4%"
       ]
      },
      {
       "output_type": "stream",
       "stream": "stdout",
       "text": [
        "\n",
        "Minibatch loss at step"
       ]
      },
      {
       "output_type": "stream",
       "stream": "stdout",
       "text": [
        " 7500 : 0.687065\n",
        "Minibatch accuracy: 84.4%\n",
        "Validation accuracy: 80.5%"
       ]
      },
      {
       "output_type": "stream",
       "stream": "stdout",
       "text": [
        "\n",
        "Minibatch loss at step"
       ]
      },
      {
       "output_type": "stream",
       "stream": "stdout",
       "text": [
        " 8000 : 0.784371\n",
        "Minibatch accuracy: 76.6%\n",
        "Validation accuracy: 80.0%"
       ]
      },
      {
       "output_type": "stream",
       "stream": "stdout",
       "text": [
        "\n",
        "Minibatch loss at step"
       ]
      },
      {
       "output_type": "stream",
       "stream": "stdout",
       "text": [
        " 8500 : 0.935081\n",
        "Minibatch accuracy: 74.2%\n",
        "Validation accuracy: 80.8%"
       ]
      },
      {
       "output_type": "stream",
       "stream": "stdout",
       "text": [
        "\n",
        "Minibatch loss at step"
       ]
      },
      {
       "output_type": "stream",
       "stream": "stdout",
       "text": [
        " 9000 : 0.504658\n",
        "Minibatch accuracy: 88.3%\n",
        "Validation accuracy: 80.4%"
       ]
      },
      {
       "output_type": "stream",
       "stream": "stdout",
       "text": [
        "\n",
        "Minibatch loss at step"
       ]
      },
      {
       "output_type": "stream",
       "stream": "stdout",
       "text": [
        " 9500 : 0.665317\n",
        "Minibatch accuracy: 81.2%\n",
        "Validation accuracy: 80.5%"
       ]
      },
      {
       "output_type": "stream",
       "stream": "stdout",
       "text": [
        "\n",
        "Minibatch loss at step"
       ]
      },
      {
       "output_type": "stream",
       "stream": "stdout",
       "text": [
        " 10000 : 0.519502\n",
        "Minibatch accuracy: 86.7%\n",
        "Validation accuracy: 80.7%"
       ]
      },
      {
       "output_type": "stream",
       "stream": "stdout",
       "text": [
        "\n",
        "Minibatch loss at step"
       ]
      },
      {
       "output_type": "stream",
       "stream": "stdout",
       "text": [
        " 10500 : 0.511319\n",
        "Minibatch accuracy: 84.4%\n",
        "Validation accuracy: 80.6%"
       ]
      },
      {
       "output_type": "stream",
       "stream": "stdout",
       "text": [
        "\n",
        "Minibatch loss at step"
       ]
      },
      {
       "output_type": "stream",
       "stream": "stdout",
       "text": [
        " 11000 : 0.977604\n",
        "Minibatch accuracy: 73.4%\n",
        "Validation accuracy: 80.8%"
       ]
      },
      {
       "output_type": "stream",
       "stream": "stdout",
       "text": [
        "\n",
        "Minibatch loss at step"
       ]
      },
      {
       "output_type": "stream",
       "stream": "stdout",
       "text": [
        " 11500 : 0.689312\n",
        "Minibatch accuracy: 76.6%\n",
        "Validation accuracy: 80.5%"
       ]
      },
      {
       "output_type": "stream",
       "stream": "stdout",
       "text": [
        "\n",
        "Minibatch loss at step"
       ]
      },
      {
       "output_type": "stream",
       "stream": "stdout",
       "text": [
        " 12000 : 1.00492\n",
        "Minibatch accuracy: 75.0%\n",
        "Validation accuracy: 80.9%"
       ]
      },
      {
       "output_type": "stream",
       "stream": "stdout",
       "text": [
        "\n",
        "Minibatch loss at step"
       ]
      },
      {
       "output_type": "stream",
       "stream": "stdout",
       "text": [
        " 12500 : 0.661755\n",
        "Minibatch accuracy: 82.8%\n",
        "Validation accuracy: 81.0%"
       ]
      },
      {
       "output_type": "stream",
       "stream": "stdout",
       "text": [
        "\n",
        "Minibatch loss at step"
       ]
      },
      {
       "output_type": "stream",
       "stream": "stdout",
       "text": [
        " 13000 : 0.730574\n",
        "Minibatch accuracy: 77.3%\n",
        "Validation accuracy: 81.2%"
       ]
      },
      {
       "output_type": "stream",
       "stream": "stdout",
       "text": [
        "\n",
        "Minibatch loss at step"
       ]
      },
      {
       "output_type": "stream",
       "stream": "stdout",
       "text": [
        " 13500 : 0.613144\n",
        "Minibatch accuracy: 79.7%\n",
        "Validation accuracy: 79.5%"
       ]
      },
      {
       "output_type": "stream",
       "stream": "stdout",
       "text": [
        "\n",
        "Minibatch loss at step"
       ]
      },
      {
       "output_type": "stream",
       "stream": "stdout",
       "text": [
        " 14000 : 0.485519\n",
        "Minibatch accuracy: 84.4%\n",
        "Validation accuracy: 80.8%"
       ]
      },
      {
       "output_type": "stream",
       "stream": "stdout",
       "text": [
        "\n",
        "Minibatch loss at step"
       ]
      },
      {
       "output_type": "stream",
       "stream": "stdout",
       "text": [
        " 14500 : 0.898629\n",
        "Minibatch accuracy: 82.0%\n",
        "Validation accuracy: 81.0%"
       ]
      },
      {
       "output_type": "stream",
       "stream": "stdout",
       "text": [
        "\n",
        "Minibatch loss at step"
       ]
      },
      {
       "output_type": "stream",
       "stream": "stdout",
       "text": [
        " 15000 : 0.467611\n",
        "Minibatch accuracy: 85.2%\n",
        "Validation accuracy: 81.2%"
       ]
      },
      {
       "output_type": "stream",
       "stream": "stdout",
       "text": [
        "\n",
        "Minibatch loss at step"
       ]
      },
      {
       "output_type": "stream",
       "stream": "stdout",
       "text": [
        " 15500 : 0.513581\n",
        "Minibatch accuracy: 83.6%\n",
        "Validation accuracy: 81.4%"
       ]
      },
      {
       "output_type": "stream",
       "stream": "stdout",
       "text": [
        "\n",
        "Minibatch loss at step"
       ]
      },
      {
       "output_type": "stream",
       "stream": "stdout",
       "text": [
        " 16000 : 0.625393\n",
        "Minibatch accuracy: 82.8%\n",
        "Validation accuracy: 81.2%"
       ]
      },
      {
       "output_type": "stream",
       "stream": "stdout",
       "text": [
        "\n",
        "Minibatch loss at step"
       ]
      },
      {
       "output_type": "stream",
       "stream": "stdout",
       "text": [
        " 16500 : 0.490991\n",
        "Minibatch accuracy: 84.4%\n",
        "Validation accuracy: 81.4%"
       ]
      },
      {
       "output_type": "stream",
       "stream": "stdout",
       "text": [
        "\n",
        "Minibatch loss at step"
       ]
      },
      {
       "output_type": "stream",
       "stream": "stdout",
       "text": [
        " 17000 : 0.729065\n",
        "Minibatch accuracy: 80.5%\n",
        "Validation accuracy: 81.7%"
       ]
      },
      {
       "output_type": "stream",
       "stream": "stdout",
       "text": [
        "\n",
        "Minibatch loss at step"
       ]
      },
      {
       "output_type": "stream",
       "stream": "stdout",
       "text": [
        " 17500 : 0.717017\n",
        "Minibatch accuracy: 77.3%\n",
        "Validation accuracy: 81.0%"
       ]
      },
      {
       "output_type": "stream",
       "stream": "stdout",
       "text": [
        "\n",
        "Minibatch loss at step"
       ]
      },
      {
       "output_type": "stream",
       "stream": "stdout",
       "text": [
        " 18000 : 0.743055\n",
        "Minibatch accuracy: 79.7%\n",
        "Validation accuracy: 81.2%"
       ]
      },
      {
       "output_type": "stream",
       "stream": "stdout",
       "text": [
        "\n",
        "Minibatch loss at step"
       ]
      },
      {
       "output_type": "stream",
       "stream": "stdout",
       "text": [
        " 18500 : 0.596614\n",
        "Minibatch accuracy: 85.2%\n",
        "Validation accuracy: 81.3%"
       ]
      },
      {
       "output_type": "stream",
       "stream": "stdout",
       "text": [
        "\n",
        "Minibatch loss at step"
       ]
      },
      {
       "output_type": "stream",
       "stream": "stdout",
       "text": [
        " 19000 : 0.662783\n",
        "Minibatch accuracy: 82.8%\n",
        "Validation accuracy: 81.2%"
       ]
      },
      {
       "output_type": "stream",
       "stream": "stdout",
       "text": [
        "\n",
        "Minibatch loss at step"
       ]
      },
      {
       "output_type": "stream",
       "stream": "stdout",
       "text": [
        " 19500 : 0.567912\n",
        "Minibatch accuracy: 85.9%\n",
        "Validation accuracy: 81.6%"
       ]
      },
      {
       "output_type": "stream",
       "stream": "stdout",
       "text": [
        "\n",
        "Minibatch loss at step"
       ]
      },
      {
       "output_type": "stream",
       "stream": "stdout",
       "text": [
        " 20000 : 0.724679\n",
        "Minibatch accuracy: 82.8%\n",
        "Validation accuracy: 81.9%"
       ]
      },
      {
       "output_type": "stream",
       "stream": "stdout",
       "text": [
        "\n",
        "Test accuracy: 89.0%"
       ]
      },
      {
       "output_type": "stream",
       "stream": "stdout",
       "text": [
        "\n"
       ]
      }
     ],
     "prompt_number": 22
    },
    {
     "cell_type": "markdown",
     "metadata": {
      "colab_type": "text",
      "id": "7omWxtvLLxik"
     },
     "source": [
      "---\n",
      "Problem\n",
      "-------\n",
      "\n",
      "Turn the logistic regression example with SGD into a 1-hidden layer neural network with rectified linear units (nn.relu()) and 1024 hidden nodes. This model should improve your validation / test accuracy.\n",
      "\n",
      "---"
     ]
    },
    {
     "cell_type": "code",
     "collapsed": false,
     "input": [
      "batch_size = 128\n",
      "\n",
      "num_hid = 1024\n",
      "\n",
      "graph = tf.Graph()\n",
      "with graph.as_default():\n",
      "\n",
      "  # Input data. For the training data, we use a placeholder that will be fed\n",
      "  # at run time with a training minibatch.\n",
      "  tf_train_dataset = tf.placeholder(tf.float32,\n",
      "                                    shape=(batch_size, image_size * image_size))\n",
      "  tf_train_labels = tf.placeholder(tf.float32, shape=(batch_size, num_labels))\n",
      "  tf_valid_dataset = tf.constant(valid_dataset)\n",
      "  tf_test_dataset = tf.constant(test_dataset)\n",
      "  \n",
      "  # Variables.\n",
      "  #hidden layer\n",
      "  w_hid = tf.Variable(\n",
      "    tf.truncated_normal([image_size * image_size, num_hid]))\n",
      "  b_hid = tf.Variable(tf.zeros([num_hid]))\n",
      "  #output layer  \n",
      "  weights = tf.Variable(\n",
      "    tf.truncated_normal([num_hid, num_labels]))\n",
      "  biases = tf.Variable(tf.zeros([num_labels]))\n",
      "  \n",
      "  # Training computation.\n",
      "  out_hid = tf.nn.relu(tf.matmul(tf_train_dataset, w_hid) + b_hid)\n",
      "  logits = tf.matmul(out_hid, weights) + biases\n",
      "  loss = tf.reduce_mean(\n",
      "    tf.nn.softmax_cross_entropy_with_logits(logits, tf_train_labels))\n",
      "  \n",
      "  # Optimizer.\n",
      "  optimizer = tf.train.GradientDescentOptimizer(0.5).minimize(loss)\n",
      "    \n",
      "  \n",
      "  # Predictions for the training, validation, and test data.\n",
      "  train_prediction = tf.nn.softmax(logits)\n",
      "  v_out_hid = tf.nn.relu(tf.matmul(tf_valid_dataset, w_hid) + b_hid)\n",
      "  v_logits = tf.matmul(v_out_hid, weights) + biases\n",
      "  valid_prediction = tf.nn.softmax(v_logits)\n",
      "  t_out_hid = tf.nn.relu(tf.matmul(tf_test_dataset, w_hid) + b_hid)\n",
      "  t_logits = tf.matmul(t_out_hid, weights) + biases  \n",
      "  test_prediction = tf.nn.softmax(t_logits)"
     ],
     "language": "python",
     "metadata": {},
     "outputs": [],
     "prompt_number": 23
    },
    {
     "cell_type": "code",
     "collapsed": false,
     "input": [
      "num_steps = 20001\n",
      "\n",
      "with tf.Session(graph=graph) as session:\n",
      "  tf.initialize_all_variables().run()\n",
      "  print \"Initialized\"\n",
      "  for step in xrange(num_steps):\n",
      "    # Pick an offset within the training data, which has been randomized.\n",
      "    # Note: we could use better randomization across epochs.\n",
      "    offset = (step * batch_size) % (train_labels.shape[0] - batch_size)\n",
      "    # Generate a minibatch.\n",
      "    batch_data = train_dataset[offset:(offset + batch_size), :]\n",
      "    batch_labels = train_labels[offset:(offset + batch_size), :]\n",
      "    # Prepare a dictionary telling the session where to feed the minibatch.\n",
      "    # The key of the dictionary is the placeholder node of the graph to be fed,\n",
      "    # and the value is the numpy array to feed to it.\n",
      "    feed_dict = {tf_train_dataset : batch_data, tf_train_labels : batch_labels}\n",
      "    _, l, predictions = session.run(\n",
      "      [optimizer, loss, train_prediction], feed_dict=feed_dict)\n",
      "    if (step % 500 == 0):\n",
      "      print \"Minibatch loss at step\", step, \":\", l\n",
      "      print \"Minibatch accuracy: %.1f%%\" % accuracy(predictions, batch_labels)\n",
      "      print \"Validation accuracy: %.1f%%\" % accuracy(\n",
      "        valid_prediction.eval(), valid_labels)\n",
      "  print \"Test accuracy: %.1f%%\" % accuracy(test_prediction.eval(), test_labels)"
     ],
     "language": "python",
     "metadata": {},
     "outputs": [
      {
       "output_type": "stream",
       "stream": "stdout",
       "text": [
        "Initialized\n",
        "Minibatch loss at step"
       ]
      },
      {
       "output_type": "stream",
       "stream": "stdout",
       "text": [
        " 0 : 346.467\n",
        "Minibatch accuracy: 13.3%\n",
        "Validation accuracy: 37.1%"
       ]
      },
      {
       "output_type": "stream",
       "stream": "stdout",
       "text": [
        "\n",
        "Minibatch loss at step"
       ]
      },
      {
       "output_type": "stream",
       "stream": "stdout",
       "text": [
        " 500 : 13.6819\n",
        "Minibatch accuracy: 80.5%\n",
        "Validation accuracy: 79.3%"
       ]
      },
      {
       "output_type": "stream",
       "stream": "stdout",
       "text": [
        "\n",
        "Minibatch loss at step"
       ]
      },
      {
       "output_type": "stream",
       "stream": "stdout",
       "text": [
        " 1000 : 4.00732\n",
        "Minibatch accuracy: 85.2%\n",
        "Validation accuracy: 81.4%"
       ]
      },
      {
       "output_type": "stream",
       "stream": "stdout",
       "text": [
        "\n",
        "Minibatch loss at step"
       ]
      },
      {
       "output_type": "stream",
       "stream": "stdout",
       "text": [
        " 1500 : 3.4808\n",
        "Minibatch accuracy: 85.2%\n",
        "Validation accuracy: 81.3%"
       ]
      },
      {
       "output_type": "stream",
       "stream": "stdout",
       "text": [
        "\n",
        "Minibatch loss at step"
       ]
      },
      {
       "output_type": "stream",
       "stream": "stdout",
       "text": [
        " 2000 : 3.88899\n",
        "Minibatch accuracy: 84.4%\n",
        "Validation accuracy: 80.9%"
       ]
      },
      {
       "output_type": "stream",
       "stream": "stdout",
       "text": [
        "\n",
        "Minibatch loss at step"
       ]
      },
      {
       "output_type": "stream",
       "stream": "stdout",
       "text": [
        " 2500 : 7.97296\n",
        "Minibatch accuracy: 82.0%\n",
        "Validation accuracy: 81.5%"
       ]
      },
      {
       "output_type": "stream",
       "stream": "stdout",
       "text": [
        "\n",
        "Minibatch loss at step"
       ]
      },
      {
       "output_type": "stream",
       "stream": "stdout",
       "text": [
        " 3000 : 3.74366\n",
        "Minibatch accuracy: 75.0%\n",
        "Validation accuracy: 82.1%"
       ]
      },
      {
       "output_type": "stream",
       "stream": "stdout",
       "text": [
        "\n",
        "Minibatch loss at step"
       ]
      },
      {
       "output_type": "stream",
       "stream": "stdout",
       "text": [
        " 3500 : 2.93965\n",
        "Minibatch accuracy: 81.2%\n",
        "Validation accuracy: 82.0%"
       ]
      },
      {
       "output_type": "stream",
       "stream": "stdout",
       "text": [
        "\n",
        "Minibatch loss at step"
       ]
      },
      {
       "output_type": "stream",
       "stream": "stdout",
       "text": [
        " 4000 : 1.07259\n",
        "Minibatch accuracy: 86.7%\n",
        "Validation accuracy: 82.8%"
       ]
      },
      {
       "output_type": "stream",
       "stream": "stdout",
       "text": [
        "\n",
        "Minibatch loss at step 4500 : 3.33373\n",
        "Minibatch accuracy: 82.8%\n",
        "Validation accuracy: 82.6%\n",
        "Minibatch loss at step"
       ]
      },
      {
       "output_type": "stream",
       "stream": "stdout",
       "text": [
        " 5000 : 3.12787\n",
        "Minibatch accuracy: 83.6%\n",
        "Validation accuracy: 82.0%"
       ]
      },
      {
       "output_type": "stream",
       "stream": "stdout",
       "text": [
        "\n",
        "Minibatch loss at step"
       ]
      },
      {
       "output_type": "stream",
       "stream": "stdout",
       "text": [
        " 5500 : 1.67639\n",
        "Minibatch accuracy: 89.1%\n",
        "Validation accuracy: 83.5%"
       ]
      },
      {
       "output_type": "stream",
       "stream": "stdout",
       "text": [
        "\n",
        "Minibatch loss at step 6000 : 1.18837\n",
        "Minibatch accuracy: 82.8%\n",
        "Validation accuracy: 83.3%\n",
        "Minibatch loss at step"
       ]
      },
      {
       "output_type": "stream",
       "stream": "stdout",
       "text": [
        " 6500 : 1.20809\n",
        "Minibatch accuracy: 87.5%\n",
        "Validation accuracy: 84.1%"
       ]
      },
      {
       "output_type": "stream",
       "stream": "stdout",
       "text": [
        "\n",
        "Minibatch loss at step"
       ]
      },
      {
       "output_type": "stream",
       "stream": "stdout",
       "text": [
        " 7000 : 2.1149\n",
        "Minibatch accuracy: 90.6%\n",
        "Validation accuracy: 83.2%"
       ]
      },
      {
       "output_type": "stream",
       "stream": "stdout",
       "text": [
        "\n",
        "Minibatch loss at step"
       ]
      },
      {
       "output_type": "stream",
       "stream": "stdout",
       "text": [
        " 7500 : 3.80064\n",
        "Minibatch accuracy: 85.9%\n",
        "Validation accuracy: 84.2%"
       ]
      },
      {
       "output_type": "stream",
       "stream": "stdout",
       "text": [
        "\n",
        "Minibatch loss at step"
       ]
      },
      {
       "output_type": "stream",
       "stream": "stdout",
       "text": [
        " 8000 : 0.642428\n",
        "Minibatch accuracy: 91.4%\n",
        "Validation accuracy: 84.5%"
       ]
      },
      {
       "output_type": "stream",
       "stream": "stdout",
       "text": [
        "\n",
        "Minibatch loss at step 8500 : 1.08133\n",
        "Minibatch accuracy: 85.9%\n",
        "Validation accuracy: 84.1%\n",
        "Minibatch loss at step"
       ]
      },
      {
       "output_type": "stream",
       "stream": "stdout",
       "text": [
        " 9000 : 0.708423\n",
        "Minibatch accuracy: 91.4%\n",
        "Validation accuracy: 84.0%"
       ]
      },
      {
       "output_type": "stream",
       "stream": "stdout",
       "text": [
        "\n",
        "Minibatch loss at step 9500 : 1.63723\n",
        "Minibatch accuracy: 86.7%\n",
        "Validation accuracy: 84.1%\n",
        "Minibatch loss at step"
       ]
      },
      {
       "output_type": "stream",
       "stream": "stdout",
       "text": [
        " 10000 : 2.64471\n",
        "Minibatch accuracy: 91.4%\n",
        "Validation accuracy: 84.4%"
       ]
      },
      {
       "output_type": "stream",
       "stream": "stdout",
       "text": [
        "\n",
        "Minibatch loss at step"
       ]
      },
      {
       "output_type": "stream",
       "stream": "stdout",
       "text": [
        " 10500 : 1.20855\n",
        "Minibatch accuracy: 90.6%\n",
        "Validation accuracy: 84.6%"
       ]
      },
      {
       "output_type": "stream",
       "stream": "stdout",
       "text": [
        "\n",
        "Minibatch loss at step"
       ]
      },
      {
       "output_type": "stream",
       "stream": "stdout",
       "text": [
        " 11000 : 1.6029\n",
        "Minibatch accuracy: 86.7%\n",
        "Validation accuracy: 83.2%"
       ]
      },
      {
       "output_type": "stream",
       "stream": "stdout",
       "text": [
        "\n",
        "Minibatch loss at step"
       ]
      },
      {
       "output_type": "stream",
       "stream": "stdout",
       "text": [
        " 11500 : 0.588835\n",
        "Minibatch accuracy: 90.6%\n",
        "Validation accuracy: 85.0%"
       ]
      },
      {
       "output_type": "stream",
       "stream": "stdout",
       "text": [
        "\n",
        "Minibatch loss at step"
       ]
      },
      {
       "output_type": "stream",
       "stream": "stdout",
       "text": [
        " 12000 : 1.06412\n",
        "Minibatch accuracy: 93.0%\n",
        "Validation accuracy: 84.7%"
       ]
      },
      {
       "output_type": "stream",
       "stream": "stdout",
       "text": [
        "\n",
        "Minibatch loss at step"
       ]
      },
      {
       "output_type": "stream",
       "stream": "stdout",
       "text": [
        " 12500 : 1.64729\n",
        "Minibatch accuracy: 91.4%\n",
        "Validation accuracy: 84.2%"
       ]
      },
      {
       "output_type": "stream",
       "stream": "stdout",
       "text": [
        "\n",
        "Minibatch loss at step"
       ]
      },
      {
       "output_type": "stream",
       "stream": "stdout",
       "text": [
        " 13000 : 1.3793\n",
        "Minibatch accuracy: 89.1%\n",
        "Validation accuracy: 85.1%"
       ]
      },
      {
       "output_type": "stream",
       "stream": "stdout",
       "text": [
        "\n",
        "Minibatch loss at step"
       ]
      },
      {
       "output_type": "stream",
       "stream": "stdout",
       "text": [
        " 13500 : 0.726708\n",
        "Minibatch accuracy: 85.9%\n",
        "Validation accuracy: 85.2%"
       ]
      },
      {
       "output_type": "stream",
       "stream": "stdout",
       "text": [
        "\n",
        "Minibatch loss at step 14000 : 0.49586\n",
        "Minibatch accuracy: 90.6%\n",
        "Validation accuracy: 85.1%\n",
        "Minibatch loss at step"
       ]
      },
      {
       "output_type": "stream",
       "stream": "stdout",
       "text": [
        " 14500 : 0.431785\n",
        "Minibatch accuracy: 91.4%\n",
        "Validation accuracy: 85.2%"
       ]
      },
      {
       "output_type": "stream",
       "stream": "stdout",
       "text": [
        "\n",
        "Minibatch loss at step"
       ]
      },
      {
       "output_type": "stream",
       "stream": "stdout",
       "text": [
        " 15000 : 0.155435\n",
        "Minibatch accuracy: 95.3%\n",
        "Validation accuracy: 85.0%"
       ]
      },
      {
       "output_type": "stream",
       "stream": "stdout",
       "text": [
        "\n",
        "Minibatch loss at step"
       ]
      },
      {
       "output_type": "stream",
       "stream": "stdout",
       "text": [
        " 15500 : 0.53317\n",
        "Minibatch accuracy: 93.0%\n",
        "Validation accuracy: 85.3%"
       ]
      },
      {
       "output_type": "stream",
       "stream": "stdout",
       "text": [
        "\n",
        "Minibatch loss at step"
       ]
      },
      {
       "output_type": "stream",
       "stream": "stdout",
       "text": [
        " 16000 : 0.317132\n",
        "Minibatch accuracy: 94.5%\n",
        "Validation accuracy: 85.0%"
       ]
      },
      {
       "output_type": "stream",
       "stream": "stdout",
       "text": [
        "\n",
        "Minibatch loss at step"
       ]
      },
      {
       "output_type": "stream",
       "stream": "stdout",
       "text": [
        " 16500 : 0.43809\n",
        "Minibatch accuracy: 91.4%\n",
        "Validation accuracy: 85.4%"
       ]
      },
      {
       "output_type": "stream",
       "stream": "stdout",
       "text": [
        "\n",
        "Minibatch loss at step"
       ]
      },
      {
       "output_type": "stream",
       "stream": "stdout",
       "text": [
        " 17000 : 0.581846\n",
        "Minibatch accuracy: 89.1%\n",
        "Validation accuracy: 85.4%"
       ]
      },
      {
       "output_type": "stream",
       "stream": "stdout",
       "text": [
        "\n",
        "Minibatch loss at step"
       ]
      },
      {
       "output_type": "stream",
       "stream": "stdout",
       "text": [
        " 17500 : 0.577273\n",
        "Minibatch accuracy: 89.8%\n",
        "Validation accuracy: 85.6%"
       ]
      },
      {
       "output_type": "stream",
       "stream": "stdout",
       "text": [
        "\n",
        "Minibatch loss at step"
       ]
      },
      {
       "output_type": "stream",
       "stream": "stdout",
       "text": [
        " 18000 : 0.478189\n",
        "Minibatch accuracy: 90.6%\n",
        "Validation accuracy: 85.8%"
       ]
      },
      {
       "output_type": "stream",
       "stream": "stdout",
       "text": [
        "\n",
        "Minibatch loss at step"
       ]
      },
      {
       "output_type": "stream",
       "stream": "stdout",
       "text": [
        " 18500 : 0.530117\n",
        "Minibatch accuracy: 89.1%\n",
        "Validation accuracy: 85.2%"
       ]
      },
      {
       "output_type": "stream",
       "stream": "stdout",
       "text": [
        "\n",
        "Minibatch loss at step 19000 : 0.230807\n",
        "Minibatch accuracy: 93.0%\n",
        "Validation accuracy: 85.3%\n",
        "Minibatch loss at step"
       ]
      },
      {
       "output_type": "stream",
       "stream": "stdout",
       "text": [
        " 19500 : 0.254751\n",
        "Minibatch accuracy: 93.0%\n",
        "Validation accuracy: 85.6%"
       ]
      },
      {
       "output_type": "stream",
       "stream": "stdout",
       "text": [
        "\n",
        "Minibatch loss at step 20000 : 0.262023\n",
        "Minibatch accuracy: 93.8%\n",
        "Validation accuracy: 85.7%\n",
        "Test accuracy: 91.8%\n"
       ]
      }
     ],
     "prompt_number": 24
    },
    {
     "cell_type": "markdown",
     "metadata": {},
     "source": [
      "With no hidden layers and 5000 steps, i get 87.0 % on test data/\n",
      "With 1 hidden layer with 1024 relu's and 5000 steps, i got 89.0 % on test data.\n",
      "Hm...\n",
      "I got 89.0% with no hidden layers with 20000 steps.\n",
      "And 91.8% with 1 hidden layer and 20000 steps.\n",
      "Seems, there is some space to fit both these nets more."
     ]
    },
    {
     "cell_type": "code",
     "collapsed": false,
     "input": [],
     "language": "python",
     "metadata": {},
     "outputs": []
    }
   ],
   "metadata": {}
  }
 ]
}