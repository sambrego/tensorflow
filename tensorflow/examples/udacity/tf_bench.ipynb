{
 "cells": [
  {
   "cell_type": "markdown",
   "metadata": {},
   "source": [
    "# Tensorflow benchmark, yep\n",
    "So, let's do it!"
   ]
  },
  {
   "cell_type": "code",
   "execution_count": 4,
   "metadata": {
    "collapsed": true
   },
   "outputs": [],
   "source": [
    "import numpy as np\n",
    "import tensorflow as tf\n",
    "from timeit import default_timer as timer"
   ]
  },
  {
   "cell_type": "code",
   "execution_count": 15,
   "metadata": {
    "collapsed": false
   },
   "outputs": [
    {
     "name": "stdout",
     "output_type": "stream",
     "text": [
      "(10, ' cycles of matmul(m1[', 1024, ', ', 1024, '], m2[', 1024, ', ', 1024, '])')\n",
      "('Estimated FLOp: ', 21464350720)\n",
      "('Estimated time: ', 0.9783720970153809, ' seconds')\n",
      "('Totally ', 21.938841863416883, ' GFLOPS')\n"
     ]
    },
    {
     "data": {
      "text/plain": [
       "21938841863.41688"
      ]
     },
     "execution_count": 15,
     "metadata": {},
     "output_type": "execute_result"
    }
   ],
   "source": [
    "\n",
    "def matmul_flop(i,j,k):\n",
    "    return (2*i*j*k - i*k)\n",
    "\n",
    "def bench(cycles):\n",
    "    i = 1024\n",
    "    j = 1024\n",
    "    k = 1024\n",
    "    \n",
    "    graph = tf.Graph()\n",
    "    with graph.as_default():\n",
    "        m1 = tf.Variable(tf.truncated_normal([i, j]))\n",
    "        m2 = tf.Variable(tf.truncated_normal([i, j]))\n",
    "        m3 = tf.matmul(m1,m2)\n",
    "    \n",
    "    #init for further use\n",
    "    #start = timer()\n",
    "    #end = timer()\n",
    "    \n",
    "    with tf.Session(graph=graph) as session:\n",
    "        tf.initialize_all_variables().run()\n",
    "        start = timer()\n",
    "        for m in xrange(cycles):\n",
    "            m3.eval()\n",
    "        end = timer()\n",
    "        \n",
    "    flops = (cycles*matmul_flop(i,j,k))/(end - start)\n",
    "    \n",
    "    print(cycles,\" cycles of matmul(m1[\",i,\", \",j,\"], m2[\",j,\", \",k,\"])\")\n",
    "    print(\"Estimated FLOp: \", cycles*matmul_flop(i,j,k))\n",
    "    print(\"Estimated time: \", (end - start),\" seconds\")\n",
    "    print(\"Totally \", flops/1000000000, \" GFLOPS\")\n",
    "    return flops;\n",
    "\n",
    "bench(10)"
   ]
  },
  {
   "cell_type": "markdown",
   "metadata": {},
   "source": [
    "## thank you, thank you... thank you, thank you... whatever"
   ]
  },
  {
   "cell_type": "code",
   "execution_count": null,
   "metadata": {
    "collapsed": true
   },
   "outputs": [],
   "source": []
  }
 ],
 "metadata": {
  "kernelspec": {
   "display_name": "Python 2",
   "language": "python",
   "name": "python2"
  },
  "language_info": {
   "codemirror_mode": {
    "name": "ipython",
    "version": 2
   },
   "file_extension": ".py",
   "mimetype": "text/x-python",
   "name": "python",
   "nbconvert_exporter": "python",
   "pygments_lexer": "ipython2",
   "version": "2.7.9"
  }
 },
 "nbformat": 4,
 "nbformat_minor": 0
}
