{
 "cells": [
  {
   "cell_type": "markdown",
   "metadata": {
    "colab_type": "text",
    "id": "D7tqLMoKF6uq"
   },
   "source": [
    "Deep Learning\n",
    "=============\n",
    "\n",
    "Assignment 5\n",
    "------------\n",
    "\n",
    "The goal of this assignment is to train a skip-gram model over [Text8](http://mattmahoney.net/dc/textdata) data."
   ]
  },
  {
   "cell_type": "code",
   "execution_count": 48,
   "metadata": {
    "cellView": "both",
    "colab": {
     "autoexec": {
      "startup": false,
      "wait_interval": 0
     }
    },
    "colab_type": "code",
    "collapsed": false,
    "id": "0K1ZyLn04QZf"
   },
   "outputs": [],
   "source": [
    "# These are all the modules we'll be using later. Make sure you can import them\n",
    "# before proceeding further.\n",
    "from __future__ import print_function\n",
    "import collections\n",
    "import math\n",
    "import numpy as np\n",
    "import os\n",
    "import random\n",
    "import tensorflow as tf\n",
    "import zipfile\n",
    "from matplotlib import pylab\n",
    "from six.moves import range\n",
    "from six.moves.urllib.request import urlretrieve\n",
    "from sklearn.manifold import TSNE"
   ]
  },
  {
   "cell_type": "markdown",
   "metadata": {
    "colab_type": "text",
    "id": "aCjPJE944bkV"
   },
   "source": [
    "Download the data from the source website if necessary."
   ]
  },
  {
   "cell_type": "code",
   "execution_count": 49,
   "metadata": {
    "cellView": "both",
    "colab": {
     "autoexec": {
      "startup": false,
      "wait_interval": 0
     },
     "output_extras": [
      {
       "item_id": 1
      }
     ]
    },
    "colab_type": "code",
    "collapsed": false,
    "executionInfo": {
     "elapsed": 14640,
     "status": "ok",
     "timestamp": 1445964482948,
     "user": {
      "color": "#1FA15D",
      "displayName": "Vincent Vanhoucke",
      "isAnonymous": false,
      "isMe": true,
      "permissionId": "05076109866853157986",
      "photoUrl": "//lh6.googleusercontent.com/-cCJa7dTDcgQ/AAAAAAAAAAI/AAAAAAAACgw/r2EZ_8oYer4/s50-c-k-no/photo.jpg",
      "sessionId": "2f1ffade4c9f20de",
      "userId": "102167687554210253930"
     },
     "user_tz": 420
    },
    "id": "RJ-o3UBUFtCw",
    "outputId": "c4ec222c-80b5-4298-e635-93ca9f79c3b7"
   },
   "outputs": [
    {
     "name": "stdout",
     "output_type": "stream",
     "text": [
      "Found and verified text8.zip\n"
     ]
    }
   ],
   "source": [
    "url = 'http://mattmahoney.net/dc/'\n",
    "\n",
    "def maybe_download(filename, expected_bytes):\n",
    "  \"\"\"Download a file if not present, and make sure it's the right size.\"\"\"\n",
    "  if not os.path.exists(filename):\n",
    "    filename, _ = urlretrieve(url + filename, filename)\n",
    "  statinfo = os.stat(filename)\n",
    "  if statinfo.st_size == expected_bytes:\n",
    "    print('Found and verified %s' % filename)\n",
    "  else:\n",
    "    print(statinfo.st_size)\n",
    "    raise Exception(\n",
    "      'Failed to verify ' + filename + '. Can you get to it with a browser?')\n",
    "  return filename\n",
    "\n",
    "filename = maybe_download('text8.zip', 31344016)"
   ]
  },
  {
   "cell_type": "markdown",
   "metadata": {
    "colab_type": "text",
    "id": "Zqz3XiqI4mZT"
   },
   "source": [
    "Read the data into a string."
   ]
  },
  {
   "cell_type": "code",
   "execution_count": 50,
   "metadata": {
    "cellView": "both",
    "colab": {
     "autoexec": {
      "startup": false,
      "wait_interval": 0
     },
     "output_extras": [
      {
       "item_id": 1
      }
     ]
    },
    "colab_type": "code",
    "collapsed": false,
    "executionInfo": {
     "elapsed": 28844,
     "status": "ok",
     "timestamp": 1445964497165,
     "user": {
      "color": "#1FA15D",
      "displayName": "Vincent Vanhoucke",
      "isAnonymous": false,
      "isMe": true,
      "permissionId": "05076109866853157986",
      "photoUrl": "//lh6.googleusercontent.com/-cCJa7dTDcgQ/AAAAAAAAAAI/AAAAAAAACgw/r2EZ_8oYer4/s50-c-k-no/photo.jpg",
      "sessionId": "2f1ffade4c9f20de",
      "userId": "102167687554210253930"
     },
     "user_tz": 420
    },
    "id": "Mvf09fjugFU_",
    "outputId": "e3a928b4-1645-4fe8-be17-fcf47de5716d"
   },
   "outputs": [
    {
     "name": "stdout",
     "output_type": "stream",
     "text": [
      "Data size 17005207\n"
     ]
    }
   ],
   "source": [
    "import sys\n",
    "sys.path.insert(0,\"/hdd/tensorflow/tensorflow/python/util\")\n",
    "import compat as cp\n",
    "def read_data(filename):\n",
    "  f = zipfile.ZipFile(filename)\n",
    "  for name in f.namelist():\n",
    "    return cp.as_str(f.read(name)).split() #tf.compat.as_str(f.read(name)).split()   \n",
    "  f.close()\n",
    "  \n",
    "words = read_data(filename)\n",
    "print('Data size %d' % len(words))"
   ]
  },
  {
   "cell_type": "markdown",
   "metadata": {
    "colab_type": "text",
    "id": "Zdw6i4F8glpp"
   },
   "source": [
    "Build the dictionary and replace rare words with UNK token."
   ]
  },
  {
   "cell_type": "code",
   "execution_count": 51,
   "metadata": {
    "cellView": "both",
    "colab": {
     "autoexec": {
      "startup": false,
      "wait_interval": 0
     },
     "output_extras": [
      {
       "item_id": 1
      }
     ]
    },
    "colab_type": "code",
    "collapsed": false,
    "executionInfo": {
     "elapsed": 28849,
     "status": "ok",
     "timestamp": 1445964497178,
     "user": {
      "color": "#1FA15D",
      "displayName": "Vincent Vanhoucke",
      "isAnonymous": false,
      "isMe": true,
      "permissionId": "05076109866853157986",
      "photoUrl": "//lh6.googleusercontent.com/-cCJa7dTDcgQ/AAAAAAAAAAI/AAAAAAAACgw/r2EZ_8oYer4/s50-c-k-no/photo.jpg",
      "sessionId": "2f1ffade4c9f20de",
      "userId": "102167687554210253930"
     },
     "user_tz": 420
    },
    "id": "gAL1EECXeZsD",
    "outputId": "3fb4ecd1-df67-44b6-a2dc-2291730970b2"
   },
   "outputs": [
    {
     "name": "stdout",
     "output_type": "stream",
     "text": [
      "Most common words (+UNK) [['UNK', 418391], ('the', 1061396), ('of', 593677), ('and', 416629), ('one', 411764)]\n",
      "Sample data [5239, 3084, 12, 6, 195, 2, 3137, 46, 59, 156]\n"
     ]
    }
   ],
   "source": [
    "vocabulary_size = 50000\n",
    "\n",
    "def build_dataset(words):\n",
    "  count = [['UNK', -1]]\n",
    "  count.extend(collections.Counter(words).most_common(vocabulary_size - 1))\n",
    "  dictionary = dict()\n",
    "  for word, _ in count:\n",
    "    dictionary[word] = len(dictionary)\n",
    "  data = list()\n",
    "  unk_count = 0\n",
    "  for word in words:\n",
    "    if word in dictionary:\n",
    "      index = dictionary[word]\n",
    "    else:\n",
    "      index = 0  # dictionary['UNK']\n",
    "      unk_count = unk_count + 1\n",
    "    data.append(index)\n",
    "  count[0][1] = unk_count\n",
    "  reverse_dictionary = dict(zip(dictionary.values(), dictionary.keys())) \n",
    "  return data, count, dictionary, reverse_dictionary\n",
    "\n",
    "data, count, dictionary, reverse_dictionary = build_dataset(words)\n",
    "print('Most common words (+UNK)', count[:5])\n",
    "print('Sample data', data[:10])\n",
    "del words  # Hint to reduce memory."
   ]
  },
  {
   "cell_type": "markdown",
   "metadata": {
    "colab_type": "text",
    "id": "lFwoyygOmWsL"
   },
   "source": [
    "Function to generate a training batch for the skip-gram model."
   ]
  },
  {
   "cell_type": "code",
   "execution_count": 52,
   "metadata": {
    "cellView": "both",
    "colab": {
     "autoexec": {
      "startup": false,
      "wait_interval": 0
     },
     "output_extras": [
      {
       "item_id": 1
      }
     ]
    },
    "colab_type": "code",
    "collapsed": false,
    "executionInfo": {
     "elapsed": 113,
     "status": "ok",
     "timestamp": 1445964901989,
     "user": {
      "color": "#1FA15D",
      "displayName": "Vincent Vanhoucke",
      "isAnonymous": false,
      "isMe": true,
      "permissionId": "05076109866853157986",
      "photoUrl": "//lh6.googleusercontent.com/-cCJa7dTDcgQ/AAAAAAAAAAI/AAAAAAAACgw/r2EZ_8oYer4/s50-c-k-no/photo.jpg",
      "sessionId": "2f1ffade4c9f20de",
      "userId": "102167687554210253930"
     },
     "user_tz": 420
    },
    "id": "w9APjA-zmfjV",
    "outputId": "67cccb02-cdaf-4e47-d489-43bcc8d57bb8"
   },
   "outputs": [
    {
     "name": "stdout",
     "output_type": "stream",
     "text": [
      "data: ['anarchism', 'originated', 'as', 'a', 'term', 'of', 'abuse', 'first']\n",
      "\n",
      "with num_skips = 2 and skip_window = 1:\n",
      "    batch: ['originated', 'originated', 'as', 'as', 'a', 'a', 'term', 'term']\n",
      "    labels: ['as', 'anarchism', 'a', 'originated', 'as', 'term', 'a', 'of']\n",
      "\n",
      "with num_skips = 4 and skip_window = 2:\n",
      "    batch: ['as', 'as', 'as', 'as', 'a', 'a', 'a', 'a']\n",
      "    labels: ['term', 'a', 'anarchism', 'originated', 'term', 'originated', 'of', 'as']\n"
     ]
    }
   ],
   "source": [
    "data_index = 0\n",
    "\n",
    "def generate_batch(batch_size, num_skips, skip_window):\n",
    "  global data_index\n",
    "  assert batch_size % num_skips == 0\n",
    "  assert num_skips <= 2 * skip_window\n",
    "  batch = np.ndarray(shape=(batch_size), dtype=np.int32)\n",
    "  labels = np.ndarray(shape=(batch_size, 1), dtype=np.int32)\n",
    "  span = 2 * skip_window + 1 # [ skip_window target skip_window ]\n",
    "  buffer = collections.deque(maxlen=span)\n",
    "  for _ in range(span):\n",
    "    buffer.append(data[data_index])\n",
    "    data_index = (data_index + 1) % len(data)\n",
    "  for i in range(batch_size // num_skips):\n",
    "    target = skip_window  # target label at the center of the buffer\n",
    "    targets_to_avoid = [ skip_window ]\n",
    "    for j in range(num_skips):\n",
    "      while target in targets_to_avoid:\n",
    "        target = random.randint(0, span - 1)\n",
    "      targets_to_avoid.append(target)\n",
    "      batch[i * num_skips + j] = buffer[skip_window]\n",
    "      labels[i * num_skips + j, 0] = buffer[target]\n",
    "    buffer.append(data[data_index])\n",
    "    data_index = (data_index + 1) % len(data)\n",
    "  return batch, labels\n",
    "\n",
    "print('data:', [reverse_dictionary[di] for di in data[:8]])\n",
    "\n",
    "for num_skips, skip_window in [(2, 1), (4, 2)]:\n",
    "    data_index = 0\n",
    "    batch, labels = generate_batch(batch_size=8, num_skips=num_skips, skip_window=skip_window)\n",
    "    print('\\nwith num_skips = %d and skip_window = %d:' % (num_skips, skip_window))\n",
    "    print('    batch:', [reverse_dictionary[bi] for bi in batch])\n",
    "    print('    labels:', [reverse_dictionary[li] for li in labels.reshape(8)])"
   ]
  },
  {
   "cell_type": "markdown",
   "metadata": {
    "colab_type": "text",
    "id": "Ofd1MbBuwiva"
   },
   "source": [
    "Train a skip-gram model."
   ]
  },
  {
   "cell_type": "code",
   "execution_count": 53,
   "metadata": {
    "cellView": "both",
    "colab": {
     "autoexec": {
      "startup": false,
      "wait_interval": 0
     }
    },
    "colab_type": "code",
    "collapsed": true,
    "id": "8pQKsV4Vwlzy"
   },
   "outputs": [],
   "source": [
    "batch_size = 128\n",
    "embedding_size = 128 # Dimension of the embedding vector.\n",
    "skip_window = 1 # How many words to consider left and right.\n",
    "num_skips = 2 # How many times to reuse an input to generate a label.\n",
    "# We pick a random validation set to sample nearest neighbors. here we limit the\n",
    "# validation samples to the words that have a low numeric ID, which by\n",
    "# construction are also the most frequent. \n",
    "valid_size = 16 # Random set of words to evaluate similarity on.\n",
    "valid_window = 100 # Only pick dev samples in the head of the distribution.\n",
    "valid_examples = np.array(random.sample(range(valid_window), valid_size))\n",
    "num_sampled = 64 # Number of negative examples to sample.\n",
    "\n",
    "graph = tf.Graph()\n",
    "\n",
    "with graph.as_default(), tf.device('/cpu:0'):\n",
    "\n",
    "  # Input data.\n",
    "  train_dataset = tf.placeholder(tf.int32, shape=[batch_size])\n",
    "  train_labels = tf.placeholder(tf.int32, shape=[batch_size, 1])\n",
    "  valid_dataset = tf.constant(valid_examples, dtype=tf.int32)\n",
    "  \n",
    "  # Variables.\n",
    "  embeddings = tf.Variable(\n",
    "    tf.random_uniform([vocabulary_size, embedding_size], -1.0, 1.0))\n",
    "  softmax_weights = tf.Variable(\n",
    "    tf.truncated_normal([vocabulary_size, embedding_size],\n",
    "                         stddev=1.0 / math.sqrt(embedding_size)))\n",
    "  softmax_biases = tf.Variable(tf.zeros([vocabulary_size]))\n",
    "  \n",
    "  # Model.\n",
    "  # Look up embeddings for inputs.\n",
    "  embed = tf.nn.embedding_lookup(embeddings, train_dataset)\n",
    "  # Compute the softmax loss, using a sample of the negative labels each time.\n",
    "  loss = tf.reduce_mean(\n",
    "    tf.nn.sampled_softmax_loss(softmax_weights, softmax_biases, embed,\n",
    "                               train_labels, num_sampled, vocabulary_size))\n",
    "\n",
    "  # Optimizer.\n",
    "  optimizer = tf.train.AdagradOptimizer(1.0).minimize(loss)\n",
    "  \n",
    "  # Compute the similarity between minibatch examples and all embeddings.\n",
    "  # We use the cosine distance:\n",
    "  norm = tf.sqrt(tf.reduce_sum(tf.square(embeddings), 1, keep_dims=True))\n",
    "  normalized_embeddings = embeddings / norm\n",
    "  valid_embeddings = tf.nn.embedding_lookup(\n",
    "    normalized_embeddings, valid_dataset)\n",
    "  similarity = tf.matmul(valid_embeddings, tf.transpose(normalized_embeddings))"
   ]
  },
  {
   "cell_type": "code",
   "execution_count": 54,
   "metadata": {
    "cellView": "both",
    "colab": {
     "autoexec": {
      "startup": false,
      "wait_interval": 0
     },
     "output_extras": [
      {
       "item_id": 23
      },
      {
       "item_id": 48
      },
      {
       "item_id": 61
      }
     ]
    },
    "colab_type": "code",
    "collapsed": false,
    "executionInfo": {
     "elapsed": 436189,
     "status": "ok",
     "timestamp": 1445965429787,
     "user": {
      "color": "#1FA15D",
      "displayName": "Vincent Vanhoucke",
      "isAnonymous": false,
      "isMe": true,
      "permissionId": "05076109866853157986",
      "photoUrl": "//lh6.googleusercontent.com/-cCJa7dTDcgQ/AAAAAAAAAAI/AAAAAAAACgw/r2EZ_8oYer4/s50-c-k-no/photo.jpg",
      "sessionId": "2f1ffade4c9f20de",
      "userId": "102167687554210253930"
     },
     "user_tz": 420
    },
    "id": "1bQFGceBxrWW",
    "outputId": "5ebd6d9a-33c6-4bcd-bf6d-252b0b6055e4"
   },
   "outputs": [
    {
     "name": "stdout",
     "output_type": "stream",
     "text": [
      "Initialized\n",
      "Average loss at step 0: 8.288643\n",
      "Nearest to world: magen, snafu, diasporas, fontana, admixture, aurangzeb, repetition, ascertaining,\n",
      "Nearest to they: doves, objects, quarrel, penalized, nasser, gq, betrays, pigeons,\n",
      "Nearest to states: madero, predynastic, karaoke, cti, sylia, epochs, hammadi, vermouth,\n",
      "Nearest to see: declensions, tleilaxu, semipalatinsk, groucho, jamahiriya, efnet, howard, expressway,\n",
      "Nearest to american: breeches, callet, berenson, famers, apocr, primality, isotropic, purpurea,\n",
      "Nearest to during: ruptured, trolleybus, crannog, cacao, archaeologists, medina, scores, poultry,\n",
      "Nearest to nine: colloidal, ponty, refusal, aronson, filipino, clean, brownlow, moldavian,\n",
      "Nearest to is: summits, futile, cola, myrrh, aed, stele, vue, dubrovnik,\n",
      "Nearest to for: messier, peterson, incarnate, pratchett, odore, angleton, rotates, scotsman,\n",
      "Nearest to to: timbres, synchronised, doomed, jerry, crumbled, xs, microtubule, micronations,\n",
      "Nearest to into: rendering, worship, onager, scarred, escalator, middle, funny, disputation,\n",
      "Nearest to while: teosinte, cathy, shoemaker, negation, op, lasor, orthogonality, alternatively,\n",
      "Nearest to b: cute, fool, fanning, karnataka, ironically, smoothly, mandalay, ethyl,\n",
      "Nearest to not: catches, insubordination, unanswered, adopts, shu, mare, if, squeak,\n",
      "Nearest to have: tacitus, matters, leverett, facilitator, vibrio, east, rebuke, iskra,\n",
      "Nearest to state: garcia, tis, marshal, aggressiveness, kenyan, bells, dormitories, syntactically,\n",
      "Average loss at step 2000: 4.356233\n",
      "Average loss at step 4000: 3.862217\n",
      "Average loss at step 6000: 3.788669\n",
      "Average loss at step 8000: 3.683314\n",
      "Average loss at step 10000: 3.611292\n",
      "Nearest to world: magen, zug, kaunda, wee, fontana, queensland, justifying, drummer,\n",
      "Nearest to they: he, we, who, not, that, there, sindhi, you,\n",
      "Nearest to states: karaoke, madero, mollusks, doping, optimizing, slingshot, upbeat, impair,\n",
      "Nearest to see: schiff, stress, southwest, semipalatinsk, howard, professional, legation, lilly,\n",
      "Nearest to american: tagus, sto, english, azeglio, deadliest, homophonic, ulcers, migrating,\n",
      "Nearest to during: trolleybus, poultry, following, scrambled, at, late, cubical, by,\n",
      "Nearest to nine: eight, seven, six, five, zero, four, three, two,\n",
      "Nearest to is: was, are, unclear, has, longue, by, be, chloe,\n",
      "Nearest to for: of, with, voris, carbonates, peterson, magnesium, trafficking, vicious,\n",
      "Nearest to to: not, hoyt, taklamakan, starvation, tupolev, would, approves, fifty,\n",
      "Nearest to into: rendering, worship, shapeshifting, from, pentameter, scarred, and, middle,\n",
      "Nearest to while: negation, op, cathy, orthogonality, qos, teosinte, anglia, numeral,\n",
      "Nearest to b: fool, fanning, arousing, ironically, smoothly, licensing, unscrupulous, karnataka,\n",
      "Nearest to not: it, they, to, still, also, spurred, satisfiable, she,\n",
      "Nearest to have: be, has, are, had, allow, were, matters, trumbull,\n",
      "Nearest to state: garcia, dawson, marshal, bells, tis, centennial, approaches, deduced,\n",
      "Average loss at step 12000: 3.605647\n",
      "Average loss at step 14000: 3.570382\n",
      "Average loss at step 16000: 3.406521\n",
      "Average loss at step 18000: 3.456985\n",
      "Average loss at step 20000: 3.540814\n",
      "Nearest to world: kaunda, magen, zug, wee, bader, founder, drummer, queensland,\n",
      "Nearest to they: he, we, there, who, it, you, she, not,\n",
      "Nearest to states: mollusks, optimizing, impair, haggard, doping, karaoke, slingshot, huxley,\n",
      "Nearest to see: schiff, legation, howard, hmas, lilly, jamahiriya, stress, wondered,\n",
      "Nearest to american: tagus, canadian, french, sto, english, exemptions, unworkable, challengers,\n",
      "Nearest to during: following, monoamine, trolleybus, late, scrambled, poultry, showa, from,\n",
      "Nearest to nine: eight, seven, six, four, five, three, zero, two,\n",
      "Nearest to is: was, has, are, unclear, be, includes, but, at,\n",
      "Nearest to for: of, trafficking, reina, under, angleton, with, brahmagupta, in,\n",
      "Nearest to to: would, hoyt, can, microtubule, not, will, oort, taklamakan,\n",
      "Nearest to into: from, rendering, through, anatta, middle, at, appended, pentameter,\n",
      "Nearest to while: qos, op, susima, anglia, orthogonality, where, hens, contracting,\n",
      "Nearest to b: d, fanning, endo, arabian, estrogen, reinstating, surfin, french,\n",
      "Nearest to not: still, also, they, it, satisfiable, to, who, you,\n",
      "Nearest to have: had, has, be, were, are, allow, bits, azam,\n",
      "Nearest to state: dawson, tampered, approaches, marshal, peaceful, structural, zander, pad,\n",
      "Average loss at step 22000: 3.500598\n",
      "Average loss at step 24000: 3.489704\n",
      "Average loss at step 26000: 3.478682\n",
      "Average loss at step 28000: 3.480838\n",
      "Average loss at step 30000: 3.503461\n",
      "Nearest to world: magen, kaunda, zug, diomedes, wee, european, pinch, church,\n",
      "Nearest to they: we, there, he, it, who, you, not, she,\n",
      "Nearest to states: mollusks, haggard, slingshot, doping, uploaded, keene, resonance, karaoke,\n",
      "Nearest to see: schiff, but, hmas, foote, mycenaean, pronged, howard, stress,\n",
      "Nearest to american: english, tagus, sto, australian, italian, unworkable, british, challengers,\n",
      "Nearest to during: at, monoamine, in, following, within, poultry, late, when,\n",
      "Nearest to nine: eight, seven, six, four, five, three, zero, two,\n",
      "Nearest to is: was, has, are, had, does, although, unclear, were,\n",
      "Nearest to for: of, trafficking, with, when, integrating, miao, to, fervor,\n",
      "Nearest to to: would, hoyt, can, not, will, could, approves, clerks,\n",
      "Nearest to into: from, through, rendering, under, appended, pentameter, anatta, ipa,\n",
      "Nearest to while: but, however, with, though, is, susima, hens, negation,\n",
      "Nearest to b: d, arabian, yoakum, reinstating, otimes, surfin, endo, computer,\n",
      "Nearest to not: still, they, to, rejuvenation, satisfiable, therefore, who, approves,\n",
      "Nearest to have: had, has, were, are, be, having, eniac, azam,\n",
      "Nearest to state: dawson, tampered, marshal, spongebob, zander, retrieval, pollinators, peaceful,\n",
      "Average loss at step 32000: 3.501489\n",
      "Average loss at step 34000: 3.491943\n",
      "Average loss at step 36000: 3.455268\n",
      "Average loss at step 38000: 3.300469\n",
      "Average loss at step 40000: 3.426818\n",
      "Nearest to world: kaunda, magen, ahaziah, zug, wee, pinch, laughter, justifying,\n",
      "Nearest to they: we, there, he, you, it, who, she, these,\n",
      "Nearest to states: mollusks, anions, plaintiffs, haggard, uploaded, slingshot, huxley, lieu,\n",
      "Nearest to see: foote, schiff, redistribute, according, list, can, pronged, hmas,\n",
      "Nearest to american: english, german, australian, italian, british, sint, tagus, wp,\n",
      "Nearest to during: monoamine, on, within, after, until, following, before, at,\n",
      "Nearest to nine: eight, seven, six, four, five, three, zero, two,\n",
      "Nearest to is: was, are, be, has, powerful, if, simmons, mojave,\n",
      "Nearest to for: when, with, brahmagupta, in, of, ugly, vcjd, if,\n",
      "Nearest to to: oort, microtubule, can, taklamakan, hoyt, repressing, could, will,\n",
      "Nearest to into: through, from, rendering, down, tosk, out, shapeshifting, approbation,\n",
      "Nearest to while: although, when, though, before, however, where, were, but,\n",
      "Nearest to b: d, c, f, m, r, endo, j, fractional,\n",
      "Nearest to not: still, it, therefore, satisfiable, they, more, never, you,\n",
      "Nearest to have: had, has, were, be, are, citric, backlash, azam,\n",
      "Nearest to state: dawson, spongebob, retrieval, government, marshal, tampered, head, overall,\n",
      "Average loss at step 42000: 3.434895\n",
      "Average loss at step 44000: 3.451445\n",
      "Average loss at step 46000: 3.452573\n",
      "Average loss at step 48000: 3.351639\n",
      "Average loss at step 50000: 3.379650\n",
      "Nearest to world: magen, kaunda, european, wee, justifying, zug, mcconnell, pinch,\n",
      "Nearest to they: he, we, there, you, she, it, who, these,\n",
      "Nearest to states: mollusks, kingdom, anions, haggard, plaintiffs, prodigal, lieu, kata,\n",
      "Nearest to see: foote, redistribute, pronged, list, according, include, alboin, innovative,\n",
      "Nearest to american: english, wp, australian, british, german, tagus, european, italian,\n",
      "Nearest to during: after, when, at, within, until, following, in, monoamine,\n",
      "Nearest to nine: eight, seven, six, four, three, five, zero, two,\n",
      "Nearest to is: was, are, has, although, does, while, includes, forgetting,\n",
      "Nearest to for: vicious, magnesium, while, brahmagupta, against, after, kernewek, clementine,\n",
      "Nearest to to: can, hoyt, could, may, repressing, would, approves, peripheries,\n",
      "Nearest to into: through, from, rendering, funny, approbation, pentameter, down, appended,\n",
      "Nearest to while: although, when, however, though, where, before, but, after,\n",
      "Nearest to b: d, f, c, r, fractional, multimedia, unicef, m,\n",
      "Nearest to not: therefore, now, still, satisfiable, easily, more, variegated, they,\n",
      "Nearest to have: had, has, were, are, be, having, citric, azam,\n",
      "Nearest to state: dawson, spongebob, overall, level, retrieval, brythonic, structural, gubernatorial,\n",
      "Average loss at step 52000: 3.434187\n",
      "Average loss at step 54000: 3.424847\n",
      "Average loss at step 56000: 3.431055\n",
      "Average loss at step 58000: 3.399584\n",
      "Average loss at step 60000: 3.392599\n",
      "Nearest to world: european, laughter, country, anime, seimas, wee, magen, post,\n",
      "Nearest to they: we, there, you, he, she, soon, not, who,\n",
      "Nearest to states: kingdom, mollusks, nations, countries, anions, plaintiffs, turnover, tile,\n",
      "Nearest to see: include, foote, list, redistribute, but, pronged, according, references,\n",
      "Nearest to american: australian, british, wp, english, homophonic, tagus, sint, italian,\n",
      "Nearest to during: after, following, when, within, in, at, before, until,\n",
      "Nearest to nine: eight, six, seven, four, five, three, zero, one,\n",
      "Nearest to is: was, has, includes, are, does, although, unclear, containing,\n",
      "Nearest to for: of, trafficking, including, magnesium, vicious, mash, brahmagupta, against,\n",
      "Nearest to to: repressing, microtubule, approves, hoyt, oort, bushes, crumbled, for,\n",
      "Nearest to into: through, from, over, tosk, down, pentameter, under, rendering,\n",
      "Nearest to while: although, when, though, before, after, however, chao, were,\n",
      "Nearest to b: d, c, f, m, r, k, insensitive, j,\n",
      "Nearest to not: still, now, usually, satisfiable, never, shi, they, rejuvenation,\n",
      "Nearest to have: had, has, are, were, produce, be, having, want,\n",
      "Nearest to state: dawson, spongebob, government, sufficient, pane, gubernatorial, overall, rowland,\n",
      "Average loss at step 62000: 3.240243\n",
      "Average loss at step 64000: 3.254418\n",
      "Average loss at step 66000: 3.402424\n",
      "Average loss at step 68000: 3.394486\n",
      "Average loss at step 70000: 3.357109\n",
      "Nearest to world: u, country, european, laughter, justifying, advertising, chariot, initiates,\n",
      "Nearest to they: we, he, there, you, she, it, soon, these,\n",
      "Nearest to states: kingdom, mollusks, emirs, nations, lieu, nadezhda, countries, tile,\n",
      "Nearest to see: include, according, brahma, list, org, foote, redistribute, functionals,\n",
      "Nearest to american: british, australian, wp, italian, homophonic, tagus, english, pier,\n",
      "Nearest to during: after, until, within, following, before, in, under, at,\n",
      "Nearest to nine: eight, six, seven, four, five, three, two, zero,\n",
      "Nearest to is: was, has, are, be, although, makes, does, infty,\n",
      "Nearest to for: to, after, including, in, without, of, against, mash,\n",
      "Nearest to to: oort, ltte, hoyt, can, for, repressing, will, microtubule,\n",
      "Nearest to into: through, from, approbation, tosk, appended, gcc, pentameter, using,\n",
      "Nearest to while: although, though, when, before, however, but, where, like,\n",
      "Nearest to b: f, d, r, j, y, n, p, osi,\n",
      "Nearest to not: never, still, now, easily, usually, satisfiable, expects, rejuvenation,\n",
      "Nearest to have: had, has, were, are, be, having, produce, want,\n",
      "Nearest to state: government, head, overall, states, veda, sank, tampered, pane,\n",
      "Average loss at step 72000: 3.369214\n",
      "Average loss at step 74000: 3.349166\n",
      "Average loss at step 76000: 3.317753\n",
      "Average loss at step 78000: 3.350697\n",
      "Average loss at step 80000: 3.376409\n",
      "Nearest to world: u, apologetic, post, pinch, laughter, chariot, kaunda, uk,\n",
      "Nearest to they: we, he, there, you, she, it, soon, who,\n",
      "Nearest to states: kingdom, mollusks, us, nations, tile, plaintiffs, countries, state,\n",
      "Nearest to see: include, references, foote, according, hanks, but, redistribute, functionals,\n",
      "Nearest to american: australian, british, international, italian, homophonic, wp, german, reviled,\n",
      "Nearest to during: after, in, before, when, within, until, despite, at,\n",
      "Nearest to nine: eight, seven, six, five, four, three, zero, two,\n",
      "Nearest to is: was, has, are, became, includes, be, although, refers,\n",
      "Nearest to for: tarquinius, magnesium, gruesome, kernewek, reina, on, aggressiveness, vcjd,\n",
      "Nearest to to: hoyt, will, ltte, would, turbulent, clerks, taklamakan, gneisenau,\n",
      "Nearest to into: through, from, within, approbation, tosk, appended, gcc, out,\n",
      "Nearest to while: although, though, before, but, when, however, after, or,\n",
      "Nearest to b: d, f, m, r, j, c, ga, vlaams,\n",
      "Nearest to not: still, satisfiable, generally, easily, never, almost, usually, nor,\n",
      "Nearest to have: had, has, be, were, having, are, produce, want,\n",
      "Nearest to state: government, pane, overall, states, fruitless, city, ould, peaceful,\n",
      "Average loss at step 82000: 3.405380\n",
      "Average loss at step 84000: 3.407062\n",
      "Average loss at step 86000: 3.385770\n",
      "Average loss at step 88000: 3.349461\n",
      "Average loss at step 90000: 3.367205\n",
      "Nearest to world: chariot, post, apologetic, pinch, focussed, country, u, european,\n",
      "Nearest to they: we, he, you, there, she, it, soon, but,\n",
      "Nearest to states: kingdom, us, mollusks, pius, nations, gimmicks, tile, prodigal,\n",
      "Nearest to see: include, references, foote, wharf, redistribute, list, kyu, gerardo,\n",
      "Nearest to american: italian, british, australian, wp, homophonic, english, european, international,\n",
      "Nearest to during: after, in, before, until, within, despite, while, at,\n",
      "Nearest to nine: eight, seven, six, five, four, three, zero, two,\n",
      "Nearest to is: was, has, are, be, includes, requires, although, makes,\n",
      "Nearest to for: during, against, after, including, while, when, through, of,\n",
      "Nearest to to: hoyt, oort, repressing, turbulent, should, taklamakan, waterline, would,\n",
      "Nearest to into: through, from, approbation, within, around, tosk, appended, shapeshifting,\n",
      "Nearest to while: although, though, when, before, but, after, however, were,\n",
      "Nearest to b: d, f, r, j, c, y, nonmetals, vlaams,\n",
      "Nearest to not: still, therefore, satisfiable, almost, easily, generally, now, never,\n",
      "Nearest to have: had, has, were, be, are, having, don, produce,\n",
      "Nearest to state: government, city, pane, psalms, eno, peaceful, spongebob, sufficient,\n",
      "Average loss at step 92000: 3.395557\n",
      "Average loss at step 94000: 3.249998\n",
      "Average loss at step 96000: 3.356147\n",
      "Average loss at step 98000: 3.238337\n",
      "Average loss at step 100000: 3.354437\n",
      "Nearest to world: country, chariot, uk, citation, apologetic, u, generation, wee,\n",
      "Nearest to they: we, there, you, he, she, it, i, soon,\n",
      "Nearest to states: kingdom, nations, us, mollusks, pius, plaintiffs, countries, gimmicks,\n",
      "Nearest to see: redistribute, references, includes, kyu, list, foote, include, gerardo,\n",
      "Nearest to american: british, italian, australian, homophonic, wp, english, tagus, hellish,\n",
      "Nearest to during: after, in, following, before, within, despite, until, at,\n",
      "Nearest to nine: eight, seven, six, four, five, three, zero, two,\n",
      "Nearest to is: was, has, being, refers, became, contains, are, be,\n",
      "Nearest to for: salian, including, when, lush, before, against, magnesium, if,\n",
      "Nearest to to: will, hoyt, must, can, would, could, repressing, clerks,\n",
      "Nearest to into: through, within, from, approbation, tosk, around, appended, in,\n",
      "Nearest to while: although, though, when, before, however, if, but, where,\n",
      "Nearest to b: d, c, french, hak, bouvines, hates, coa, coordinated,\n",
      "Nearest to not: still, satisfiable, never, now, almost, nor, completely, easily,\n",
      "Nearest to have: had, has, were, are, be, having, produce, get,\n",
      "Nearest to state: eno, city, government, fruitless, pane, head, spongebob, states,\n"
     ]
    }
   ],
   "source": [
    "num_steps = 100001\n",
    "\n",
    "with tf.Session(graph=graph) as session:\n",
    "  tf.initialize_all_variables().run()\n",
    "  print('Initialized')\n",
    "  average_loss = 0\n",
    "  for step in range(num_steps):\n",
    "    batch_data, batch_labels = generate_batch(\n",
    "      batch_size, num_skips, skip_window)\n",
    "    feed_dict = {train_dataset : batch_data, train_labels : batch_labels}\n",
    "    _, l = session.run([optimizer, loss], feed_dict=feed_dict)\n",
    "    average_loss += l\n",
    "    if step % 2000 == 0:\n",
    "      if step > 0:\n",
    "        average_loss = average_loss / 2000\n",
    "      # The average loss is an estimate of the loss over the last 2000 batches.\n",
    "      print('Average loss at step %d: %f' % (step, average_loss))\n",
    "      average_loss = 0\n",
    "    # note that this is expensive (~20% slowdown if computed every 500 steps)\n",
    "    if step % 10000 == 0:\n",
    "      sim = similarity.eval()\n",
    "      for i in xrange(valid_size):\n",
    "        valid_word = reverse_dictionary[valid_examples[i]]\n",
    "        top_k = 8 # number of nearest neighbors\n",
    "        nearest = (-sim[i, :]).argsort()[1:top_k+1]\n",
    "        log = 'Nearest to %s:' % valid_word\n",
    "        for k in xrange(top_k):\n",
    "          close_word = reverse_dictionary[nearest[k]]\n",
    "          log = '%s %s,' % (log, close_word)\n",
    "        print(log)\n",
    "  final_embeddings = normalized_embeddings.eval()"
   ]
  },
  {
   "cell_type": "code",
   "execution_count": null,
   "metadata": {
    "cellView": "both",
    "colab": {
     "autoexec": {
      "startup": false,
      "wait_interval": 0
     }
    },
    "colab_type": "code",
    "collapsed": false,
    "id": "jjJXYA_XzV79"
   },
   "outputs": [],
   "source": [
    "num_points = 400\n",
    "\n",
    "final_emb_fix = final_embeddings[1:num_points+1, :]\n",
    "final_emb_fix = np.asfarray( final_emb_fix, dtype='float' )\n",
    "tsne = TSNE(perplexity=30, n_components=2, init='pca', n_iter=5000)\n",
    "two_d_embeddings = tsne.fit_transform(final_emb_fix)"
   ]
  },
  {
   "cell_type": "code",
   "execution_count": null,
   "metadata": {
    "cellView": "both",
    "colab": {
     "autoexec": {
      "startup": false,
      "wait_interval": 0
     },
     "output_extras": [
      {
       "item_id": 1
      }
     ]
    },
    "colab_type": "code",
    "collapsed": false,
    "executionInfo": {
     "elapsed": 4763,
     "status": "ok",
     "timestamp": 1445965465525,
     "user": {
      "color": "#1FA15D",
      "displayName": "Vincent Vanhoucke",
      "isAnonymous": false,
      "isMe": true,
      "permissionId": "05076109866853157986",
      "photoUrl": "//lh6.googleusercontent.com/-cCJa7dTDcgQ/AAAAAAAAAAI/AAAAAAAACgw/r2EZ_8oYer4/s50-c-k-no/photo.jpg",
      "sessionId": "2f1ffade4c9f20de",
      "userId": "102167687554210253930"
     },
     "user_tz": 420
    },
    "id": "o_e0D_UezcDe",
    "outputId": "df22e4a5-e8ec-4e5e-d384-c6cf37c68c34"
   },
   "outputs": [],
   "source": [
    "%matplotlib inline\n",
    "def plot(embeddings, labels):\n",
    "  assert embeddings.shape[0] >= len(labels), 'More labels than embeddings'\n",
    "  pylab.figure(figsize=(15,15))  # in inches\n",
    "  for i, label in enumerate(labels):\n",
    "    x, y = embeddings[i,:]\n",
    "    pylab.scatter(x, y)\n",
    "    pylab.annotate(label, xy=(x, y), xytext=(5, 2), textcoords='offset points',\n",
    "                   ha='right', va='bottom')\n",
    "  pylab.show()\n",
    "\n",
    "words = [reverse_dictionary[i] for i in range(1, num_points+1)]\n",
    "plot(two_d_embeddings, words)"
   ]
  },
  {
   "cell_type": "markdown",
   "metadata": {
    "colab_type": "text",
    "id": "QB5EFrBnpNnc"
   },
   "source": [
    "---\n",
    "\n",
    "Problem\n",
    "-------\n",
    "\n",
    "An alternative to Word2Vec is called [CBOW](http://arxiv.org/abs/1301.3781) (Continuous Bag of Words). In the CBOW model, instead of predicting a context word from a word vector, you predict a word from the sum of all the word vectors in its context. Implement and evaluate a CBOW model trained on the text8 dataset.\n",
    "\n",
    "---"
   ]
  },
  {
   "cell_type": "markdown",
   "metadata": {
    "collapsed": true
   },
   "source": [
    "### I believe, this is my misinterpretation fo CBOW model, let's leave it for the future.\n",
    "I just changed input and output places."
   ]
  },
  {
   "cell_type": "code",
   "execution_count": null,
   "metadata": {
    "cellView": "both",
    "colab": {
     "autoexec": {
      "startup": false,
      "wait_interval": 0
     }
    },
    "colab_type": "code",
    "collapsed": false,
    "id": "0K1ZyLn04QZf"
   },
   "outputs": [],
   "source": [
    "# These are all the modules we'll be using later. Make sure you can import them\n",
    "# before proceeding further.\n",
    "from __future__ import print_function\n",
    "import collections\n",
    "import math\n",
    "import numpy as np\n",
    "import os\n",
    "import random\n",
    "import tensorflow as tf\n",
    "import zipfile\n",
    "from matplotlib import pylab\n",
    "from six.moves import range\n",
    "from six.moves.urllib.request import urlretrieve\n",
    "from sklearn.manifold import TSNE"
   ]
  },
  {
   "cell_type": "markdown",
   "metadata": {
    "colab_type": "text",
    "id": "aCjPJE944bkV"
   },
   "source": [
    "Download the data from the source website if necessary."
   ]
  },
  {
   "cell_type": "code",
   "execution_count": null,
   "metadata": {
    "cellView": "both",
    "colab": {
     "autoexec": {
      "startup": false,
      "wait_interval": 0
     },
     "output_extras": [
      {
       "item_id": 1
      }
     ]
    },
    "colab_type": "code",
    "collapsed": false,
    "executionInfo": {
     "elapsed": 14640,
     "status": "ok",
     "timestamp": 1445964482948,
     "user": {
      "color": "#1FA15D",
      "displayName": "Vincent Vanhoucke",
      "isAnonymous": false,
      "isMe": true,
      "permissionId": "05076109866853157986",
      "photoUrl": "//lh6.googleusercontent.com/-cCJa7dTDcgQ/AAAAAAAAAAI/AAAAAAAACgw/r2EZ_8oYer4/s50-c-k-no/photo.jpg",
      "sessionId": "2f1ffade4c9f20de",
      "userId": "102167687554210253930"
     },
     "user_tz": 420
    },
    "id": "RJ-o3UBUFtCw",
    "outputId": "c4ec222c-80b5-4298-e635-93ca9f79c3b7"
   },
   "outputs": [],
   "source": [
    "url = 'http://mattmahoney.net/dc/'\n",
    "\n",
    "def maybe_download(filename, expected_bytes):\n",
    "  \"\"\"Download a file if not present, and make sure it's the right size.\"\"\"\n",
    "  if not os.path.exists(filename):\n",
    "    filename, _ = urlretrieve(url + filename, filename)\n",
    "  statinfo = os.stat(filename)\n",
    "  if statinfo.st_size == expected_bytes:\n",
    "    print('Found and verified %s' % filename)\n",
    "  else:\n",
    "    print(statinfo.st_size)\n",
    "    raise Exception(\n",
    "      'Failed to verify ' + filename + '. Can you get to it with a browser?')\n",
    "  return filename\n",
    "\n",
    "filename = maybe_download('text8.zip', 31344016)"
   ]
  },
  {
   "cell_type": "markdown",
   "metadata": {
    "colab_type": "text",
    "id": "Zqz3XiqI4mZT"
   },
   "source": [
    "Read the data into a string."
   ]
  },
  {
   "cell_type": "code",
   "execution_count": null,
   "metadata": {
    "cellView": "both",
    "colab": {
     "autoexec": {
      "startup": false,
      "wait_interval": 0
     },
     "output_extras": [
      {
       "item_id": 1
      }
     ]
    },
    "colab_type": "code",
    "collapsed": false,
    "executionInfo": {
     "elapsed": 28844,
     "status": "ok",
     "timestamp": 1445964497165,
     "user": {
      "color": "#1FA15D",
      "displayName": "Vincent Vanhoucke",
      "isAnonymous": false,
      "isMe": true,
      "permissionId": "05076109866853157986",
      "photoUrl": "//lh6.googleusercontent.com/-cCJa7dTDcgQ/AAAAAAAAAAI/AAAAAAAACgw/r2EZ_8oYer4/s50-c-k-no/photo.jpg",
      "sessionId": "2f1ffade4c9f20de",
      "userId": "102167687554210253930"
     },
     "user_tz": 420
    },
    "id": "Mvf09fjugFU_",
    "outputId": "e3a928b4-1645-4fe8-be17-fcf47de5716d"
   },
   "outputs": [],
   "source": [
    "import sys\n",
    "sys.path.insert(0,\"/hdd/tensorflow/tensorflow/python/util\")\n",
    "import compat as cp\n",
    "def read_data(filename):\n",
    "  f = zipfile.ZipFile(filename)\n",
    "  for name in f.namelist():\n",
    "    return cp.as_str(f.read(name)).split() #tf.compat.as_str(f.read(name)).split()   \n",
    "  f.close()\n",
    "  \n",
    "words = read_data(filename)\n",
    "print('Data size %d' % len(words))"
   ]
  },
  {
   "cell_type": "markdown",
   "metadata": {
    "colab_type": "text",
    "id": "Zdw6i4F8glpp"
   },
   "source": [
    "Build the dictionary and replace rare words with UNK token."
   ]
  },
  {
   "cell_type": "code",
   "execution_count": null,
   "metadata": {
    "cellView": "both",
    "colab": {
     "autoexec": {
      "startup": false,
      "wait_interval": 0
     },
     "output_extras": [
      {
       "item_id": 1
      }
     ]
    },
    "colab_type": "code",
    "collapsed": false,
    "executionInfo": {
     "elapsed": 28849,
     "status": "ok",
     "timestamp": 1445964497178,
     "user": {
      "color": "#1FA15D",
      "displayName": "Vincent Vanhoucke",
      "isAnonymous": false,
      "isMe": true,
      "permissionId": "05076109866853157986",
      "photoUrl": "//lh6.googleusercontent.com/-cCJa7dTDcgQ/AAAAAAAAAAI/AAAAAAAACgw/r2EZ_8oYer4/s50-c-k-no/photo.jpg",
      "sessionId": "2f1ffade4c9f20de",
      "userId": "102167687554210253930"
     },
     "user_tz": 420
    },
    "id": "gAL1EECXeZsD",
    "outputId": "3fb4ecd1-df67-44b6-a2dc-2291730970b2"
   },
   "outputs": [],
   "source": [
    "vocabulary_size = 50000\n",
    "\n",
    "def build_dataset(words):\n",
    "  count = [['UNK', -1]]\n",
    "  count.extend(collections.Counter(words).most_common(vocabulary_size - 1))\n",
    "  dictionary = dict()\n",
    "  for word, _ in count:\n",
    "    dictionary[word] = len(dictionary)\n",
    "  data = list()\n",
    "  unk_count = 0\n",
    "  for word in words:\n",
    "    if word in dictionary:\n",
    "      index = dictionary[word]\n",
    "    else:\n",
    "      index = 0  # dictionary['UNK']\n",
    "      unk_count = unk_count + 1\n",
    "    data.append(index)\n",
    "  count[0][1] = unk_count\n",
    "  reverse_dictionary = dict(zip(dictionary.values(), dictionary.keys())) \n",
    "  return data, count, dictionary, reverse_dictionary\n",
    "\n",
    "data, count, dictionary, reverse_dictionary = build_dataset(words)\n",
    "print('Most common words (+UNK)', count[:5])\n",
    "print('Sample data', data[:10])\n",
    "del words  # Hint to reduce memory."
   ]
  },
  {
   "cell_type": "markdown",
   "metadata": {
    "colab_type": "text",
    "id": "lFwoyygOmWsL"
   },
   "source": [
    "Function to generate a training batch for the skip-gram model."
   ]
  },
  {
   "cell_type": "code",
   "execution_count": 34,
   "metadata": {
    "cellView": "both",
    "colab": {
     "autoexec": {
      "startup": false,
      "wait_interval": 0
     },
     "output_extras": [
      {
       "item_id": 1
      }
     ]
    },
    "colab_type": "code",
    "collapsed": false,
    "executionInfo": {
     "elapsed": 113,
     "status": "ok",
     "timestamp": 1445964901989,
     "user": {
      "color": "#1FA15D",
      "displayName": "Vincent Vanhoucke",
      "isAnonymous": false,
      "isMe": true,
      "permissionId": "05076109866853157986",
      "photoUrl": "//lh6.googleusercontent.com/-cCJa7dTDcgQ/AAAAAAAAAAI/AAAAAAAACgw/r2EZ_8oYer4/s50-c-k-no/photo.jpg",
      "sessionId": "2f1ffade4c9f20de",
      "userId": "102167687554210253930"
     },
     "user_tz": 420
    },
    "id": "w9APjA-zmfjV",
    "outputId": "67cccb02-cdaf-4e47-d489-43bcc8d57bb8"
   },
   "outputs": [
    {
     "name": "stdout",
     "output_type": "stream",
     "text": [
      "data: ['anarchism', 'originated', 'as', 'a', 'term', 'of', 'abuse', 'first']\n",
      "\n",
      "with num_skips = 2 and skip_window = 1:\n",
      "    batch: ['anarchism', 'as', 'a', 'originated', 'term', 'as', 'a', 'of']\n",
      "    labels: ['originated', 'originated', 'as', 'as', 'a', 'a', 'term', 'term']\n",
      "\n",
      "with num_skips = 4 and skip_window = 2:\n",
      "    batch: ['originated', 'anarchism', 'a', 'term', 'originated', 'as', 'of', 'term']\n",
      "    labels: ['as', 'as', 'as', 'as', 'a', 'a', 'a', 'a']\n"
     ]
    }
   ],
   "source": [
    "data_index = 0\n",
    "\n",
    "def generate_batch(batch_size, num_skips, skip_window):\n",
    "  global data_index\n",
    "  assert batch_size % num_skips == 0\n",
    "  assert num_skips <= 2 * skip_window\n",
    "  batch = np.ndarray(shape=(batch_size), dtype=np.int32)\n",
    "  labels = np.ndarray(shape=(batch_size, 1), dtype=np.int32)\n",
    "  span = 2 * skip_window + 1 # [ skip_window target skip_window ]\n",
    "  buffer = collections.deque(maxlen=span)\n",
    "  for _ in range(span):\n",
    "    buffer.append(data[data_index])\n",
    "    data_index = (data_index + 1) % len(data)\n",
    "  for i in range(batch_size // num_skips):\n",
    "    target = skip_window  # target label at the center of the buffer\n",
    "    targets_to_avoid = [ skip_window ]\n",
    "    for j in range(num_skips):\n",
    "      while target in targets_to_avoid:\n",
    "        target = random.randint(0, span - 1)\n",
    "      targets_to_avoid.append(target)\n",
    "      batch[i * num_skips + j] = buffer[target]\n",
    "      labels[i * num_skips + j, 0] = buffer[skip_window]\n",
    "    buffer.append(data[data_index])\n",
    "    data_index = (data_index + 1) % len(data)\n",
    "  return batch, labels\n",
    "\n",
    "print('data:', [reverse_dictionary[di] for di in data[:8]])\n",
    "\n",
    "for num_skips, skip_window in [(2, 1), (4, 2)]:\n",
    "    data_index = 0\n",
    "    batch, labels = generate_batch(batch_size=8, num_skips=num_skips, skip_window=skip_window)\n",
    "    print('\\nwith num_skips = %d and skip_window = %d:' % (num_skips, skip_window))\n",
    "    print('    batch:', [reverse_dictionary[bi] for bi in batch])\n",
    "    print('    labels:', [reverse_dictionary[li] for li in labels.reshape(8)])"
   ]
  },
  {
   "cell_type": "markdown",
   "metadata": {
    "colab_type": "text",
    "id": "Ofd1MbBuwiva"
   },
   "source": [
    "Train a skip-gram model."
   ]
  },
  {
   "cell_type": "code",
   "execution_count": 35,
   "metadata": {
    "cellView": "both",
    "colab": {
     "autoexec": {
      "startup": false,
      "wait_interval": 0
     }
    },
    "colab_type": "code",
    "collapsed": true,
    "id": "8pQKsV4Vwlzy"
   },
   "outputs": [],
   "source": [
    "batch_size = 128\n",
    "embedding_size = 128 # Dimension of the embedding vector.\n",
    "skip_window = 1 # How many words to consider left and right.\n",
    "num_skips = 2 # How many times to reuse an input to generate a label.\n",
    "# We pick a random validation set to sample nearest neighbors. here we limit the\n",
    "# validation samples to the words that have a low numeric ID, which by\n",
    "# construction are also the most frequent. \n",
    "valid_size = 16 # Random set of words to evaluate similarity on.\n",
    "valid_window = 100 # Only pick dev samples in the head of the distribution.\n",
    "valid_examples = np.array(random.sample(range(valid_window), valid_size))\n",
    "num_sampled = 64 # Number of negative examples to sample.\n",
    "\n",
    "graph = tf.Graph()\n",
    "\n",
    "with graph.as_default(), tf.device('/cpu:0'):\n",
    "\n",
    "  # Input data.\n",
    "  train_dataset = tf.placeholder(tf.int32, shape=[batch_size])\n",
    "  train_labels = tf.placeholder(tf.int32, shape=[batch_size, 1])\n",
    "  valid_dataset = tf.constant(valid_examples, dtype=tf.int32)\n",
    "  \n",
    "  # Variables.\n",
    "  embeddings = tf.Variable(\n",
    "    tf.random_uniform([vocabulary_size, embedding_size], -1.0, 1.0), name='embeddings')\n",
    "  softmax_weights = tf.Variable(\n",
    "    tf.truncated_normal([vocabulary_size, embedding_size],\n",
    "                         stddev=1.0 / math.sqrt(embedding_size)),name='softmax_weights')\n",
    "  softmax_biases = tf.Variable(tf.zeros([vocabulary_size]), name='softmax_biases')\n",
    "  \n",
    "  saver = tf.train.Saver()\n",
    "  \n",
    "  # Model.\n",
    "  # Look up embeddings for inputs.\n",
    "  embed = tf.nn.embedding_lookup(embeddings, train_dataset)\n",
    "  # Compute the softmax loss, using a sample of the negative labels each time.\n",
    "  loss = tf.reduce_mean(\n",
    "    tf.nn.sampled_softmax_loss(softmax_weights, softmax_biases, embed,\n",
    "                               train_labels, num_sampled, vocabulary_size))\n",
    "\n",
    "  # Optimizer.\n",
    "  optimizer = tf.train.AdagradOptimizer(1.0).minimize(loss)\n",
    "  \n",
    "  # Compute the similarity between minibatch examples and all embeddings.\n",
    "  # We use the cosine distance:\n",
    "  norm = tf.sqrt(tf.reduce_sum(tf.square(embeddings), 1, keep_dims=True))\n",
    "  normalized_embeddings = embeddings / norm\n",
    "  valid_embeddings = tf.nn.embedding_lookup(\n",
    "    normalized_embeddings, valid_dataset)\n",
    "  similarity = tf.matmul(valid_embeddings, tf.transpose(normalized_embeddings))"
   ]
  },
  {
   "cell_type": "code",
   "execution_count": 36,
   "metadata": {
    "cellView": "both",
    "colab": {
     "autoexec": {
      "startup": false,
      "wait_interval": 0
     },
     "output_extras": [
      {
       "item_id": 23
      },
      {
       "item_id": 48
      },
      {
       "item_id": 61
      }
     ]
    },
    "colab_type": "code",
    "collapsed": false,
    "executionInfo": {
     "elapsed": 436189,
     "status": "ok",
     "timestamp": 1445965429787,
     "user": {
      "color": "#1FA15D",
      "displayName": "Vincent Vanhoucke",
      "isAnonymous": false,
      "isMe": true,
      "permissionId": "05076109866853157986",
      "photoUrl": "//lh6.googleusercontent.com/-cCJa7dTDcgQ/AAAAAAAAAAI/AAAAAAAACgw/r2EZ_8oYer4/s50-c-k-no/photo.jpg",
      "sessionId": "2f1ffade4c9f20de",
      "userId": "102167687554210253930"
     },
     "user_tz": 420
    },
    "id": "1bQFGceBxrWW",
    "outputId": "5ebd6d9a-33c6-4bcd-bf6d-252b0b6055e4"
   },
   "outputs": [
    {
     "name": "stdout",
     "output_type": "stream",
     "text": [
      "Initialized\n",
      "Average loss at step 0: 7.766217\n",
      "Nearest to see: eruptions, liszt, comparison, ceawlin, glottal, suggested, bruins, pumpkins,\n",
      "Nearest to be: johnstone, foundational, mps, heidegger, uterus, treatise, mondale, tenzin,\n",
      "Nearest to new: drivetrain, mel, shuttlecock, gustaf, train, merciful, uganda, implications,\n",
      "Nearest to d: frowned, interpol, brentano, neurotic, sailed, slash, tokugawa, bangs,\n",
      "Nearest to over: favorite, handbuch, histones, kanembu, lautering, degree, instrumentalists, chaffee,\n",
      "Nearest to also: kambojas, josiah, separators, nest, spoof, undp, bonzo, gop,\n",
      "Nearest to six: remnants, beatrix, supreme, infanta, abjuration, spat, johns, theos,\n",
      "Nearest to after: fold, artform, orthographic, polluting, recipe, exceptionally, pipes, seasoned,\n",
      "Nearest to this: uc, joules, norton, gaels, biometric, wieman, completing, pragmatic,\n",
      "Nearest to only: outgassing, dispute, grande, kiribati, cambridge, estate, youth, gundam,\n",
      "Nearest to up: version, virility, mulberry, predictability, belleville, editorials, neopaganism, kwazulu,\n",
      "Nearest to while: singularly, catenary, caricatured, start, processors, episode, micronesian, young,\n",
      "Nearest to b: landfill, pang, contextual, ivoire, sadr, tisza, thrusts, fis,\n",
      "Nearest to or: uniformity, botvinnik, reinstating, consensual, nyquist, mitsubishi, insulated, absorbing,\n",
      "Nearest to system: gylfaginning, blackburn, realists, blizzards, excitable, scythians, alum, halfway,\n",
      "Nearest to may: guillaume, cri, bonfires, rakyat, hedeby, emulates, lor, vickers,\n",
      "Average loss at step 2000: 4.359350\n",
      "Average loss at step 4000: 3.864300\n",
      "Average loss at step 6000: 3.784931\n",
      "Average loss at step 8000: 3.684793\n",
      "Average loss at step 10000: 3.612692\n",
      "Nearest to see: comparison, semiautomatic, suggested, cabot, eruptions, baroque, butchers, hispanic,\n",
      "Nearest to be: by, have, was, is, deductions, been, hmos, foundational,\n",
      "Nearest to new: drivetrain, ratio, cameroons, hypothalamus, gustaf, popularization, train, honesty,\n",
      "Nearest to d: b, brentano, moabite, closet, sailed, frowned, ferrari, inquirer,\n",
      "Nearest to over: with, movies, melts, degree, handbuch, neighbourhoods, amounting, instrumentalists,\n",
      "Nearest to also: bonzo, sometimes, which, who, outwardly, often, spoof, defiant,\n",
      "Nearest to six: eight, four, seven, five, nine, three, zero, two,\n",
      "Nearest to after: in, before, massachusetts, bliss, fold, when, artform, censuses,\n",
      "Nearest to this: it, the, pragmatic, ekspres, rpg, which, a, that,\n",
      "Nearest to only: dispute, parachutes, jurassic, kiribati, cambridge, deepening, youth, patan,\n",
      "Nearest to up: version, virility, neopaganism, mulberry, editorials, belleville, kwazulu, acetaminophen,\n",
      "Nearest to while: start, shivaji, larsen, secreting, parentheses, young, deposing, but,\n",
      "Nearest to b: d, landfill, spiritually, cunha, keratin, contextual, bukem, encyclop,\n",
      "Nearest to or: and, s, of, vo, ounces, overcoming, metropolis, colonialism,\n",
      "Nearest to system: realists, freeman, republic, roadside, decades, whereabouts, ligaments, catchment,\n",
      "Nearest to may: lor, can, would, hedeby, tw, might, must, rakyat,\n",
      "Average loss at step 12000: 3.604252\n",
      "Average loss at step 14000: 3.560633\n",
      "Average loss at step 16000: 3.410346\n",
      "Average loss at step 18000: 3.453520\n",
      "Average loss at step 20000: 3.536654\n",
      "Nearest to see: fineness, nm, coimbra, baroque, semiautomatic, comparison, humiliation, kanons,\n",
      "Nearest to be: have, by, been, is, was, were, exposes, are,\n",
      "Nearest to new: honesty, ratio, popularization, gustaf, cameroons, arawak, finned, drivetrain,\n",
      "Nearest to d: b, brentano, moabite, leakage, croatian, hiberno, actus, papen,\n",
      "Nearest to over: degree, at, balm, handbuch, after, dartmoor, amounting, tyrants,\n",
      "Nearest to also: which, now, often, still, sometimes, who, outwardly, bonzo,\n",
      "Nearest to six: seven, four, eight, five, nine, three, zero, two,\n",
      "Nearest to after: before, when, massachusetts, at, into, ostensible, from, joined,\n",
      "Nearest to this: it, which, rpg, the, gerhardt, another, pragmatic, its,\n",
      "Nearest to only: dispute, difficult, jurassic, parachutes, kiribati, we, toppling, not,\n",
      "Nearest to up: virility, version, kwazulu, him, dire, vocalized, belleville, neopaganism,\n",
      "Nearest to while: but, deposing, young, start, datagrams, and, were, through,\n",
      "Nearest to b: d, cunha, vytautas, rhazes, spiritually, miscellaneous, bukem, keyboards,\n",
      "Nearest to or: and, than, with, luo, pretender, opengl, for, bead,\n",
      "Nearest to system: freeman, roadside, decades, ligaments, systems, republic, alum, endeavored,\n",
      "Nearest to may: can, would, might, will, must, lor, could, herrings,\n",
      "Average loss at step 22000: 3.501510\n",
      "Average loss at step 24000: 3.485816\n",
      "Average loss at step 26000: 3.482688\n",
      "Average loss at step 28000: 3.475846\n",
      "Average loss at step 30000: 3.503565\n",
      "Nearest to see: fineness, humiliation, nm, semiautomatic, list, sk, coimbra, kanons,\n",
      "Nearest to be: have, been, is, are, were, babes, was, exposes,\n",
      "Nearest to new: honesty, cameroons, arawak, vella, popularization, natural, drivetrain, affections,\n",
      "Nearest to d: b, brentano, moabite, leakage, cunha, rhineland, croatian, dandridge,\n",
      "Nearest to over: pok, at, holds, disturbances, through, after, before, finally,\n",
      "Nearest to also: now, often, sometimes, still, bonzo, which, frequently, outwardly,\n",
      "Nearest to six: eight, five, seven, four, nine, three, zero, two,\n",
      "Nearest to after: before, when, during, from, ostensible, joined, bliss, was,\n",
      "Nearest to this: which, it, that, some, pragmatic, rpg, another, airlift,\n",
      "Nearest to only: parachutes, difficult, not, we, cisc, dispute, autistic, toppling,\n",
      "Nearest to up: him, virility, version, kwazulu, vocalized, join, icon, nuovo,\n",
      "Nearest to while: but, however, is, datagrams, commentator, are, remained, until,\n",
      "Nearest to b: d, cunha, displeasure, bahn, brentwood, intercontinental, mecca, leakage,\n",
      "Nearest to or: and, than, but, toothed, overcoming, drusilla, winnipeg, prohibitive,\n",
      "Nearest to system: systems, ligaments, decades, roadside, deliver, freeman, religion, basin,\n",
      "Nearest to may: can, would, will, could, must, might, should, cannot,\n",
      "Average loss at step 32000: 3.500507\n",
      "Average loss at step 34000: 3.488722\n",
      "Average loss at step 36000: 3.455218\n",
      "Average loss at step 38000: 3.295660\n",
      "Average loss at step 40000: 3.428930\n",
      "Nearest to see: list, humiliation, coimbra, have, sk, include, sibling, bee,\n",
      "Nearest to be: have, been, is, babes, was, were, everywhere, are,\n",
      "Nearest to new: arawak, honesty, second, gustaf, german, cameroons, drivetrain, digital,\n",
      "Nearest to d: b, UNK, brentano, croatian, leakage, moabite, cunha, frowned,\n",
      "Nearest to over: finally, at, pok, through, before, wen, holds, hom,\n",
      "Nearest to also: often, sometimes, now, still, usually, which, frequently, never,\n",
      "Nearest to six: seven, four, five, eight, nine, three, two, one,\n",
      "Nearest to after: before, during, when, bliss, joined, into, for, ostensible,\n",
      "Nearest to this: which, it, that, the, some, rpg, slugging, any,\n",
      "Nearest to only: not, it, parachutes, specialities, first, preservatives, never, therefore,\n",
      "Nearest to up: him, them, out, vocalized, back, injuring, down, panned,\n",
      "Nearest to while: but, when, were, are, although, however, commentator, datagrams,\n",
      "Nearest to b: d, cunha, mishneh, UNK, j, displeasure, bahn, c,\n",
      "Nearest to or: and, than, adversity, bead, harry, perched, slowly, intrusion,\n",
      "Nearest to system: systems, religion, ligaments, stockpiles, freeman, ravalomanana, basin, behaviors,\n",
      "Nearest to may: can, would, will, could, might, must, should, cannot,\n",
      "Average loss at step 42000: 3.433494\n",
      "Average loss at step 44000: 3.448378\n",
      "Average loss at step 46000: 3.448618\n",
      "Average loss at step 48000: 3.352193\n",
      "Average loss at step 50000: 3.390164\n",
      "Nearest to see: include, list, includes, numa, sibling, prohibitive, neurotransmitter, aswan,\n",
      "Nearest to be: been, was, were, have, being, become, are, babes,\n",
      "Nearest to new: arawak, german, countering, third, courtroom, cameroons, derivative, monstrous,\n",
      "Nearest to d: b, leakage, h, brentano, croatian, savant, displeasure, cunha,\n",
      "Nearest to over: through, finally, pok, tyrants, galileo, staffs, wehrmacht, newtonian,\n",
      "Nearest to also: often, now, which, still, bonzo, sometimes, then, usually,\n",
      "Nearest to six: eight, seven, four, five, nine, three, two, one,\n",
      "Nearest to after: before, when, during, while, into, ostensible, through, joined,\n",
      "Nearest to this: which, it, the, he, that, slugging, some, santorini,\n",
      "Nearest to only: first, throughout, preservatives, either, dyed, dannebrog, therefore, ante,\n",
      "Nearest to up: out, them, him, down, injuring, back, panned, vocalized,\n",
      "Nearest to while: when, but, however, although, though, after, and, for,\n",
      "Nearest to b: d, doraemon, c, mishneh, displeasure, j, cunha, continuations,\n",
      "Nearest to or: and, than, safeguarding, but, pierson, shang, entendre, discarding,\n",
      "Nearest to system: systems, stockpiles, ligaments, freeman, ablation, harbour, boric, basin,\n",
      "Nearest to may: can, will, would, could, should, might, must, cannot,\n",
      "Average loss at step 52000: 3.436400\n",
      "Average loss at step 54000: 3.424381\n",
      "Average loss at step 56000: 3.438771\n",
      "Average loss at step 58000: 3.400254\n",
      "Average loss at step 60000: 3.391921\n",
      "Nearest to see: include, can, list, but, includes, numa, coimbra, sk,\n",
      "Nearest to be: been, have, babes, was, become, is, exposes, were,\n",
      "Nearest to new: courtroom, digital, arawak, derivative, tractor, lanka, countering, honesty,\n",
      "Nearest to d: b, c, h, croatian, brentano, r, cunha, leakage,\n",
      "Nearest to over: through, into, after, pok, bodhi, tyrants, between, around,\n",
      "Nearest to also: now, often, still, bonzo, frequently, sometimes, always, usually,\n",
      "Nearest to six: four, eight, seven, five, nine, three, two, zero,\n",
      "Nearest to after: before, when, during, despite, while, ostensible, resemblances, since,\n",
      "Nearest to this: it, which, that, some, there, the, a, redeeming,\n",
      "Nearest to only: until, also, first, specialities, throughout, still, either, no,\n",
      "Nearest to up: down, out, him, them, back, injuring, fierce, vocalized,\n",
      "Nearest to while: when, although, though, before, but, were, despite, after,\n",
      "Nearest to b: d, c, f, r, mishneh, m, boyer, continuations,\n",
      "Nearest to or: and, than, reassembled, for, including, like, pierson, stretching,\n",
      "Nearest to system: systems, stockpiles, network, software, republic, basin, justly, ablation,\n",
      "Nearest to may: can, would, will, could, might, should, must, cannot,\n",
      "Average loss at step 62000: 3.234299\n",
      "Average loss at step 64000: 3.252746\n",
      "Average loss at step 66000: 3.406891\n",
      "Average loss at step 68000: 3.396442\n",
      "Average loss at step 70000: 3.357401\n",
      "Nearest to see: include, includes, list, but, references, numa, deems, signify,\n",
      "Nearest to be: been, become, is, were, babes, being, have, are,\n",
      "Nearest to new: arawak, courtroom, popularization, honesty, gustaf, qc, tractor, smoothing,\n",
      "Nearest to d: b, h, r, brentano, croatian, caplan, moabite, leakage,\n",
      "Nearest to over: through, around, about, pok, bodhi, purine, comparative, mascarenes,\n",
      "Nearest to also: still, now, often, which, usually, sometimes, therefore, never,\n",
      "Nearest to six: eight, seven, four, five, nine, three, two, zero,\n",
      "Nearest to after: before, during, when, ostensible, despite, without, if, since,\n",
      "Nearest to this: which, it, the, that, redeeming, gerhardt, some, there,\n",
      "Nearest to only: either, never, wrangler, still, always, easy, specialities, usually,\n",
      "Nearest to up: down, out, them, back, him, fierce, off, injuring,\n",
      "Nearest to while: although, however, when, though, including, before, where, and,\n",
      "Nearest to b: d, r, f, boyer, mishneh, displeasure, librarian, continuations,\n",
      "Nearest to or: and, than, any, likened, the, attitudes, nrms, of,\n",
      "Nearest to system: systems, network, inquest, basin, cocalus, stockpiles, republic, harbour,\n",
      "Nearest to may: can, would, could, will, might, should, must, cannot,\n",
      "Average loss at step 72000: 3.371535\n",
      "Average loss at step 74000: 3.351517\n",
      "Average loss at step 76000: 3.319102\n",
      "Average loss at step 78000: 3.352418\n",
      "Average loss at step 80000: 3.378256\n",
      "Nearest to see: include, includes, list, but, references, av, janos, aswan,\n",
      "Nearest to be: been, have, become, being, babes, were, are, is,\n",
      "Nearest to new: courtroom, gustaf, serene, honesty, nilsson, arawak, monstrous, deputy,\n",
      "Nearest to d: b, h, f, r, nr, leakage, mithraic, movers,\n",
      "Nearest to over: around, between, through, about, into, purine, tyrants, off,\n",
      "Nearest to also: still, now, often, never, sometimes, which, usually, therefore,\n",
      "Nearest to six: eight, five, seven, four, three, nine, two, one,\n",
      "Nearest to after: before, during, when, despite, while, in, without, since,\n",
      "Nearest to this: which, it, some, slugging, there, the, that, santorini,\n",
      "Nearest to only: either, hemispheres, norse, best, first, abs, correct, antidepressant,\n",
      "Nearest to up: out, down, back, them, off, him, injuring, fierce,\n",
      "Nearest to while: although, when, though, however, but, than, before, after,\n",
      "Nearest to b: d, r, c, f, boyer, mishneh, doraemon, displeasure,\n",
      "Nearest to or: and, islander, than, while, reuel, pierson, vitamins, workshop,\n",
      "Nearest to system: systems, network, universality, cocalus, program, bletchley, cohorts, storehouse,\n",
      "Nearest to may: can, would, could, will, might, must, should, cannot,\n",
      "Average loss at step 82000: 3.406751\n",
      "Average loss at step 84000: 3.407506\n",
      "Average loss at step 86000: 3.390077\n",
      "Average loss at step 88000: 3.352658\n",
      "Average loss at step 90000: 3.363525\n",
      "Nearest to see: references, include, includes, list, janos, but, borzoi, markov,\n",
      "Nearest to be: been, become, have, was, is, being, babes, scroll,\n",
      "Nearest to new: courtroom, modern, smoothing, honesty, gustaf, monstrous, derivative, deputy,\n",
      "Nearest to d: b, zero, slovakia, closet, swine, rung, h, mistreatment,\n",
      "Nearest to over: through, around, into, off, between, about, staffs, cesium,\n",
      "Nearest to also: now, still, often, which, therefore, sometimes, usually, never,\n",
      "Nearest to six: eight, seven, five, nine, four, three, two, zero,\n",
      "Nearest to after: before, when, during, despite, if, while, until, without,\n",
      "Nearest to this: it, which, some, the, gras, any, slugging, pragmatic,\n",
      "Nearest to only: either, no, still, therefore, actually, broch, even, immediately,\n",
      "Nearest to up: out, down, off, back, them, fierce, vocalized, him,\n",
      "Nearest to while: although, when, though, however, before, were, after, and,\n",
      "Nearest to b: d, r, f, boyer, neil, lloyd, h, j,\n",
      "Nearest to or: and, than, gollancz, reuel, illuminism, while, nighttime, mashed,\n",
      "Nearest to system: systems, network, universality, program, endeavored, applesoft, laws, function,\n",
      "Nearest to may: can, would, could, might, will, must, should, cannot,\n",
      "Average loss at step 92000: 3.397611\n",
      "Average loss at step 94000: 3.248315\n",
      "Average loss at step 96000: 3.358601\n",
      "Average loss at step 98000: 3.243621\n",
      "Average loss at step 100000: 3.353959\n",
      "Nearest to see: include, references, janos, includes, list, nakano, links, aswan,\n",
      "Nearest to be: been, have, being, become, are, were, was, is,\n",
      "Nearest to new: courtroom, arawak, digital, honesty, monstrous, modern, nilsson, gustaf,\n",
      "Nearest to d: b, h, cunha, triangulation, nikita, croatian, rhineland, tucked,\n",
      "Nearest to over: through, around, between, tyrants, into, about, purine, hurting,\n",
      "Nearest to also: now, still, often, sometimes, usually, actually, always, therefore,\n",
      "Nearest to six: seven, eight, four, five, nine, three, two, zero,\n",
      "Nearest to after: before, during, when, despite, without, while, if, until,\n",
      "Nearest to this: it, which, the, some, another, weu, redeeming, what,\n",
      "Nearest to only: still, no, not, hemispheres, antidepressant, either, abs, never,\n",
      "Nearest to up: out, back, down, off, them, him, fierce, panned,\n",
      "Nearest to while: although, when, though, but, before, and, however, after,\n",
      "Nearest to b: d, lloyd, cunha, gloster, papen, triangulation, neil, psychoacoustics,\n",
      "Nearest to or: and, than, toothed, gollancz, bongo, bowers, combustion, assorted,\n",
      "Nearest to system: systems, network, function, program, universality, weapon, computing, cohorts,\n",
      "Nearest to may: can, could, would, might, will, should, must, cannot,\n"
     ]
    }
   ],
   "source": [
    "num_steps = 100001\n",
    "chkpt_name = 'cbow_1.chkpt'\n",
    "\n",
    "with tf.Session(graph=graph) as session:\n",
    "  tf.initialize_all_variables().run()\n",
    "  print('Initialized')\n",
    "  average_loss = 0\n",
    "  for step in range(num_steps):\n",
    "    try:\n",
    "      saver.restore(sess, chkpt_name)\n",
    "      print(\"Model restored.\")\n",
    "    except:\n",
    "      print('Model not restored. Cant find that file or smth else!')\n",
    "    batch_data, batch_labels = generate_batch(\n",
    "      batch_size, num_skips, skip_window)\n",
    "    feed_dict = {train_dataset : batch_data, train_labels : batch_labels}\n",
    "    _, l = session.run([optimizer, loss], feed_dict=feed_dict)\n",
    "    average_loss += l\n",
    "    if step % 2000 == 0:\n",
    "      if step > 0:\n",
    "        average_loss = average_loss / 2000\n",
    "      # The average loss is an estimate of the loss over the last 2000 batches.\n",
    "      print('Average loss at step %d: %f' % (step, average_loss))\n",
    "      average_loss = 0\n",
    "    # note that this is expensive (~20% slowdown if computed every 500 steps)\n",
    "    if step % 10000 == 0:\n",
    "      sim = similarity.eval()\n",
    "      for i in xrange(valid_size):\n",
    "        valid_word = reverse_dictionary[valid_examples[i]]\n",
    "        top_k = 8 # number of nearest neighbors\n",
    "        nearest = (-sim[i, :]).argsort()[1:top_k+1]\n",
    "        log = 'Nearest to %s:' % valid_word\n",
    "        for k in xrange(top_k):\n",
    "          close_word = reverse_dictionary[nearest[k]]\n",
    "          log = '%s %s,' % (log, close_word)\n",
    "        print(log)\n",
    "  final_embeddings = normalized_embeddings.eval()\n",
    "  save_path = saver.save(sess, chkpt_name)\n",
    "  print(\"Model saved in file: %s\" % save_path)"
   ]
  },
  {
   "cell_type": "code",
   "execution_count": 37,
   "metadata": {
    "cellView": "both",
    "colab": {
     "autoexec": {
      "startup": false,
      "wait_interval": 0
     }
    },
    "colab_type": "code",
    "collapsed": false,
    "id": "jjJXYA_XzV79"
   },
   "outputs": [],
   "source": [
    "num_points = 400\n",
    "\n",
    "final_emb_fix = final_embeddings[1:num_points+1, :]\n",
    "final_emb_fix = np.asfarray( final_emb_fix, dtype='float' )\n",
    "tsne = TSNE(perplexity=30, n_components=2, init='pca', n_iter=5000)\n",
    "two_d_embeddings = tsne.fit_transform(final_emb_fix)"
   ]
  },
  {
   "cell_type": "code",
   "execution_count": 38,
   "metadata": {
    "cellView": "both",
    "colab": {
     "autoexec": {
      "startup": false,
      "wait_interval": 0
     },
     "output_extras": [
      {
       "item_id": 1
      }
     ]
    },
    "colab_type": "code",
    "collapsed": false,
    "executionInfo": {
     "elapsed": 4763,
     "status": "ok",
     "timestamp": 1445965465525,
     "user": {
      "color": "#1FA15D",
      "displayName": "Vincent Vanhoucke",
      "isAnonymous": false,
      "isMe": true,
      "permissionId": "05076109866853157986",
      "photoUrl": "//lh6.googleusercontent.com/-cCJa7dTDcgQ/AAAAAAAAAAI/AAAAAAAACgw/r2EZ_8oYer4/s50-c-k-no/photo.jpg",
      "sessionId": "2f1ffade4c9f20de",
      "userId": "102167687554210253930"
     },
     "user_tz": 420
    },
    "id": "o_e0D_UezcDe",
    "outputId": "df22e4a5-e8ec-4e5e-d384-c6cf37c68c34",
    "scrolled": true
   },
   "outputs": [
    {
     "name": "stderr",
     "output_type": "stream",
     "text": [
      "/home/ubuntu/.local/lib/python2.7/site-packages/ipykernel/pylab/config.py:66: DeprecationWarning: metadata {'config': True} was set from the constructor.  Metadata should be set using the .tag() method, e.g., Int().tag(key1='value1', key2='value2')\n",
      "  inline backend.\"\"\"\n",
      "/home/ubuntu/.local/lib/python2.7/site-packages/ipykernel/pylab/config.py:71: DeprecationWarning: metadata {'config': True} was set from the constructor.  Metadata should be set using the .tag() method, e.g., Int().tag(key1='value1', key2='value2')\n",
      "  'retina', 'jpeg', 'svg', 'pdf'.\"\"\")\n",
      "/home/ubuntu/.local/lib/python2.7/site-packages/ipykernel/pylab/config.py:85: DeprecationWarning: metadata {'config': True} was set from the constructor.  Metadata should be set using the .tag() method, e.g., Int().tag(key1='value1', key2='value2')\n",
      "  use `figure_formats` instead)\"\"\")\n",
      "/home/ubuntu/.local/lib/python2.7/site-packages/ipykernel/pylab/config.py:95: DeprecationWarning: metadata {'config': True} was set from the constructor.  Metadata should be set using the .tag() method, e.g., Int().tag(key1='value1', key2='value2')\n",
      "  \"\"\"\n",
      "/home/ubuntu/.local/lib/python2.7/site-packages/ipykernel/pylab/config.py:114: DeprecationWarning: metadata {'config': True} was set from the constructor.  Metadata should be set using the .tag() method, e.g., Int().tag(key1='value1', key2='value2')\n",
      "  \"\"\")\n",
      "/home/ubuntu/.local/lib/python2.7/site-packages/ipykernel/pylab/config.py:44: DeprecationWarning: InlineBackend._config_changed is deprecated: use @observe and @unobserve instead.\n",
      "  def _config_changed(self, name, old, new):\n",
      "/home/ubuntu/.local/lib/python2.7/site-packages/traitlets/traitlets.py:770: DeprecationWarning: A parent of InlineBackend._config_changed has adopted the new @observe(change) API\n",
      "  clsname, change_or_name), DeprecationWarning)\n",
      "/home/ubuntu/.local/lib/python2.7/site-packages/IPython/core/formatters.py:98: DeprecationWarning: DisplayFormatter._formatters_default is deprecated: use @default decorator instead.\n",
      "  def _formatters_default(self):\n",
      "/home/ubuntu/.local/lib/python2.7/site-packages/IPython/core/formatters.py:677: DeprecationWarning: PlainTextFormatter._deferred_printers_default is deprecated: use @default decorator instead.\n",
      "  def _deferred_printers_default(self):\n",
      "/home/ubuntu/.local/lib/python2.7/site-packages/IPython/core/formatters.py:669: DeprecationWarning: PlainTextFormatter._singleton_printers_default is deprecated: use @default decorator instead.\n",
      "  def _singleton_printers_default(self):\n",
      "/home/ubuntu/.local/lib/python2.7/site-packages/IPython/core/formatters.py:672: DeprecationWarning: PlainTextFormatter._type_printers_default is deprecated: use @default decorator instead.\n",
      "  def _type_printers_default(self):\n",
      "/home/ubuntu/.local/lib/python2.7/site-packages/IPython/core/formatters.py:672: DeprecationWarning: PlainTextFormatter._type_printers_default is deprecated: use @default decorator instead.\n",
      "  def _type_printers_default(self):\n",
      "/home/ubuntu/.local/lib/python2.7/site-packages/IPython/core/formatters.py:677: DeprecationWarning: PlainTextFormatter._deferred_printers_default is deprecated: use @default decorator instead.\n",
      "  def _deferred_printers_default(self):\n",
      "/home/ubuntu/.local/lib/python2.7/site-packages/IPython/core/formatters.py:92: DeprecationWarning: DisplayFormatter._ipython_display_formatter_default is deprecated: use @default decorator instead.\n",
      "  def _ipython_display_formatter_default(self):\n",
      "/home/ubuntu/.local/lib/python2.7/site-packages/IPython/core/formatters.py:669: DeprecationWarning: PlainTextFormatter._singleton_printers_default is deprecated: use @default decorator instead.\n",
      "  def _singleton_printers_default(self):\n",
      "/usr/lib/python2.7/dist-packages/matplotlib/collections.py:571: FutureWarning: elementwise comparison failed; returning scalar instead, but in the future will perform elementwise comparison\n",
      "  if self._edgecolors == str('face'):\n"
     ]
    },
    {
     "data": {
      "image/png": "[encoded data removed]",
      "text/plain": [
       "<matplotlib.figure.Figure at 0x7f3c07224950>"
      ]
     },
     "metadata": {},
     "output_type": "display_data"
    }
   ],
   "source": [
    "%matplotlib inline\n",
    "def plot(embeddings, labels):\n",
    "  assert embeddings.shape[0] >= len(labels), 'More labels than embeddings'\n",
    "  pylab.figure(figsize=(15,15))  # in inches\n",
    "  for i, label in enumerate(labels):\n",
    "    x, y = embeddings[i,:]\n",
    "    pylab.scatter(x, y)\n",
    "    pylab.annotate(label, xy=(x, y), xytext=(5, 2), textcoords='offset points',\n",
    "                   ha='right', va='bottom')\n",
    "  pylab.show()\n",
    "\n",
    "words = [reverse_dictionary[i] for i in range(1, num_points+1)]\n",
    "plot(two_d_embeddings, words)"
   ]
  },
  {
   "cell_type": "markdown",
   "metadata": {},
   "source": [
    "## Down there is my first try of CBOW"
   ]
  },
  {
   "cell_type": "code",
   "execution_count": 2,
   "metadata": {
    "cellView": "both",
    "colab": {
     "autoexec": {
      "startup": false,
      "wait_interval": 0
     }
    },
    "colab_type": "code",
    "collapsed": false,
    "id": "0K1ZyLn04QZf"
   },
   "outputs": [
    {
     "name": "stderr",
     "output_type": "stream",
     "text": [
      "/usr/lib/python2.7/dist-packages/sklearn/utils/sparsetools/__init__.py:3: RuntimeWarning: numpy.dtype size changed, may indicate binary incompatibility\n",
      "  from ._min_spanning_tree import minimum_spanning_tree\n",
      "/usr/lib/python2.7/dist-packages/sklearn/utils/sparsetools/_graph_validation.py:5: RuntimeWarning: numpy.dtype size changed, may indicate binary incompatibility\n",
      "  from ._graph_tools import csgraph_to_dense, csgraph_from_dense,\\\n",
      "/usr/lib/python2.7/dist-packages/sklearn/utils/sparsetools/__init__.py:4: RuntimeWarning: numpy.dtype size changed, may indicate binary incompatibility\n",
      "  from ._traversal import connected_components\n",
      "/usr/lib/python2.7/dist-packages/sklearn/neighbors/__init__.py:6: RuntimeWarning: numpy.dtype size changed, may indicate binary incompatibility\n",
      "  from .ball_tree import BallTree\n",
      "/usr/lib/python2.7/dist-packages/sklearn/neighbors/__init__.py:7: RuntimeWarning: numpy.dtype size changed, may indicate binary incompatibility\n",
      "  from .kd_tree import KDTree\n",
      "/usr/lib/python2.7/dist-packages/scipy/spatial/__init__.py:90: RuntimeWarning: numpy.dtype size changed, may indicate binary incompatibility\n",
      "  from .ckdtree import *\n",
      "/usr/lib/python2.7/dist-packages/scipy/spatial/__init__.py:91: RuntimeWarning: numpy.dtype size changed, may indicate binary incompatibility\n",
      "  from .qhull import *\n",
      "/usr/lib/python2.7/dist-packages/sklearn/utils/extmath.py:20: RuntimeWarning: numpy.dtype size changed, may indicate binary incompatibility\n",
      "  from ._logistic_sigmoid import _log_logistic_sigmoid\n",
      "/usr/lib/python2.7/dist-packages/sklearn/utils/extmath.py:22: RuntimeWarning: numpy.dtype size changed, may indicate binary incompatibility\n",
      "  from .sparsefuncs_fast import csr_row_norms\n",
      "/usr/lib/python2.7/dist-packages/scipy/stats/_continuous_distns.py:24: RuntimeWarning: numpy.dtype size changed, may indicate binary incompatibility\n",
      "  from . import vonmises_cython\n",
      "/usr/lib/python2.7/dist-packages/scipy/stats/stats.py:188: RuntimeWarning: numpy.dtype size changed, may indicate binary incompatibility\n",
      "  from ._rank import rankdata, tiecorrect\n",
      "/usr/lib/python2.7/dist-packages/sklearn/metrics/cluster/supervised.py:18: RuntimeWarning: numpy.dtype size changed, may indicate binary incompatibility\n",
      "  from .expected_mutual_info_fast import expected_mutual_information\n",
      "/usr/lib/python2.7/dist-packages/sklearn/metrics/pairwise.py:56: RuntimeWarning: numpy.dtype size changed, may indicate binary incompatibility\n",
      "  from .pairwise_fast import _chi2_kernel_fast, _sparse_manhattan\n",
      "/usr/lib/python2.7/dist-packages/sklearn/utils/graph.py:16: RuntimeWarning: numpy.dtype size changed, may indicate binary incompatibility\n",
      "  from .graph_shortest_path import graph_shortest_path\n",
      "/usr/lib/python2.7/dist-packages/scipy/interpolate/interpolate.py:28: RuntimeWarning: numpy.dtype size changed, may indicate binary incompatibility\n",
      "  from . import _ppoly\n",
      "/usr/lib/python2.7/dist-packages/sklearn/linear_model/least_angle.py:24: RuntimeWarning: numpy.dtype size changed, may indicate binary incompatibility\n",
      "  from ..utils import array2d, arrayfuncs, as_float_array, check_arrays\n",
      "/usr/lib/python2.7/dist-packages/sklearn/linear_model/coordinate_descent.py:26: RuntimeWarning: numpy.dtype size changed, may indicate binary incompatibility\n",
      "  from . import cd_fast\n",
      "/usr/lib/python2.7/dist-packages/sklearn/linear_model/__init__.py:21: RuntimeWarning: numpy.dtype size changed, may indicate binary incompatibility\n",
      "  from .sgd_fast import Hinge, Log, ModifiedHuber, SquaredLoss, Huber\n",
      "/usr/lib/python2.7/dist-packages/sklearn/svm/base.py:8: RuntimeWarning: numpy.dtype size changed, may indicate binary incompatibility\n",
      "  from . import libsvm, liblinear\n",
      "/usr/lib/python2.7/dist-packages/sklearn/svm/base.py:9: RuntimeWarning: numpy.dtype size changed, may indicate binary incompatibility\n",
      "  from . import libsvm_sparse\n",
      "/usr/lib/python2.7/dist-packages/sklearn/utils/random.py:9: RuntimeWarning: numpy.dtype size changed, may indicate binary incompatibility\n",
      "  from ._random import sample_without_replacement\n",
      "/usr/lib/python2.7/dist-packages/sklearn/isotonic.py:11: RuntimeWarning: numpy.dtype size changed, may indicate binary incompatibility\n",
      "  from ._isotonic import _isotonic_regression\n",
      "/usr/lib/python2.7/dist-packages/sklearn/manifold/t_sne.py:21: RuntimeWarning: numpy.dtype size changed, may indicate binary incompatibility\n",
      "  from . import _utils\n"
     ]
    }
   ],
   "source": [
    "# These are all the modules we'll be using later. Make sure you can import them\n",
    "# before proceeding further.\n",
    "from __future__ import print_function\n",
    "import collections\n",
    "import math\n",
    "import numpy as np\n",
    "import os\n",
    "import random\n",
    "import tensorflow as tf\n",
    "import zipfile\n",
    "from matplotlib import pylab\n",
    "from six.moves import range\n",
    "from six.moves.urllib.request import urlretrieve\n",
    "from sklearn.manifold import TSNE"
   ]
  },
  {
   "cell_type": "markdown",
   "metadata": {
    "colab_type": "text",
    "id": "aCjPJE944bkV"
   },
   "source": [
    "Download the data from the source website if necessary."
   ]
  },
  {
   "cell_type": "code",
   "execution_count": 3,
   "metadata": {
    "cellView": "both",
    "colab": {
     "autoexec": {
      "startup": false,
      "wait_interval": 0
     },
     "output_extras": [
      {
       "item_id": 1
      }
     ]
    },
    "colab_type": "code",
    "collapsed": false,
    "executionInfo": {
     "elapsed": 14640,
     "status": "ok",
     "timestamp": 1445964482948,
     "user": {
      "color": "#1FA15D",
      "displayName": "Vincent Vanhoucke",
      "isAnonymous": false,
      "isMe": true,
      "permissionId": "05076109866853157986",
      "photoUrl": "//lh6.googleusercontent.com/-cCJa7dTDcgQ/AAAAAAAAAAI/AAAAAAAACgw/r2EZ_8oYer4/s50-c-k-no/photo.jpg",
      "sessionId": "2f1ffade4c9f20de",
      "userId": "102167687554210253930"
     },
     "user_tz": 420
    },
    "id": "RJ-o3UBUFtCw",
    "outputId": "c4ec222c-80b5-4298-e635-93ca9f79c3b7"
   },
   "outputs": [
    {
     "name": "stdout",
     "output_type": "stream",
     "text": [
      "Found and verified text8.zip\n"
     ]
    }
   ],
   "source": [
    "url = 'http://mattmahoney.net/dc/'\n",
    "\n",
    "def maybe_download(filename, expected_bytes):\n",
    "  \"\"\"Download a file if not present, and make sure it's the right size.\"\"\"\n",
    "  if not os.path.exists(filename):\n",
    "    filename, _ = urlretrieve(url + filename, filename)\n",
    "  statinfo = os.stat(filename)\n",
    "  if statinfo.st_size == expected_bytes:\n",
    "    print('Found and verified %s' % filename)\n",
    "  else:\n",
    "    print(statinfo.st_size)\n",
    "    raise Exception(\n",
    "      'Failed to verify ' + filename + '. Can you get to it with a browser?')\n",
    "  return filename\n",
    "\n",
    "filename = maybe_download('text8.zip', 31344016)"
   ]
  },
  {
   "cell_type": "markdown",
   "metadata": {
    "colab_type": "text",
    "id": "Zqz3XiqI4mZT"
   },
   "source": [
    "Read the data into a string."
   ]
  },
  {
   "cell_type": "code",
   "execution_count": 4,
   "metadata": {
    "cellView": "both",
    "colab": {
     "autoexec": {
      "startup": false,
      "wait_interval": 0
     },
     "output_extras": [
      {
       "item_id": 1
      }
     ]
    },
    "colab_type": "code",
    "collapsed": false,
    "executionInfo": {
     "elapsed": 28844,
     "status": "ok",
     "timestamp": 1445964497165,
     "user": {
      "color": "#1FA15D",
      "displayName": "Vincent Vanhoucke",
      "isAnonymous": false,
      "isMe": true,
      "permissionId": "05076109866853157986",
      "photoUrl": "//lh6.googleusercontent.com/-cCJa7dTDcgQ/AAAAAAAAAAI/AAAAAAAACgw/r2EZ_8oYer4/s50-c-k-no/photo.jpg",
      "sessionId": "2f1ffade4c9f20de",
      "userId": "102167687554210253930"
     },
     "user_tz": 420
    },
    "id": "Mvf09fjugFU_",
    "outputId": "e3a928b4-1645-4fe8-be17-fcf47de5716d"
   },
   "outputs": [
    {
     "name": "stdout",
     "output_type": "stream",
     "text": [
      "Data size 17005207\n"
     ]
    }
   ],
   "source": [
    "import sys\n",
    "sys.path.insert(0,\"/hdd/tensorflow/tensorflow/python/util\")\n",
    "import compat as cp\n",
    "def read_data(filename):\n",
    "  f = zipfile.ZipFile(filename)\n",
    "  for name in f.namelist():\n",
    "    return cp.as_str(f.read(name)).split() #tf.compat.as_str(f.read(name)).split()   \n",
    "  f.close()\n",
    "  \n",
    "words = read_data(filename)\n",
    "print('Data size %d' % len(words))"
   ]
  },
  {
   "cell_type": "markdown",
   "metadata": {
    "colab_type": "text",
    "id": "Zdw6i4F8glpp"
   },
   "source": [
    "Build the dictionary and replace rare words with UNK token."
   ]
  },
  {
   "cell_type": "code",
   "execution_count": 5,
   "metadata": {
    "cellView": "both",
    "colab": {
     "autoexec": {
      "startup": false,
      "wait_interval": 0
     },
     "output_extras": [
      {
       "item_id": 1
      }
     ]
    },
    "colab_type": "code",
    "collapsed": false,
    "executionInfo": {
     "elapsed": 28849,
     "status": "ok",
     "timestamp": 1445964497178,
     "user": {
      "color": "#1FA15D",
      "displayName": "Vincent Vanhoucke",
      "isAnonymous": false,
      "isMe": true,
      "permissionId": "05076109866853157986",
      "photoUrl": "//lh6.googleusercontent.com/-cCJa7dTDcgQ/AAAAAAAAAAI/AAAAAAAACgw/r2EZ_8oYer4/s50-c-k-no/photo.jpg",
      "sessionId": "2f1ffade4c9f20de",
      "userId": "102167687554210253930"
     },
     "user_tz": 420
    },
    "id": "gAL1EECXeZsD",
    "outputId": "3fb4ecd1-df67-44b6-a2dc-2291730970b2"
   },
   "outputs": [
    {
     "name": "stdout",
     "output_type": "stream",
     "text": [
      "Most common words (+UNK) [['UNK', 418391], ('the', 1061396), ('of', 593677), ('and', 416629), ('one', 411764)]\n",
      "Sample data [5239, 3084, 12, 6, 195, 2, 3137, 46, 59, 156]\n"
     ]
    }
   ],
   "source": [
    "vocabulary_size = 50000\n",
    "\n",
    "def build_dataset(words):\n",
    "  count = [['UNK', -1]]\n",
    "  count.extend(collections.Counter(words).most_common(vocabulary_size - 1))\n",
    "  dictionary = dict()\n",
    "  for word, _ in count:\n",
    "    dictionary[word] = len(dictionary)\n",
    "  data = list()\n",
    "  unk_count = 0\n",
    "  for word in words:\n",
    "    if word in dictionary:\n",
    "      index = dictionary[word]\n",
    "    else:\n",
    "      index = 0  # dictionary['UNK']\n",
    "      unk_count = unk_count + 1\n",
    "    data.append(index)\n",
    "  count[0][1] = unk_count\n",
    "  reverse_dictionary = dict(zip(dictionary.values(), dictionary.keys())) \n",
    "  return data, count, dictionary, reverse_dictionary\n",
    "\n",
    "data, count, dictionary, reverse_dictionary = build_dataset(words)\n",
    "print('Most common words (+UNK)', count[:5])\n",
    "print('Sample data', data[:10])\n",
    "del words  # Hint to reduce memory."
   ]
  },
  {
   "cell_type": "markdown",
   "metadata": {
    "colab_type": "text",
    "id": "lFwoyygOmWsL"
   },
   "source": [
    "Function to generate a training batch for the skip-gram model."
   ]
  },
  {
   "cell_type": "code",
   "execution_count": 32,
   "metadata": {
    "cellView": "both",
    "colab": {
     "autoexec": {
      "startup": false,
      "wait_interval": 0
     },
     "output_extras": [
      {
       "item_id": 1
      }
     ]
    },
    "colab_type": "code",
    "collapsed": false,
    "executionInfo": {
     "elapsed": 113,
     "status": "ok",
     "timestamp": 1445964901989,
     "user": {
      "color": "#1FA15D",
      "displayName": "Vincent Vanhoucke",
      "isAnonymous": false,
      "isMe": true,
      "permissionId": "05076109866853157986",
      "photoUrl": "//lh6.googleusercontent.com/-cCJa7dTDcgQ/AAAAAAAAAAI/AAAAAAAACgw/r2EZ_8oYer4/s50-c-k-no/photo.jpg",
      "sessionId": "2f1ffade4c9f20de",
      "userId": "102167687554210253930"
     },
     "user_tz": 420
    },
    "id": "w9APjA-zmfjV",
    "outputId": "67cccb02-cdaf-4e47-d489-43bcc8d57bb8"
   },
   "outputs": [
    {
     "name": "stdout",
     "output_type": "stream",
     "text": [
      "data: ['anarchism', 'originated', 'as', 'a', 'term', 'of', 'abuse', 'first']\n",
      "\n",
      "with prev = 1 and post = 1:\n",
      "    batch: ['anarchism', 'as']\n",
      "    label: ['originated']\n",
      "    batch: ['originated', 'a']\n",
      "    label: ['as']\n",
      "    batch: ['as', 'term']\n",
      "    label: ['a']\n",
      "    batch: ['a', 'of']\n",
      "    label: ['term']\n",
      "    batch: ['term', 'abuse']\n",
      "    label: ['of']\n",
      "    batch: ['of', 'first']\n",
      "    label: ['abuse']\n",
      "    batch: ['abuse', 'used']\n",
      "    label: ['first']\n",
      "    batch: ['first', 'against']\n",
      "    label: ['used']\n",
      "\n",
      "with prev = 1 and post = 2:\n",
      "    batch: ['anarchism', 'as', 'a']\n",
      "    label: ['originated']\n",
      "    batch: ['originated', 'a', 'term']\n",
      "    label: ['as']\n",
      "    batch: ['as', 'term', 'of']\n",
      "    label: ['a']\n",
      "    batch: ['a', 'of', 'abuse']\n",
      "    label: ['term']\n",
      "    batch: ['term', 'abuse', 'first']\n",
      "    label: ['of']\n",
      "    batch: ['of', 'first', 'used']\n",
      "    label: ['abuse']\n",
      "    batch: ['abuse', 'used', 'against']\n",
      "    label: ['first']\n",
      "    batch: ['first', 'against', 'early']\n",
      "    label: ['used']\n",
      "\n",
      "with prev = 2 and post = 2:\n",
      "    batch: ['anarchism', 'originated', 'a', 'term']\n",
      "    label: ['as']\n",
      "    batch: ['originated', 'as', 'term', 'of']\n",
      "    label: ['a']\n",
      "    batch: ['as', 'a', 'of', 'abuse']\n",
      "    label: ['term']\n",
      "    batch: ['a', 'term', 'abuse', 'first']\n",
      "    label: ['of']\n",
      "    batch: ['term', 'of', 'first', 'used']\n",
      "    label: ['abuse']\n",
      "    batch: ['of', 'abuse', 'used', 'against']\n",
      "    label: ['first']\n",
      "    batch: ['abuse', 'first', 'against', 'early']\n",
      "    label: ['used']\n",
      "    batch: ['first', 'used', 'early', 'working']\n",
      "    label: ['against']\n"
     ]
    }
   ],
   "source": [
    "data_index = 0\n",
    "\n",
    "def generate_batch(batch_size, n_prev, n_post):\n",
    "  global data_index\n",
    "  assert n_prev>0 or n_post>0\n",
    "  batch = np.ndarray(shape=(batch_size,n_prev+n_post), dtype=np.int32)\n",
    "  labels = np.ndarray(shape=(batch_size, 1), dtype=np.int32)\n",
    "  \n",
    "  span = n_prev + 1 + n_post \n",
    "  for i in xrange(batch_size):\n",
    "    j=0\n",
    "    while j < n_prev:\n",
    "      batch[i,j]=data[data_index+j]\n",
    "      j = j + 1\n",
    "    labels[i]=data[data_index+j]\n",
    "    while j < n_prev+n_post:\n",
    "      batch[i,j]=data[data_index+j+1]\n",
    "      j = j + 1     \n",
    "    data_index = (data_index + 1) % len(data)\n",
    "  return batch, labels\n",
    "\n",
    "print('data:', [reverse_dictionary[di] for di in data[:8]])\n",
    "\n",
    "for n_prev, n_post in [(1, 1), (1, 2),(2,2)]:\n",
    "    data_index = 0\n",
    "    batch, labels = generate_batch(batch_size=8, n_prev=n_prev, n_post=n_post)\n",
    "    print('\\nwith prev = %d and post = %d:' % (n_prev, n_post))\n",
    "    for i in xrange(8):\n",
    "      print('    batch:', [reverse_dictionary[bi] for bi in batch[i,:]])\n",
    "      print('    label:', [reverse_dictionary[li] for li in labels[i,:]])"
   ]
  },
  {
   "cell_type": "markdown",
   "metadata": {
    "colab_type": "text",
    "id": "Ofd1MbBuwiva"
   },
   "source": [
    "Train a skip-gram model."
   ]
  },
  {
   "cell_type": "code",
   "execution_count": 33,
   "metadata": {
    "cellView": "both",
    "colab": {
     "autoexec": {
      "startup": false,
      "wait_interval": 0
     }
    },
    "colab_type": "code",
    "collapsed": false,
    "id": "8pQKsV4Vwlzy"
   },
   "outputs": [
    {
     "ename": "ValueError",
     "evalue": "Shape (128, 4, 128) must have rank 2",
     "output_type": "error",
     "traceback": [
      "\u001b[1;31m---------------------------------------------------------------------------\u001b[0m",
      "\u001b[1;31mValueError\u001b[0m                                Traceback (most recent call last)",
      "\u001b[1;32m<ipython-input-33-9db471f19b5f>\u001b[0m in \u001b[0;36m<module>\u001b[1;34m()\u001b[0m\n\u001b[0;32m     31\u001b[0m   loss = tf.reduce_mean(\n\u001b[0;32m     32\u001b[0m     tf.nn.sampled_softmax_loss(softmax_weights, softmax_biases, embed,\n\u001b[1;32m---> 33\u001b[1;33m                                train_labels, num_sampled, vocabulary_size))\n\u001b[0m\u001b[0;32m     34\u001b[0m \u001b[1;33m\u001b[0m\u001b[0m\n\u001b[0;32m     35\u001b[0m   \u001b[1;31m# Optimizer.\u001b[0m\u001b[1;33m\u001b[0m\u001b[1;33m\u001b[0m\u001b[0m\n",
      "\u001b[1;32m/usr/local/lib/python2.7/dist-packages/tensorflow/python/ops/nn.pyc\u001b[0m in \u001b[0;36msampled_softmax_loss\u001b[1;34m(weights, biases, inputs, labels, num_sampled, num_classes, num_true, sampled_values, remove_accidental_hits, partition_strategy, name)\u001b[0m\n\u001b[0;32m    863\u001b[0m       \u001b[0mremove_accidental_hits\u001b[0m\u001b[1;33m=\u001b[0m\u001b[0mremove_accidental_hits\u001b[0m\u001b[1;33m,\u001b[0m\u001b[1;33m\u001b[0m\u001b[0m\n\u001b[0;32m    864\u001b[0m       \u001b[0mpartition_strategy\u001b[0m\u001b[1;33m=\u001b[0m\u001b[0mpartition_strategy\u001b[0m\u001b[1;33m,\u001b[0m\u001b[1;33m\u001b[0m\u001b[0m\n\u001b[1;32m--> 865\u001b[1;33m       name=name)\n\u001b[0m\u001b[0;32m    866\u001b[0m   \u001b[0msampled_losses\u001b[0m \u001b[1;33m=\u001b[0m \u001b[0mnn_ops\u001b[0m\u001b[1;33m.\u001b[0m\u001b[0msoftmax_cross_entropy_with_logits\u001b[0m\u001b[1;33m(\u001b[0m\u001b[0mlogits\u001b[0m\u001b[1;33m,\u001b[0m \u001b[0mlabels\u001b[0m\u001b[1;33m)\u001b[0m\u001b[1;33m\u001b[0m\u001b[0m\n\u001b[0;32m    867\u001b[0m   \u001b[1;31m# sampled_losses is a [batch_size] tensor.\u001b[0m\u001b[1;33m\u001b[0m\u001b[1;33m\u001b[0m\u001b[0m\n",
      "\u001b[1;32m/usr/local/lib/python2.7/dist-packages/tensorflow/python/ops/nn.pyc\u001b[0m in \u001b[0;36m_compute_sampled_logits\u001b[1;34m(weights, biases, inputs, labels, num_sampled, num_classes, num_true, sampled_values, subtract_log_q, remove_accidental_hits, partition_strategy, name)\u001b[0m\n\u001b[0;32m    695\u001b[0m     sampled_logits = math_ops.matmul(inputs,\n\u001b[0;32m    696\u001b[0m                                      \u001b[0msampled_w\u001b[0m\u001b[1;33m,\u001b[0m\u001b[1;33m\u001b[0m\u001b[0m\n\u001b[1;32m--> 697\u001b[1;33m                                      transpose_b=True) + sampled_b\n\u001b[0m\u001b[0;32m    698\u001b[0m \u001b[1;33m\u001b[0m\u001b[0m\n\u001b[0;32m    699\u001b[0m     \u001b[1;32mif\u001b[0m \u001b[0mremove_accidental_hits\u001b[0m\u001b[1;33m:\u001b[0m\u001b[1;33m\u001b[0m\u001b[0m\n",
      "\u001b[1;32m/usr/local/lib/python2.7/dist-packages/tensorflow/python/ops/math_ops.pyc\u001b[0m in \u001b[0;36mmatmul\u001b[1;34m(a, b, transpose_a, transpose_b, a_is_sparse, b_is_sparse, name)\u001b[0m\n\u001b[0;32m    949\u001b[0m                                    \u001b[0mtranspose_a\u001b[0m\u001b[1;33m=\u001b[0m\u001b[0mtranspose_a\u001b[0m\u001b[1;33m,\u001b[0m\u001b[1;33m\u001b[0m\u001b[0m\n\u001b[0;32m    950\u001b[0m                                    \u001b[0mtranspose_b\u001b[0m\u001b[1;33m=\u001b[0m\u001b[0mtranspose_b\u001b[0m\u001b[1;33m,\u001b[0m\u001b[1;33m\u001b[0m\u001b[0m\n\u001b[1;32m--> 951\u001b[1;33m                                    name=name)\n\u001b[0m\u001b[0;32m    952\u001b[0m \u001b[1;33m\u001b[0m\u001b[0m\n\u001b[0;32m    953\u001b[0m \u001b[0msparse_matmul\u001b[0m \u001b[1;33m=\u001b[0m \u001b[0mgen_math_ops\u001b[0m\u001b[1;33m.\u001b[0m\u001b[0m_sparse_mat_mul\u001b[0m\u001b[1;33m\u001b[0m\u001b[0m\n",
      "\u001b[1;32m/usr/local/lib/python2.7/dist-packages/tensorflow/python/ops/gen_math_ops.pyc\u001b[0m in \u001b[0;36m_mat_mul\u001b[1;34m(a, b, transpose_a, transpose_b, name)\u001b[0m\n\u001b[0;32m    684\u001b[0m   \"\"\"\n\u001b[0;32m    685\u001b[0m   return _op_def_lib.apply_op(\"MatMul\", a=a, b=b, transpose_a=transpose_a,\n\u001b[1;32m--> 686\u001b[1;33m                               transpose_b=transpose_b, name=name)\n\u001b[0m\u001b[0;32m    687\u001b[0m \u001b[1;33m\u001b[0m\u001b[0m\n\u001b[0;32m    688\u001b[0m \u001b[1;33m\u001b[0m\u001b[0m\n",
      "\u001b[1;32m/usr/local/lib/python2.7/dist-packages/tensorflow/python/ops/op_def_library.pyc\u001b[0m in \u001b[0;36mapply_op\u001b[1;34m(self, op_type_name, name, **keywords)\u001b[0m\n\u001b[0;32m    653\u001b[0m         op = g.create_op(op_type_name, inputs, output_types, name=scope,\n\u001b[0;32m    654\u001b[0m                          \u001b[0minput_types\u001b[0m\u001b[1;33m=\u001b[0m\u001b[0minput_types\u001b[0m\u001b[1;33m,\u001b[0m \u001b[0mattrs\u001b[0m\u001b[1;33m=\u001b[0m\u001b[0mattr_protos\u001b[0m\u001b[1;33m,\u001b[0m\u001b[1;33m\u001b[0m\u001b[0m\n\u001b[1;32m--> 655\u001b[1;33m                          op_def=op_def)\n\u001b[0m\u001b[0;32m    656\u001b[0m         \u001b[0moutputs\u001b[0m \u001b[1;33m=\u001b[0m \u001b[0mop\u001b[0m\u001b[1;33m.\u001b[0m\u001b[0moutputs\u001b[0m\u001b[1;33m\u001b[0m\u001b[0m\n\u001b[0;32m    657\u001b[0m         \u001b[1;32mreturn\u001b[0m \u001b[0m_Restructure\u001b[0m\u001b[1;33m(\u001b[0m\u001b[0mops\u001b[0m\u001b[1;33m.\u001b[0m\u001b[0mconvert_n_to_tensor\u001b[0m\u001b[1;33m(\u001b[0m\u001b[0moutputs\u001b[0m\u001b[1;33m)\u001b[0m\u001b[1;33m,\u001b[0m \u001b[0moutput_structure\u001b[0m\u001b[1;33m)\u001b[0m\u001b[1;33m\u001b[0m\u001b[0m\n",
      "\u001b[1;32m/usr/local/lib/python2.7/dist-packages/tensorflow/python/framework/ops.pyc\u001b[0m in \u001b[0;36mcreate_op\u001b[1;34m(self, op_type, inputs, dtypes, input_types, name, attrs, op_def, compute_shapes, compute_device)\u001b[0m\n\u001b[0;32m   2040\u001b[0m                     original_op=self._default_original_op, op_def=op_def)\n\u001b[0;32m   2041\u001b[0m     \u001b[1;32mif\u001b[0m \u001b[0mcompute_shapes\u001b[0m\u001b[1;33m:\u001b[0m\u001b[1;33m\u001b[0m\u001b[0m\n\u001b[1;32m-> 2042\u001b[1;33m       \u001b[0mset_shapes_for_outputs\u001b[0m\u001b[1;33m(\u001b[0m\u001b[0mret\u001b[0m\u001b[1;33m)\u001b[0m\u001b[1;33m\u001b[0m\u001b[0m\n\u001b[0m\u001b[0;32m   2043\u001b[0m     \u001b[0mself\u001b[0m\u001b[1;33m.\u001b[0m\u001b[0m_add_op\u001b[0m\u001b[1;33m(\u001b[0m\u001b[0mret\u001b[0m\u001b[1;33m)\u001b[0m\u001b[1;33m\u001b[0m\u001b[0m\n\u001b[0;32m   2044\u001b[0m     \u001b[0mself\u001b[0m\u001b[1;33m.\u001b[0m\u001b[0m_record_op_seen_by_control_dependencies\u001b[0m\u001b[1;33m(\u001b[0m\u001b[0mret\u001b[0m\u001b[1;33m)\u001b[0m\u001b[1;33m\u001b[0m\u001b[0m\n",
      "\u001b[1;32m/usr/local/lib/python2.7/dist-packages/tensorflow/python/framework/ops.pyc\u001b[0m in \u001b[0;36mset_shapes_for_outputs\u001b[1;34m(op)\u001b[0m\n\u001b[0;32m   1526\u001b[0m       raise RuntimeError(\"No shape function registered for standard op: %s\"\n\u001b[0;32m   1527\u001b[0m                          % op.type)\n\u001b[1;32m-> 1528\u001b[1;33m   \u001b[0mshapes\u001b[0m \u001b[1;33m=\u001b[0m \u001b[0mshape_func\u001b[0m\u001b[1;33m(\u001b[0m\u001b[0mop\u001b[0m\u001b[1;33m)\u001b[0m\u001b[1;33m\u001b[0m\u001b[0m\n\u001b[0m\u001b[0;32m   1529\u001b[0m   \u001b[1;32mif\u001b[0m \u001b[0mlen\u001b[0m\u001b[1;33m(\u001b[0m\u001b[0mop\u001b[0m\u001b[1;33m.\u001b[0m\u001b[0moutputs\u001b[0m\u001b[1;33m)\u001b[0m \u001b[1;33m!=\u001b[0m \u001b[0mlen\u001b[0m\u001b[1;33m(\u001b[0m\u001b[0mshapes\u001b[0m\u001b[1;33m)\u001b[0m\u001b[1;33m:\u001b[0m\u001b[1;33m\u001b[0m\u001b[0m\n\u001b[0;32m   1530\u001b[0m     raise RuntimeError(\n",
      "\u001b[1;32m/usr/local/lib/python2.7/dist-packages/tensorflow/python/ops/common_shapes.pyc\u001b[0m in \u001b[0;36mmatmul_shape\u001b[1;34m(op)\u001b[0m\n\u001b[0;32m     79\u001b[0m \u001b[1;32mdef\u001b[0m \u001b[0mmatmul_shape\u001b[0m\u001b[1;33m(\u001b[0m\u001b[0mop\u001b[0m\u001b[1;33m)\u001b[0m\u001b[1;33m:\u001b[0m\u001b[1;33m\u001b[0m\u001b[0m\n\u001b[0;32m     80\u001b[0m   \u001b[1;34m\"\"\"Shape function for a MatMul op.\"\"\"\u001b[0m\u001b[1;33m\u001b[0m\u001b[0m\n\u001b[1;32m---> 81\u001b[1;33m   \u001b[0ma_shape\u001b[0m \u001b[1;33m=\u001b[0m \u001b[0mop\u001b[0m\u001b[1;33m.\u001b[0m\u001b[0minputs\u001b[0m\u001b[1;33m[\u001b[0m\u001b[1;36m0\u001b[0m\u001b[1;33m]\u001b[0m\u001b[1;33m.\u001b[0m\u001b[0mget_shape\u001b[0m\u001b[1;33m(\u001b[0m\u001b[1;33m)\u001b[0m\u001b[1;33m.\u001b[0m\u001b[0mwith_rank\u001b[0m\u001b[1;33m(\u001b[0m\u001b[1;36m2\u001b[0m\u001b[1;33m)\u001b[0m\u001b[1;33m\u001b[0m\u001b[0m\n\u001b[0m\u001b[0;32m     82\u001b[0m   \u001b[0mtranspose_a\u001b[0m \u001b[1;33m=\u001b[0m \u001b[0mop\u001b[0m\u001b[1;33m.\u001b[0m\u001b[0mget_attr\u001b[0m\u001b[1;33m(\u001b[0m\u001b[1;34m\"transpose_a\"\u001b[0m\u001b[1;33m)\u001b[0m\u001b[1;33m\u001b[0m\u001b[0m\n\u001b[0;32m     83\u001b[0m   \u001b[0mb_shape\u001b[0m \u001b[1;33m=\u001b[0m \u001b[0mop\u001b[0m\u001b[1;33m.\u001b[0m\u001b[0minputs\u001b[0m\u001b[1;33m[\u001b[0m\u001b[1;36m1\u001b[0m\u001b[1;33m]\u001b[0m\u001b[1;33m.\u001b[0m\u001b[0mget_shape\u001b[0m\u001b[1;33m(\u001b[0m\u001b[1;33m)\u001b[0m\u001b[1;33m.\u001b[0m\u001b[0mwith_rank\u001b[0m\u001b[1;33m(\u001b[0m\u001b[1;36m2\u001b[0m\u001b[1;33m)\u001b[0m\u001b[1;33m\u001b[0m\u001b[0m\n",
      "\u001b[1;32m/usr/local/lib/python2.7/dist-packages/tensorflow/python/framework/tensor_shape.pyc\u001b[0m in \u001b[0;36mwith_rank\u001b[1;34m(self, rank)\u001b[0m\n\u001b[0;32m    614\u001b[0m       \u001b[1;32mreturn\u001b[0m \u001b[0mself\u001b[0m\u001b[1;33m.\u001b[0m\u001b[0mmerge_with\u001b[0m\u001b[1;33m(\u001b[0m\u001b[0munknown_shape\u001b[0m\u001b[1;33m(\u001b[0m\u001b[0mndims\u001b[0m\u001b[1;33m=\u001b[0m\u001b[0mrank\u001b[0m\u001b[1;33m)\u001b[0m\u001b[1;33m)\u001b[0m\u001b[1;33m\u001b[0m\u001b[0m\n\u001b[0;32m    615\u001b[0m     \u001b[1;32mexcept\u001b[0m \u001b[0mValueError\u001b[0m\u001b[1;33m:\u001b[0m\u001b[1;33m\u001b[0m\u001b[0m\n\u001b[1;32m--> 616\u001b[1;33m       \u001b[1;32mraise\u001b[0m \u001b[0mValueError\u001b[0m\u001b[1;33m(\u001b[0m\u001b[1;34m\"Shape %s must have rank %d\"\u001b[0m \u001b[1;33m%\u001b[0m \u001b[1;33m(\u001b[0m\u001b[0mself\u001b[0m\u001b[1;33m,\u001b[0m \u001b[0mrank\u001b[0m\u001b[1;33m)\u001b[0m\u001b[1;33m)\u001b[0m\u001b[1;33m\u001b[0m\u001b[0m\n\u001b[0m\u001b[0;32m    617\u001b[0m \u001b[1;33m\u001b[0m\u001b[0m\n\u001b[0;32m    618\u001b[0m   \u001b[1;32mdef\u001b[0m \u001b[0mwith_rank_at_least\u001b[0m\u001b[1;33m(\u001b[0m\u001b[0mself\u001b[0m\u001b[1;33m,\u001b[0m \u001b[0mrank\u001b[0m\u001b[1;33m)\u001b[0m\u001b[1;33m:\u001b[0m\u001b[1;33m\u001b[0m\u001b[0m\n",
      "\u001b[1;31mValueError\u001b[0m: Shape (128, 4, 128) must have rank 2"
     ]
    }
   ],
   "source": [
    "batch_size = 128\n",
    "embedding_size = 128 # Dimension of the embedding vector.\n",
    "n_prev=2\n",
    "n_post=2\n",
    "valid_size = 16 # Random set of words to evaluate similarity on.\n",
    "valid_window = 100 # Only pick dev samples in the head of the distribution.\n",
    "valid_examples = np.array(random.sample(range(valid_window), valid_size))\n",
    "num_sampled = 64 # Number of negative examples to sample.\n",
    "\n",
    "graph = tf.Graph()\n",
    "\n",
    "with graph.as_default(), tf.device('/cpu:0'):\n",
    "\n",
    "  # Input data.\n",
    "  train_dataset = tf.placeholder(tf.int32, shape=[batch_size,n_prev+n_post])\n",
    "  train_labels = tf.placeholder(tf.int32, shape=[batch_size, 1])\n",
    "  valid_dataset = tf.constant(valid_examples, dtype=tf.int32)\n",
    "  \n",
    "  # Variables.\n",
    "  embeddings = tf.Variable(\n",
    "    tf.random_uniform([vocabulary_size, embedding_size], -1.0, 1.0))\n",
    "  softmax_weights = tf.Variable(\n",
    "    tf.truncated_normal([vocabulary_size, embedding_size],\n",
    "                         stddev=1.0 / math.sqrt(embedding_size)))\n",
    "  softmax_biases = tf.Variable(tf.zeros([vocabulary_size]))\n",
    "  \n",
    "  # Model.\n",
    "  # Look up embeddings for inputs.\n",
    "  embed = tf.nn.embedding_lookup(embeddings, train_dataset)\n",
    "  # Compute the softmax loss, using a sample of the negative labels each time.\n",
    "  loss = tf.reduce_mean(\n",
    "    tf.nn.sampled_softmax_loss(softmax_weights, softmax_biases, embed,\n",
    "                               train_labels, num_sampled, vocabulary_size))\n",
    "\n",
    "  # Optimizer.\n",
    "  optimizer = tf.train.AdagradOptimizer(1.0).minimize(loss)\n",
    "  \n",
    "  # Compute the similarity between minibatch examples and all embeddings.\n",
    "  # We use the cosine distance:\n",
    "  norm = tf.sqrt(tf.reduce_sum(tf.square(embeddings), 1, keep_dims=True))\n",
    "  normalized_embeddings = embeddings / norm\n",
    "  valid_embeddings = tf.nn.embedding_lookup(\n",
    "    normalized_embeddings, valid_dataset)\n",
    "  similarity = tf.matmul(valid_embeddings, tf.transpose(normalized_embeddings))"
   ]
  },
  {
   "cell_type": "code",
   "execution_count": null,
   "metadata": {
    "cellView": "both",
    "colab": {
     "autoexec": {
      "startup": false,
      "wait_interval": 0
     },
     "output_extras": [
      {
       "item_id": 23
      },
      {
       "item_id": 48
      },
      {
       "item_id": 61
      }
     ]
    },
    "colab_type": "code",
    "collapsed": false,
    "executionInfo": {
     "elapsed": 436189,
     "status": "ok",
     "timestamp": 1445965429787,
     "user": {
      "color": "#1FA15D",
      "displayName": "Vincent Vanhoucke",
      "isAnonymous": false,
      "isMe": true,
      "permissionId": "05076109866853157986",
      "photoUrl": "//lh6.googleusercontent.com/-cCJa7dTDcgQ/AAAAAAAAAAI/AAAAAAAACgw/r2EZ_8oYer4/s50-c-k-no/photo.jpg",
      "sessionId": "2f1ffade4c9f20de",
      "userId": "102167687554210253930"
     },
     "user_tz": 420
    },
    "id": "1bQFGceBxrWW",
    "outputId": "5ebd6d9a-33c6-4bcd-bf6d-252b0b6055e4"
   },
   "outputs": [],
   "source": [
    "num_steps = 100001\n",
    "\n",
    "with tf.Session(graph=graph) as session:\n",
    "  tf.initialize_all_variables().run()\n",
    "  print('Initialized')\n",
    "  average_loss = 0\n",
    "  for step in range(num_steps):\n",
    "    batch_data, batch_labels = generate_batch(\n",
    "      batch_size, num_skips, skip_window)\n",
    "    feed_dict = {train_dataset : batch_data, train_labels : batch_labels}\n",
    "    _, l = session.run([optimizer, loss], feed_dict=feed_dict)\n",
    "    average_loss += l\n",
    "    if step % 2000 == 0:\n",
    "      if step > 0:\n",
    "        average_loss = average_loss / 2000\n",
    "      # The average loss is an estimate of the loss over the last 2000 batches.\n",
    "      print('Average loss at step %d: %f' % (step, average_loss))\n",
    "      average_loss = 0\n",
    "    # note that this is expensive (~20% slowdown if computed every 500 steps)\n",
    "    if step % 10000 == 0:\n",
    "      sim = similarity.eval()\n",
    "      for i in xrange(valid_size):\n",
    "        valid_word = reverse_dictionary[valid_examples[i]]\n",
    "        top_k = 8 # number of nearest neighbors\n",
    "        nearest = (-sim[i, :]).argsort()[1:top_k+1]\n",
    "        log = 'Nearest to %s:' % valid_word\n",
    "        for k in xrange(top_k):\n",
    "          close_word = reverse_dictionary[nearest[k]]\n",
    "          log = '%s %s,' % (log, close_word)\n",
    "        print(log)\n",
    "  final_embeddings = normalized_embeddings.eval()"
   ]
  },
  {
   "cell_type": "code",
   "execution_count": null,
   "metadata": {
    "cellView": "both",
    "colab": {
     "autoexec": {
      "startup": false,
      "wait_interval": 0
     }
    },
    "colab_type": "code",
    "collapsed": false,
    "id": "jjJXYA_XzV79"
   },
   "outputs": [],
   "source": [
    "num_points = 400\n",
    "\n",
    "final_emb_fix = final_embeddings[1:num_points+1, :]\n",
    "final_emb_fix = np.asfarray( final_emb_fix, dtype='float' )\n",
    "tsne = TSNE(perplexity=30, n_components=2, init='pca', n_iter=5000)\n",
    "two_d_embeddings = tsne.fit_transform(final_emb_fix)"
   ]
  },
  {
   "cell_type": "code",
   "execution_count": null,
   "metadata": {
    "cellView": "both",
    "colab": {
     "autoexec": {
      "startup": false,
      "wait_interval": 0
     },
     "output_extras": [
      {
       "item_id": 1
      }
     ]
    },
    "colab_type": "code",
    "collapsed": false,
    "executionInfo": {
     "elapsed": 4763,
     "status": "ok",
     "timestamp": 1445965465525,
     "user": {
      "color": "#1FA15D",
      "displayName": "Vincent Vanhoucke",
      "isAnonymous": false,
      "isMe": true,
      "permissionId": "05076109866853157986",
      "photoUrl": "//lh6.googleusercontent.com/-cCJa7dTDcgQ/AAAAAAAAAAI/AAAAAAAACgw/r2EZ_8oYer4/s50-c-k-no/photo.jpg",
      "sessionId": "2f1ffade4c9f20de",
      "userId": "102167687554210253930"
     },
     "user_tz": 420
    },
    "id": "o_e0D_UezcDe",
    "outputId": "df22e4a5-e8ec-4e5e-d384-c6cf37c68c34"
   },
   "outputs": [],
   "source": [
    "%matplotlib inline\n",
    "def plot(embeddings, labels):\n",
    "  assert embeddings.shape[0] >= len(labels), 'More labels than embeddings'\n",
    "  pylab.figure(figsize=(15,15))  # in inches\n",
    "  for i, label in enumerate(labels):\n",
    "    x, y = embeddings[i,:]\n",
    "    pylab.scatter(x, y)\n",
    "    pylab.annotate(label, xy=(x, y), xytext=(5, 2), textcoords='offset points',\n",
    "                   ha='right', va='bottom')\n",
    "  pylab.show()\n",
    "\n",
    "words = [reverse_dictionary[i] for i in range(1, num_points+1)]\n",
    "plot(two_d_embeddings, words)"
   ]
  },
  {
   "cell_type": "code",
   "execution_count": null,
   "metadata": {
    "collapsed": true
   },
   "outputs": [],
   "source": []
  }
 ],
 "metadata": {
  "colab": {
   "default_view": {},
   "name": "5_word2vec.ipynb",
   "provenance": [],
   "version": "0.3.2",
   "views": {}
  },
  "kernelspec": {
   "display_name": "Python 2",
   "language": "python",
   "name": "python2"
  },
  "language_info": {
   "codemirror_mode": {
    "name": "ipython",
    "version": 2
   },
   "file_extension": ".py",
   "mimetype": "text/x-python",
   "name": "python",
   "nbconvert_exporter": "python",
   "pygments_lexer": "ipython2",
   "version": "2.7.9"
  }
 },
 "nbformat": 4,
 "nbformat_minor": 0
}
