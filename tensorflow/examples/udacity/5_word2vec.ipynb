{
 "cells": [
  {
   "cell_type": "markdown",
   "metadata": {
    "colab_type": "text",
    "id": "D7tqLMoKF6uq"
   },
   "source": [
    "Deep Learning\n",
    "=============\n",
    "\n",
    "Assignment 5\n",
    "------------\n",
    "\n",
    "The goal of this assignment is to train a skip-gram model over [Text8](http://mattmahoney.net/dc/textdata) data."
   ]
  },
  {
   "cell_type": "code",
   "execution_count": null,
   "metadata": {
    "cellView": "both",
    "colab": {
     "autoexec": {
      "startup": false,
      "wait_interval": 0
     }
    },
    "colab_type": "code",
    "collapsed": false,
    "id": "0K1ZyLn04QZf"
   },
   "outputs": [],
   "source": [
    "# These are all the modules we'll be using later. Make sure you can import them\n",
    "# before proceeding further.\n",
    "from __future__ import print_function\n",
    "import collections\n",
    "import math\n",
    "import numpy as np\n",
    "import os\n",
    "import random\n",
    "import tensorflow as tf\n",
    "import zipfile\n",
    "from matplotlib import pylab\n",
    "from six.moves import range\n",
    "from six.moves.urllib.request import urlretrieve\n",
    "from sklearn.manifold import TSNE"
   ]
  },
  {
   "cell_type": "markdown",
   "metadata": {
    "colab_type": "text",
    "id": "aCjPJE944bkV"
   },
   "source": [
    "Download the data from the source website if necessary."
   ]
  },
  {
   "cell_type": "code",
   "execution_count": null,
   "metadata": {
    "cellView": "both",
    "colab": {
     "autoexec": {
      "startup": false,
      "wait_interval": 0
     },
     "output_extras": [
      {
       "item_id": 1
      }
     ]
    },
    "colab_type": "code",
    "collapsed": false,
    "executionInfo": {
     "elapsed": 14640,
     "status": "ok",
     "timestamp": 1445964482948,
     "user": {
      "color": "#1FA15D",
      "displayName": "Vincent Vanhoucke",
      "isAnonymous": false,
      "isMe": true,
      "permissionId": "05076109866853157986",
      "photoUrl": "//lh6.googleusercontent.com/-cCJa7dTDcgQ/AAAAAAAAAAI/AAAAAAAACgw/r2EZ_8oYer4/s50-c-k-no/photo.jpg",
      "sessionId": "2f1ffade4c9f20de",
      "userId": "102167687554210253930"
     },
     "user_tz": 420
    },
    "id": "RJ-o3UBUFtCw",
    "outputId": "c4ec222c-80b5-4298-e635-93ca9f79c3b7"
   },
   "outputs": [],
   "source": [
    "url = 'http://mattmahoney.net/dc/'\n",
    "\n",
    "def maybe_download(filename, expected_bytes):\n",
    "  \"\"\"Download a file if not present, and make sure it's the right size.\"\"\"\n",
    "  if not os.path.exists(filename):\n",
    "    filename, _ = urlretrieve(url + filename, filename)\n",
    "  statinfo = os.stat(filename)\n",
    "  if statinfo.st_size == expected_bytes:\n",
    "    print('Found and verified %s' % filename)\n",
    "  else:\n",
    "    print(statinfo.st_size)\n",
    "    raise Exception(\n",
    "      'Failed to verify ' + filename + '. Can you get to it with a browser?')\n",
    "  return filename\n",
    "\n",
    "filename = maybe_download('text8.zip', 31344016)"
   ]
  },
  {
   "cell_type": "markdown",
   "metadata": {
    "colab_type": "text",
    "id": "Zqz3XiqI4mZT"
   },
   "source": [
    "Read the data into a string."
   ]
  },
  {
   "cell_type": "code",
   "execution_count": null,
   "metadata": {
    "cellView": "both",
    "colab": {
     "autoexec": {
      "startup": false,
      "wait_interval": 0
     },
     "output_extras": [
      {
       "item_id": 1
      }
     ]
    },
    "colab_type": "code",
    "collapsed": false,
    "executionInfo": {
     "elapsed": 28844,
     "status": "ok",
     "timestamp": 1445964497165,
     "user": {
      "color": "#1FA15D",
      "displayName": "Vincent Vanhoucke",
      "isAnonymous": false,
      "isMe": true,
      "permissionId": "05076109866853157986",
      "photoUrl": "//lh6.googleusercontent.com/-cCJa7dTDcgQ/AAAAAAAAAAI/AAAAAAAACgw/r2EZ_8oYer4/s50-c-k-no/photo.jpg",
      "sessionId": "2f1ffade4c9f20de",
      "userId": "102167687554210253930"
     },
     "user_tz": 420
    },
    "id": "Mvf09fjugFU_",
    "outputId": "e3a928b4-1645-4fe8-be17-fcf47de5716d"
   },
   "outputs": [],
   "source": [
    "import sys\n",
    "sys.path.insert(0,\"/hdd/tensorflow/tensorflow/python/util\")\n",
    "import compat as cp\n",
    "def read_data(filename):\n",
    "  f = zipfile.ZipFile(filename)\n",
    "  for name in f.namelist():\n",
    "    return cp.as_str(f.read(name)).split() #tf.compat.as_str(f.read(name)).split()   \n",
    "  f.close()\n",
    "  \n",
    "words = read_data(filename)\n",
    "print('Data size %d' % len(words))"
   ]
  },
  {
   "cell_type": "markdown",
   "metadata": {
    "colab_type": "text",
    "id": "Zdw6i4F8glpp"
   },
   "source": [
    "Build the dictionary and replace rare words with UNK token."
   ]
  },
  {
   "cell_type": "code",
   "execution_count": 58,
   "metadata": {
    "cellView": "both",
    "colab": {
     "autoexec": {
      "startup": false,
      "wait_interval": 0
     },
     "output_extras": [
      {
       "item_id": 1
      }
     ]
    },
    "colab_type": "code",
    "collapsed": false,
    "executionInfo": {
     "elapsed": 28849,
     "status": "ok",
     "timestamp": 1445964497178,
     "user": {
      "color": "#1FA15D",
      "displayName": "Vincent Vanhoucke",
      "isAnonymous": false,
      "isMe": true,
      "permissionId": "05076109866853157986",
      "photoUrl": "//lh6.googleusercontent.com/-cCJa7dTDcgQ/AAAAAAAAAAI/AAAAAAAACgw/r2EZ_8oYer4/s50-c-k-no/photo.jpg",
      "sessionId": "2f1ffade4c9f20de",
      "userId": "102167687554210253930"
     },
     "user_tz": 420
    },
    "id": "gAL1EECXeZsD",
    "outputId": "3fb4ecd1-df67-44b6-a2dc-2291730970b2"
   },
   "outputs": [
    {
     "name": "stdout",
     "output_type": "stream",
     "text": [
      "Most common words (+UNK) [['UNK', 418391], ('the', 1061396), ('of', 593677), ('and', 416629), ('one', 411764)]\n",
      "Sample data [5239, 3084, 12, 6, 195, 2, 3137, 46, 59, 156]\n"
     ]
    }
   ],
   "source": [
    "vocabulary_size = 50000\n",
    "\n",
    "def build_dataset(words):\n",
    "  count = [['UNK', -1]]\n",
    "  count.extend(collections.Counter(words).most_common(vocabulary_size - 1))\n",
    "  dictionary = dict()\n",
    "  for word, _ in count:\n",
    "    dictionary[word] = len(dictionary)\n",
    "  data = list()\n",
    "  unk_count = 0\n",
    "  for word in words:\n",
    "    if word in dictionary:\n",
    "      index = dictionary[word]\n",
    "    else:\n",
    "      index = 0  # dictionary['UNK']\n",
    "      unk_count = unk_count + 1\n",
    "    data.append(index)\n",
    "  count[0][1] = unk_count\n",
    "  reverse_dictionary = dict(zip(dictionary.values(), dictionary.keys())) \n",
    "  return data, count, dictionary, reverse_dictionary\n",
    "import pickle\n",
    "try:\n",
    "  fname = 'data_n_voc.pickle'\n",
    "  with open(fname,'wb') as f:\n",
    "    pickle.load([data, count, dictionary, reverse_dictionary],f)\n",
    "except:\n",
    "  with open(fname,'rb') as f:\n",
    "    data, count, dictionary, reverse_dictionary = build_dataset(words)\n",
    "    pickle.dump([data, count, dictionary, reverse_dictionary],f)\n",
    "  \n",
    "\n",
    "print('Most common words (+UNK)', count[:5])\n",
    "print('Sample data', data[:10])\n",
    "del words  # Hint to reduce memory."
   ]
  },
  {
   "cell_type": "markdown",
   "metadata": {
    "colab_type": "text",
    "id": "lFwoyygOmWsL"
   },
   "source": [
    "Function to generate a training batch for the skip-gram model."
   ]
  },
  {
   "cell_type": "code",
   "execution_count": null,
   "metadata": {
    "cellView": "both",
    "colab": {
     "autoexec": {
      "startup": false,
      "wait_interval": 0
     },
     "output_extras": [
      {
       "item_id": 1
      }
     ]
    },
    "colab_type": "code",
    "collapsed": false,
    "executionInfo": {
     "elapsed": 113,
     "status": "ok",
     "timestamp": 1445964901989,
     "user": {
      "color": "#1FA15D",
      "displayName": "Vincent Vanhoucke",
      "isAnonymous": false,
      "isMe": true,
      "permissionId": "05076109866853157986",
      "photoUrl": "//lh6.googleusercontent.com/-cCJa7dTDcgQ/AAAAAAAAAAI/AAAAAAAACgw/r2EZ_8oYer4/s50-c-k-no/photo.jpg",
      "sessionId": "2f1ffade4c9f20de",
      "userId": "102167687554210253930"
     },
     "user_tz": 420
    },
    "id": "w9APjA-zmfjV",
    "outputId": "67cccb02-cdaf-4e47-d489-43bcc8d57bb8"
   },
   "outputs": [],
   "source": [
    "data_index = 0\n",
    "\n",
    "def generate_batch(batch_size, num_skips, skip_window):\n",
    "  global data_index\n",
    "  assert batch_size % num_skips == 0\n",
    "  assert num_skips <= 2 * skip_window\n",
    "  batch = np.ndarray(shape=(batch_size), dtype=np.int32)\n",
    "  labels = np.ndarray(shape=(batch_size, 1), dtype=np.int32)\n",
    "  span = 2 * skip_window + 1 # [ skip_window target skip_window ]\n",
    "  buffer = collections.deque(maxlen=span)\n",
    "  for _ in range(span):\n",
    "    buffer.append(data[data_index])\n",
    "    data_index = (data_index + 1) % len(data)\n",
    "  for i in range(batch_size // num_skips):\n",
    "    target = skip_window  # target label at the center of the buffer\n",
    "    targets_to_avoid = [ skip_window ]\n",
    "    for j in range(num_skips):\n",
    "      while target in targets_to_avoid:\n",
    "        target = random.randint(0, span - 1)\n",
    "      targets_to_avoid.append(target)\n",
    "      batch[i * num_skips + j] = buffer[skip_window]\n",
    "      labels[i * num_skips + j, 0] = buffer[target]\n",
    "    buffer.append(data[data_index])\n",
    "    data_index = (data_index + 1) % len(data)\n",
    "  return batch, labels\n",
    "\n",
    "print('data:', [reverse_dictionary[di] for di in data[:8]])\n",
    "\n",
    "for num_skips, skip_window in [(2, 1), (4, 2)]:\n",
    "    data_index = 0\n",
    "    batch, labels = generate_batch(batch_size=8, num_skips=num_skips, skip_window=skip_window)\n",
    "    print('\\nwith num_skips = %d and skip_window = %d:' % (num_skips, skip_window))\n",
    "    print('    batch:', [reverse_dictionary[bi] for bi in batch])\n",
    "    print('    labels:', [reverse_dictionary[li] for li in labels.reshape(8)])"
   ]
  },
  {
   "cell_type": "markdown",
   "metadata": {
    "colab_type": "text",
    "id": "Ofd1MbBuwiva"
   },
   "source": [
    "Train a skip-gram model."
   ]
  },
  {
   "cell_type": "code",
   "execution_count": null,
   "metadata": {
    "cellView": "both",
    "colab": {
     "autoexec": {
      "startup": false,
      "wait_interval": 0
     }
    },
    "colab_type": "code",
    "collapsed": true,
    "id": "8pQKsV4Vwlzy"
   },
   "outputs": [],
   "source": [
    "batch_size = 128\n",
    "embedding_size = 128 # Dimension of the embedding vector.\n",
    "skip_window = 1 # How many words to consider left and right.\n",
    "num_skips = 2 # How many times to reuse an input to generate a label.\n",
    "# We pick a random validation set to sample nearest neighbors. here we limit the\n",
    "# validation samples to the words that have a low numeric ID, which by\n",
    "# construction are also the most frequent. \n",
    "valid_size = 16 # Random set of words to evaluate similarity on.\n",
    "valid_window = 100 # Only pick dev samples in the head of the distribution.\n",
    "valid_examples = np.array(random.sample(range(valid_window), valid_size))\n",
    "num_sampled = 64 # Number of negative examples to sample.\n",
    "\n",
    "graph = tf.Graph()\n",
    "\n",
    "with graph.as_default(), tf.device('/cpu:0'):\n",
    "\n",
    "  # Input data.\n",
    "  train_dataset = tf.placeholder(tf.int32, shape=[batch_size])\n",
    "  train_labels = tf.placeholder(tf.int32, shape=[batch_size, 1])\n",
    "  valid_dataset = tf.constant(valid_examples, dtype=tf.int32)\n",
    "  \n",
    "  # Variables.\n",
    "  embeddings = tf.Variable(\n",
    "    tf.random_uniform([vocabulary_size, embedding_size], -1.0, 1.0), name='embeddings')\n",
    "  softmax_weights = tf.Variable(\n",
    "    tf.truncated_normal([vocabulary_size, embedding_size],\n",
    "                         stddev=1.0 / math.sqrt(embedding_size)),name='softmax_weights')\n",
    "  softmax_biases = tf.Variable(tf.zeros([vocabulary_size]), name='softmax_biases')\n",
    "  \n",
    "  saver = tf.train.Saver()\n",
    "  \n",
    "  # Model.\n",
    "  # Look up embeddings for inputs.\n",
    "  embed = tf.nn.embedding_lookup(embeddings, train_dataset)\n",
    "  # Compute the softmax loss, using a sample of the negative labels each time.\n",
    "  loss = tf.reduce_mean(\n",
    "    tf.nn.sampled_softmax_loss(softmax_weights, softmax_biases, embed,\n",
    "                               train_labels, num_sampled, vocabulary_size))\n",
    "\n",
    "  # Optimizer.\n",
    "  optimizer = tf.train.AdagradOptimizer(1.0).minimize(loss)\n",
    "  \n",
    "  # Compute the similarity between minibatch examples and all embeddings.\n",
    "  # We use the cosine distance:\n",
    "  norm = tf.sqrt(tf.reduce_sum(tf.square(embeddings), 1, keep_dims=True))\n",
    "  normalized_embeddings = embeddings / norm\n",
    "  valid_embeddings = tf.nn.embedding_lookup(\n",
    "    normalized_embeddings, valid_dataset)\n",
    "  similarity = tf.matmul(valid_embeddings, tf.transpose(normalized_embeddings))"
   ]
  },
  {
   "cell_type": "code",
   "execution_count": null,
   "metadata": {
    "cellView": "both",
    "colab": {
     "autoexec": {
      "startup": false,
      "wait_interval": 0
     },
     "output_extras": [
      {
       "item_id": 23
      },
      {
       "item_id": 48
      },
      {
       "item_id": 61
      }
     ]
    },
    "colab_type": "code",
    "collapsed": false,
    "executionInfo": {
     "elapsed": 436189,
     "status": "ok",
     "timestamp": 1445965429787,
     "user": {
      "color": "#1FA15D",
      "displayName": "Vincent Vanhoucke",
      "isAnonymous": false,
      "isMe": true,
      "permissionId": "05076109866853157986",
      "photoUrl": "//lh6.googleusercontent.com/-cCJa7dTDcgQ/AAAAAAAAAAI/AAAAAAAACgw/r2EZ_8oYer4/s50-c-k-no/photo.jpg",
      "sessionId": "2f1ffade4c9f20de",
      "userId": "102167687554210253930"
     },
     "user_tz": 420
    },
    "id": "1bQFGceBxrWW",
    "outputId": "5ebd6d9a-33c6-4bcd-bf6d-252b0b6055e4"
   },
   "outputs": [],
   "source": [
    "num_steps = 100001\n",
    "chkpt_name = 'cbow_1.chkpt'\n",
    "\n",
    "with tf.Session(graph=graph) as session:\n",
    "  tf.initialize_all_variables().run()\n",
    "  print('Initialized')\n",
    "  average_loss = 0\n",
    "  for step in range(num_steps):\n",
    "    try:\n",
    "      saver.restore(session, chkpt_name)\n",
    "      print(\"Model restored.\")\n",
    "    except:\n",
    "      print('Model not restored. Cant find that file or smth else!')\n",
    "    batch_data, batch_labels = generate_batch(\n",
    "      batch_size, num_skips, skip_window)\n",
    "    feed_dict = {train_dataset : batch_data, train_labels : batch_labels}\n",
    "    _, l = session.run([optimizer, loss], feed_dict=feed_dict)\n",
    "    average_loss += l\n",
    "    if step % 2000 == 0:\n",
    "      if step > 0:\n",
    "        average_loss = average_loss / 2000\n",
    "      # The average loss is an estimate of the loss over the last 2000 batches.\n",
    "      print('Average loss at step %d: %f' % (step, average_loss))\n",
    "      average_loss = 0\n",
    "    # note that this is expensive (~20% slowdown if computed every 500 steps)\n",
    "    if step % 10000 == 0:\n",
    "      sim = similarity.eval()\n",
    "      for i in xrange(valid_size):\n",
    "        valid_word = reverse_dictionary[valid_examples[i]]\n",
    "        top_k = 8 # number of nearest neighbors\n",
    "        nearest = (-sim[i, :]).argsort()[1:top_k+1]\n",
    "        log = 'Nearest to %s:' % valid_word\n",
    "        for k in xrange(top_k):\n",
    "          close_word = reverse_dictionary[nearest[k]]\n",
    "          log = '%s %s,' % (log, close_word)\n",
    "        print(log)\n",
    "  final_embeddings = normalized_embeddings.eval()\n",
    "  save_path = saver.save(session, chkpt_name)\n",
    "  print(\"Model saved in file: %s\" % save_path)"
   ]
  },
  {
   "cell_type": "code",
   "execution_count": null,
   "metadata": {
    "cellView": "both",
    "colab": {
     "autoexec": {
      "startup": false,
      "wait_interval": 0
     }
    },
    "colab_type": "code",
    "collapsed": false,
    "id": "jjJXYA_XzV79"
   },
   "outputs": [],
   "source": [
    "num_points = 400\n",
    "\n",
    "final_emb_fix = final_embeddings[1:num_points+1, :]\n",
    "final_emb_fix = np.asfarray( final_emb_fix, dtype='float' )\n",
    "tsne = TSNE(perplexity=30, n_components=2, init='pca', n_iter=5000)\n",
    "two_d_embeddings = tsne.fit_transform(final_emb_fix)"
   ]
  },
  {
   "cell_type": "code",
   "execution_count": null,
   "metadata": {
    "cellView": "both",
    "colab": {
     "autoexec": {
      "startup": false,
      "wait_interval": 0
     },
     "output_extras": [
      {
       "item_id": 1
      }
     ]
    },
    "colab_type": "code",
    "collapsed": false,
    "executionInfo": {
     "elapsed": 4763,
     "status": "ok",
     "timestamp": 1445965465525,
     "user": {
      "color": "#1FA15D",
      "displayName": "Vincent Vanhoucke",
      "isAnonymous": false,
      "isMe": true,
      "permissionId": "05076109866853157986",
      "photoUrl": "//lh6.googleusercontent.com/-cCJa7dTDcgQ/AAAAAAAAAAI/AAAAAAAACgw/r2EZ_8oYer4/s50-c-k-no/photo.jpg",
      "sessionId": "2f1ffade4c9f20de",
      "userId": "102167687554210253930"
     },
     "user_tz": 420
    },
    "id": "o_e0D_UezcDe",
    "outputId": "df22e4a5-e8ec-4e5e-d384-c6cf37c68c34"
   },
   "outputs": [],
   "source": [
    "%matplotlib inline\n",
    "def plot(embeddings, labels):\n",
    "  assert embeddings.shape[0] >= len(labels), 'More labels than embeddings'\n",
    "  pylab.figure(figsize=(15,15))  # in inches\n",
    "  for i, label in enumerate(labels):\n",
    "    x, y = embeddings[i,:]\n",
    "    pylab.scatter(x, y)\n",
    "    pylab.annotate(label, xy=(x, y), xytext=(5, 2), textcoords='offset points',\n",
    "                   ha='right', va='bottom')\n",
    "  pylab.show()\n",
    "\n",
    "words = [reverse_dictionary[i] for i in range(1, num_points+1)]\n",
    "plot(two_d_embeddings, words)"
   ]
  },
  {
   "cell_type": "markdown",
   "metadata": {
    "colab_type": "text",
    "id": "QB5EFrBnpNnc"
   },
   "source": [
    "---\n",
    "\n",
    "Problem\n",
    "-------\n",
    "\n",
    "An alternative to Word2Vec is called [CBOW](http://arxiv.org/abs/1301.3781) (Continuous Bag of Words). In the CBOW model, instead of predicting a context word from a word vector, you predict a word from the sum of all the word vectors in its context. Implement and evaluate a CBOW model trained on the text8 dataset.\n",
    "\n",
    "---"
   ]
  },
  {
   "cell_type": "markdown",
   "metadata": {},
   "source": [
    "## CBOW"
   ]
  },
  {
   "cell_type": "code",
   "execution_count": 55,
   "metadata": {
    "cellView": "both",
    "colab": {
     "autoexec": {
      "startup": false,
      "wait_interval": 0
     }
    },
    "colab_type": "code",
    "collapsed": false,
    "id": "0K1ZyLn04QZf"
   },
   "outputs": [],
   "source": [
    "# These are all the modules we'll be using later. Make sure you can import them\n",
    "# before proceeding further.\n",
    "from __future__ import print_function\n",
    "import collections\n",
    "import math\n",
    "import numpy as np\n",
    "import os\n",
    "import random\n",
    "import tensorflow as tf\n",
    "import zipfile\n",
    "from matplotlib import pylab\n",
    "from six.moves import range\n",
    "from six.moves.urllib.request import urlretrieve\n",
    "from sklearn.manifold import TSNE"
   ]
  },
  {
   "cell_type": "markdown",
   "metadata": {
    "colab_type": "text",
    "id": "aCjPJE944bkV"
   },
   "source": [
    "Download the data from the source website if necessary."
   ]
  },
  {
   "cell_type": "code",
   "execution_count": 56,
   "metadata": {
    "cellView": "both",
    "colab": {
     "autoexec": {
      "startup": false,
      "wait_interval": 0
     },
     "output_extras": [
      {
       "item_id": 1
      }
     ]
    },
    "colab_type": "code",
    "collapsed": false,
    "executionInfo": {
     "elapsed": 14640,
     "status": "ok",
     "timestamp": 1445964482948,
     "user": {
      "color": "#1FA15D",
      "displayName": "Vincent Vanhoucke",
      "isAnonymous": false,
      "isMe": true,
      "permissionId": "05076109866853157986",
      "photoUrl": "//lh6.googleusercontent.com/-cCJa7dTDcgQ/AAAAAAAAAAI/AAAAAAAACgw/r2EZ_8oYer4/s50-c-k-no/photo.jpg",
      "sessionId": "2f1ffade4c9f20de",
      "userId": "102167687554210253930"
     },
     "user_tz": 420
    },
    "id": "RJ-o3UBUFtCw",
    "outputId": "c4ec222c-80b5-4298-e635-93ca9f79c3b7"
   },
   "outputs": [
    {
     "name": "stdout",
     "output_type": "stream",
     "text": [
      "Found and verified text8.zip\n"
     ]
    }
   ],
   "source": [
    "url = 'http://mattmahoney.net/dc/'\n",
    "\n",
    "def maybe_download(filename, expected_bytes):\n",
    "  \"\"\"Download a file if not present, and make sure it's the right size.\"\"\"\n",
    "  if not os.path.exists(filename):\n",
    "    filename, _ = urlretrieve(url + filename, filename)\n",
    "  statinfo = os.stat(filename)\n",
    "  if statinfo.st_size == expected_bytes:\n",
    "    print('Found and verified %s' % filename)\n",
    "  else:\n",
    "    print(statinfo.st_size)\n",
    "    raise Exception(\n",
    "      'Failed to verify ' + filename + '. Can you get to it with a browser?')\n",
    "  return filename\n",
    "\n",
    "filename = maybe_download('text8.zip', 31344016)"
   ]
  },
  {
   "cell_type": "markdown",
   "metadata": {
    "colab_type": "text",
    "id": "Zqz3XiqI4mZT"
   },
   "source": [
    "Read the data into a string."
   ]
  },
  {
   "cell_type": "code",
   "execution_count": 57,
   "metadata": {
    "cellView": "both",
    "colab": {
     "autoexec": {
      "startup": false,
      "wait_interval": 0
     },
     "output_extras": [
      {
       "item_id": 1
      }
     ]
    },
    "colab_type": "code",
    "collapsed": false,
    "executionInfo": {
     "elapsed": 28844,
     "status": "ok",
     "timestamp": 1445964497165,
     "user": {
      "color": "#1FA15D",
      "displayName": "Vincent Vanhoucke",
      "isAnonymous": false,
      "isMe": true,
      "permissionId": "05076109866853157986",
      "photoUrl": "//lh6.googleusercontent.com/-cCJa7dTDcgQ/AAAAAAAAAAI/AAAAAAAACgw/r2EZ_8oYer4/s50-c-k-no/photo.jpg",
      "sessionId": "2f1ffade4c9f20de",
      "userId": "102167687554210253930"
     },
     "user_tz": 420
    },
    "id": "Mvf09fjugFU_",
    "outputId": "e3a928b4-1645-4fe8-be17-fcf47de5716d"
   },
   "outputs": [
    {
     "name": "stdout",
     "output_type": "stream",
     "text": [
      "Data size 17005207\n"
     ]
    }
   ],
   "source": [
    "import sys\n",
    "sys.path.insert(0,\"/hdd/tensorflow/tensorflow/python/util\")\n",
    "import compat as cp\n",
    "def read_data(filename):\n",
    "  f = zipfile.ZipFile(filename)\n",
    "  for name in f.namelist():\n",
    "    return cp.as_str(f.read(name)).split() #tf.compat.as_str(f.read(name)).split()   \n",
    "  f.close()\n",
    "  \n",
    "words = read_data(filename)\n",
    "print('Data size %d' % len(words))"
   ]
  },
  {
   "cell_type": "markdown",
   "metadata": {
    "colab_type": "text",
    "id": "Zdw6i4F8glpp"
   },
   "source": [
    "Build the dictionary and replace rare words with UNK token."
   ]
  },
  {
   "cell_type": "code",
   "execution_count": 58,
   "metadata": {
    "cellView": "both",
    "colab": {
     "autoexec": {
      "startup": false,
      "wait_interval": 0
     },
     "output_extras": [
      {
       "item_id": 1
      }
     ]
    },
    "colab_type": "code",
    "collapsed": false,
    "executionInfo": {
     "elapsed": 28849,
     "status": "ok",
     "timestamp": 1445964497178,
     "user": {
      "color": "#1FA15D",
      "displayName": "Vincent Vanhoucke",
      "isAnonymous": false,
      "isMe": true,
      "permissionId": "05076109866853157986",
      "photoUrl": "//lh6.googleusercontent.com/-cCJa7dTDcgQ/AAAAAAAAAAI/AAAAAAAACgw/r2EZ_8oYer4/s50-c-k-no/photo.jpg",
      "sessionId": "2f1ffade4c9f20de",
      "userId": "102167687554210253930"
     },
     "user_tz": 420
    },
    "id": "gAL1EECXeZsD",
    "outputId": "3fb4ecd1-df67-44b6-a2dc-2291730970b2"
   },
   "outputs": [
    {
     "name": "stdout",
     "output_type": "stream",
     "text": [
      "Most common words (+UNK) [['UNK', 418391], ('the', 1061396), ('of', 593677), ('and', 416629), ('one', 411764)]\n",
      "Sample data [5239, 3084, 12, 6, 195, 2, 3137, 46, 59, 156]\n"
     ]
    }
   ],
   "source": [
    "vocabulary_size = 50000\n",
    "\n",
    "def build_dataset(words):\n",
    "  count = [['UNK', -1]]\n",
    "  count.extend(collections.Counter(words).most_common(vocabulary_size - 1))\n",
    "  dictionary = dict()\n",
    "  for word, _ in count:\n",
    "    dictionary[word] = len(dictionary)\n",
    "  data = list()\n",
    "  unk_count = 0\n",
    "  for word in words:\n",
    "    if word in dictionary:\n",
    "      index = dictionary[word]\n",
    "    else:\n",
    "      index = 0  # dictionary['UNK']\n",
    "      unk_count = unk_count + 1\n",
    "    data.append(index)\n",
    "  count[0][1] = unk_count\n",
    "  reverse_dictionary = dict(zip(dictionary.values(), dictionary.keys())) \n",
    "  return data, count, dictionary, reverse_dictionary\n",
    "import pickle\n",
    "try:\n",
    "  fname = 'data_n_voc.pickle'\n",
    "  with open(fname,'wb') as f:\n",
    "    pickle.load([data, count, dictionary, reverse_dictionary],f)\n",
    "except:\n",
    "  with open(fname,'rb') as f:\n",
    "    data, count, dictionary, reverse_dictionary = build_dataset(words)\n",
    "    pickle.dump([data, count, dictionary, reverse_dictionary],f)\n",
    "  \n",
    "\n",
    "print('Most common words (+UNK)', count[:5])\n",
    "print('Sample data', data[:10])\n",
    "del words  # Hint to reduce memory."
   ]
  },
  {
   "cell_type": "markdown",
   "metadata": {
    "colab_type": "text",
    "id": "lFwoyygOmWsL"
   },
   "source": [
    "Function to generate a training batch for the skip-gram model."
   ]
  },
  {
   "cell_type": "code",
   "execution_count": 59,
   "metadata": {
    "cellView": "both",
    "colab": {
     "autoexec": {
      "startup": false,
      "wait_interval": 0
     },
     "output_extras": [
      {
       "item_id": 1
      }
     ]
    },
    "colab_type": "code",
    "collapsed": false,
    "executionInfo": {
     "elapsed": 113,
     "status": "ok",
     "timestamp": 1445964901989,
     "user": {
      "color": "#1FA15D",
      "displayName": "Vincent Vanhoucke",
      "isAnonymous": false,
      "isMe": true,
      "permissionId": "05076109866853157986",
      "photoUrl": "//lh6.googleusercontent.com/-cCJa7dTDcgQ/AAAAAAAAAAI/AAAAAAAACgw/r2EZ_8oYer4/s50-c-k-no/photo.jpg",
      "sessionId": "2f1ffade4c9f20de",
      "userId": "102167687554210253930"
     },
     "user_tz": 420
    },
    "id": "w9APjA-zmfjV",
    "outputId": "67cccb02-cdaf-4e47-d489-43bcc8d57bb8"
   },
   "outputs": [
    {
     "name": "stdout",
     "output_type": "stream",
     "text": [
      "data: ['anarchism', 'originated', 'as', 'a', 'term', 'of', 'abuse', 'first']\n",
      "\n",
      "with prev = 1 and post = 1:\n",
      "    batch: ['anarchism', 'as']\n",
      "    label: ['originated']\n",
      "    batch: ['originated', 'a']\n",
      "    label: ['as']\n",
      "    batch: ['as', 'term']\n",
      "    label: ['a']\n",
      "    batch: ['a', 'of']\n",
      "    label: ['term']\n",
      "    batch: ['term', 'abuse']\n",
      "    label: ['of']\n",
      "    batch: ['of', 'first']\n",
      "    label: ['abuse']\n",
      "    batch: ['abuse', 'used']\n",
      "    label: ['first']\n",
      "    batch: ['first', 'against']\n",
      "    label: ['used']\n",
      "\n",
      "with prev = 1 and post = 2:\n",
      "    batch: ['anarchism', 'as', 'a']\n",
      "    label: ['originated']\n",
      "    batch: ['originated', 'a', 'term']\n",
      "    label: ['as']\n",
      "    batch: ['as', 'term', 'of']\n",
      "    label: ['a']\n",
      "    batch: ['a', 'of', 'abuse']\n",
      "    label: ['term']\n",
      "    batch: ['term', 'abuse', 'first']\n",
      "    label: ['of']\n",
      "    batch: ['of', 'first', 'used']\n",
      "    label: ['abuse']\n",
      "    batch: ['abuse', 'used', 'against']\n",
      "    label: ['first']\n",
      "    batch: ['first', 'against', 'early']\n",
      "    label: ['used']\n",
      "\n",
      "with prev = 2 and post = 2:\n",
      "    batch: ['anarchism', 'originated', 'a', 'term']\n",
      "    label: ['as']\n",
      "    batch: ['originated', 'as', 'term', 'of']\n",
      "    label: ['a']\n",
      "    batch: ['as', 'a', 'of', 'abuse']\n",
      "    label: ['term']\n",
      "    batch: ['a', 'term', 'abuse', 'first']\n",
      "    label: ['of']\n",
      "    batch: ['term', 'of', 'first', 'used']\n",
      "    label: ['abuse']\n",
      "    batch: ['of', 'abuse', 'used', 'against']\n",
      "    label: ['first']\n",
      "    batch: ['abuse', 'first', 'against', 'early']\n",
      "    label: ['used']\n",
      "    batch: ['first', 'used', 'early', 'working']\n",
      "    label: ['against']\n"
     ]
    }
   ],
   "source": [
    "data_index = 0\n",
    "\n",
    "def generate_batch(batch_size, n_prev, n_post):\n",
    "  global data_index\n",
    "  assert n_prev>0 or n_post>0\n",
    "  batch = np.ndarray(shape=(batch_size,n_prev+n_post), dtype=np.int32)\n",
    "  labels = np.ndarray(shape=(batch_size, 1), dtype=np.int32)\n",
    "  \n",
    "  span = n_prev + 1 + n_post \n",
    "  for i in xrange(batch_size):\n",
    "    j=0\n",
    "    while j < n_prev:\n",
    "      batch[i,j]=data[data_index+j]\n",
    "      j = j + 1\n",
    "    labels[i]=data[data_index+j]\n",
    "    while j < n_prev+n_post:\n",
    "      batch[i,j]=data[data_index+j+1]\n",
    "      j = j + 1     \n",
    "    data_index = (data_index + 1) % len(data)\n",
    "  return batch, labels\n",
    "\n",
    "print('data:', [reverse_dictionary[di] for di in data[:8]])\n",
    "\n",
    "for n_prev, n_post in [(1, 1), (1, 2),(2,2)]:\n",
    "    data_index = 0\n",
    "    batch, labels = generate_batch(batch_size=8, n_prev=n_prev, n_post=n_post)\n",
    "    print('\\nwith prev = %d and post = %d:' % (n_prev, n_post))\n",
    "    for i in xrange(8):\n",
    "      print('    batch:', [reverse_dictionary[bi] for bi in batch[i,:]])\n",
    "      print('    label:', [reverse_dictionary[li] for li in labels[i,:]])"
   ]
  },
  {
   "cell_type": "markdown",
   "metadata": {
    "colab_type": "text",
    "id": "Ofd1MbBuwiva"
   },
   "source": [
    "Train a CBOW model."
   ]
  },
  {
   "cell_type": "code",
   "execution_count": 60,
   "metadata": {
    "cellView": "both",
    "colab": {
     "autoexec": {
      "startup": false,
      "wait_interval": 0
     }
    },
    "colab_type": "code",
    "collapsed": true,
    "id": "8pQKsV4Vwlzy"
   },
   "outputs": [],
   "source": [
    "batch_size = 128\n",
    "embedding_size = 128 # Dimension of the embedding vector.\n",
    "n_prev = 2 # How many words to consider left and right.\n",
    "n_post = 2 # How many times to reuse an input to generate a label.\n",
    "# We pick a random validation set to sample nearest neighbors. here we limit the\n",
    "# validation samples to the words that have a low numeric ID, which by\n",
    "# construction are also the most frequent. \n",
    "valid_size = 16 # Random set of words to evaluate similarity on.\n",
    "valid_window = 100 # Only pick dev samples in the head of the distribution.\n",
    "valid_examples = np.array(random.sample(range(valid_window), valid_size))\n",
    "num_sampled = 64 # Number of negative examples to sample.\n",
    "\n",
    "graph = tf.Graph()\n",
    "\n",
    "with graph.as_default(), tf.device('/cpu:0'):\n",
    "\n",
    "  # Input data.\n",
    "  train_dataset = tf.placeholder(tf.int32, shape=[batch_size,n_prev+n_post])\n",
    "  train_labels = tf.placeholder(tf.int32, shape=[batch_size, 1])\n",
    "  valid_dataset = tf.constant(valid_examples, dtype=tf.int32)\n",
    "  \n",
    "  # Variables.\n",
    "  embeddings = tf.Variable(\n",
    "    tf.random_uniform([vocabulary_size, embedding_size], -1.0, 1.0), name='embeddings')\n",
    "  softmax_weights = tf.Variable(\n",
    "    tf.truncated_normal([vocabulary_size, embedding_size],\n",
    "                         stddev=1.0 / math.sqrt(embedding_size)),name='softmax_weights')\n",
    "  softmax_biases = tf.Variable(tf.zeros([vocabulary_size]), name='softmax_biases')\n",
    "  \n",
    "  saver = tf.train.Saver()\n",
    "  \n",
    "  # Model.\n",
    "  # calculating mean fow input vectors of context words:\n",
    "  train_mean = tf.reduce_mean(train_dataset,1)\n",
    "  # Look up embeddings for inputs.\n",
    "  embed = tf.nn.embedding_lookup(embeddings, train_mean)\n",
    "  # Compute the softmax loss, using a sample of the negative labels each time.\n",
    "  loss = tf.reduce_mean(\n",
    "    tf.nn.sampled_softmax_loss(softmax_weights, softmax_biases, embed,\n",
    "                               train_labels, num_sampled, vocabulary_size))\n",
    "\n",
    "  # Optimizer.\n",
    "  optimizer = tf.train.AdagradOptimizer(1.0).minimize(loss)\n",
    "  \n",
    "  # Compute the similarity between minibatch examples and all embeddings.\n",
    "  # We use the cosine distance:\n",
    "  norm = tf.sqrt(tf.reduce_sum(tf.square(embeddings), 1, keep_dims=True))\n",
    "  normalized_embeddings = embeddings / norm\n",
    "  valid_embeddings = tf.nn.embedding_lookup(\n",
    "    normalized_embeddings, valid_dataset)\n",
    "  similarity = tf.matmul(valid_embeddings, tf.transpose(normalized_embeddings))"
   ]
  },
  {
   "cell_type": "code",
   "execution_count": 64,
   "metadata": {
    "cellView": "both",
    "colab": {
     "autoexec": {
      "startup": false,
      "wait_interval": 0
     },
     "output_extras": [
      {
       "item_id": 23
      },
      {
       "item_id": 48
      },
      {
       "item_id": 61
      }
     ]
    },
    "colab_type": "code",
    "collapsed": false,
    "executionInfo": {
     "elapsed": 436189,
     "status": "ok",
     "timestamp": 1445965429787,
     "user": {
      "color": "#1FA15D",
      "displayName": "Vincent Vanhoucke",
      "isAnonymous": false,
      "isMe": true,
      "permissionId": "05076109866853157986",
      "photoUrl": "//lh6.googleusercontent.com/-cCJa7dTDcgQ/AAAAAAAAAAI/AAAAAAAACgw/r2EZ_8oYer4/s50-c-k-no/photo.jpg",
      "sessionId": "2f1ffade4c9f20de",
      "userId": "102167687554210253930"
     },
     "user_tz": 420
    },
    "id": "1bQFGceBxrWW",
    "outputId": "5ebd6d9a-33c6-4bcd-bf6d-252b0b6055e4"
   },
   "outputs": [
    {
     "name": "stdout",
     "output_type": "stream",
     "text": [
      "Model not restored. Cant find that file or smth else!\n",
      "Initialized\n",
      "Average loss at step 0: 7.852509\n",
      "Nearest to of: ass, interwoven, ilm, bankrupt, danse, ati, reborn, ringed,\n",
      "Nearest to american: dial, pitaka, jungle, dix, visibility, seizes, ahab, nitrogenous,\n",
      "Nearest to would: toll, opportunities, permission, structured, playlists, cardiology, tanakh, authentically,\n",
      "Nearest to d: disappearing, criticisms, hilary, interactivity, naghten, wissenschaft, marini, huns,\n",
      "Nearest to or: provers, episode, westphalia, rca, livelihood, fortunate, leclerc, waterfront,\n",
      "Nearest to their: tights, bau, stagecoach, lanes, campaigns, dick, mattress, activating,\n",
      "Nearest to four: quan, bruises, timescale, raleigh, jsf, subnational, welded, supernaturally,\n",
      "Nearest to are: swinging, doolittle, clip, yemen, liable, parameters, gilbertese, roving,\n",
      "Nearest to this: mifune, uwe, comprehended, recipient, salom, ethica, limnic, tanaka,\n",
      "Nearest to system: meteora, idempotent, extensionality, athos, xix, bendis, knocks, wuthering,\n",
      "Nearest to world: catalogues, remix, iast, crashed, nairobi, lowered, variste, fictional,\n",
      "Nearest to to: injera, enjoying, elvish, aelia, highlights, zodiac, silvery, chronicler,\n",
      "Nearest to eight: ashamed, mononobe, strengthen, trotsky, antiochian, caricature, staunch, baker,\n",
      "Nearest to who: qualified, grammarians, relieves, egmont, ruse, salmonella, unequal, utilitarian,\n",
      "Nearest to also: remittances, preschool, ornament, tuition, initiating, wisc, kurt, unguarded,\n",
      "Nearest to it: assertions, rbis, napalm, zahn, lfflin, speculates, underweight, replicated,\n",
      "Average loss at step 2000: 4.911031\n",
      "Average loss at step 4000: 4.416004\n",
      "Average loss at step 6000: 4.245394\n",
      "Average loss at step 8000: 4.195784\n",
      "Average loss at step 10000: 4.179351\n",
      "Nearest to of: and, murron, reestablish, vote, the, chanced, insurgencies, geometric,\n",
      "Nearest to american: dial, pitaka, albinism, nitrogenous, dix, dw, ahab, from,\n",
      "Nearest to would: primitive, bottlenecks, them, competitive, wraith, refuges, paleontology, toll,\n",
      "Nearest to d: disappearing, criticisms, priscilla, about, francium, sucre, naghten, hilary,\n",
      "Nearest to or: provers, episode, sexism, as, sadness, a, metre, waterfront,\n",
      "Nearest to their: three, eases, tights, ibis, corvette, masque, awaiting, selberg,\n",
      "Nearest to four: bruises, five, with, it, quan, azar, text, timescale,\n",
      "Nearest to are: on, quanta, for, it, nine, two, swinging, is,\n",
      "Nearest to this: although, limnic, proliferated, bitrates, salom, landscaping, zseries, ruby,\n",
      "Nearest to system: meteora, caviar, qualifies, xix, deal, gundestrup, praising, akin,\n",
      "Nearest to world: catalogues, obstructions, stores, iast, variste, intermixed, wrath, has,\n",
      "Nearest to to: zero, nine, two, a, is, as, eight, for,\n",
      "Nearest to eight: as, nine, is, two, a, to, for, zero,\n",
      "Nearest to who: grammarians, qualified, reinhardt, utilitarian, aragonese, acadia, languages, relieves,\n",
      "Nearest to also: he, tuition, initiating, remittances, ornament, boron, musculus, reiter,\n",
      "Nearest to it: assertions, airtight, daddy, rbis, are, with, simcity, napalm,\n",
      "Average loss at step 12000: 4.173948\n",
      "Average loss at step 14000: 4.140379\n",
      "Average loss at step 16000: 4.133286\n",
      "Average loss at step 18000: 4.064820\n",
      "Average loss at step 20000: 4.090690\n",
      "Nearest to of: and, the, one, murron, chanced, in, insurgencies, ass,\n",
      "Nearest to american: dial, albinism, city, later, pitaka, hammers, dw, federal,\n",
      "Nearest to would: refuges, them, world, bottlenecks, hustle, signalled, kenya, primitive,\n",
      "Nearest to d: criticisms, about, wissenschaft, accolades, francium, nikolay, jen, circulate,\n",
      "Nearest to or: by, as, which, episode, provers, s, from, seven,\n",
      "Nearest to their: three, ibis, tights, eases, other, selberg, corvette, was,\n",
      "Nearest to four: it, five, with, seven, for, six, s, that,\n",
      "Nearest to are: from, eight, is, on, for, two, a, it,\n",
      "Nearest to this: three, by, six, although, its, at, proliferated, has,\n",
      "Nearest to system: meteora, caviar, praising, athos, phidias, brutally, idempotent, xix,\n",
      "Nearest to world: has, obstructions, catalogues, played, variste, now, convocation, would,\n",
      "Nearest to to: zero, nine, a, two, is, as, eight, in,\n",
      "Nearest to eight: is, as, two, nine, for, s, zero, to,\n",
      "Nearest to who: qualified, grammarians, between, aragonese, limewire, american, acadia, campo,\n",
      "Nearest to also: he, eight, musculus, boron, three, for, nadir, six,\n",
      "Nearest to it: with, four, six, airtight, are, assertions, seven, that,\n",
      "Average loss at step 22000: 4.099811\n",
      "Average loss at step 24000: 4.021078\n",
      "Average loss at step 26000: 4.081871\n",
      "Average loss at step 28000: 4.068231\n",
      "Average loss at step 30000: 4.067401\n",
      "Nearest to of: the, and, one, in, murron, chanced, cerevisiae, where,\n",
      "Nearest to american: dial, city, who, later, from, albinism, dw, tightened,\n",
      "Nearest to would: three, them, as, nine, bottlenecks, two, hustle, five,\n",
      "Nearest to d: about, criticisms, accolades, been, jen, as, wissenschaft, homogeneous,\n",
      "Nearest to or: s, it, from, for, by, seven, which, his,\n",
      "Nearest to their: other, but, three, at, was, it, selberg, from,\n",
      "Nearest to four: it, seven, five, with, that, six, s, by,\n",
      "Nearest to are: from, it, on, six, for, with, s, seven,\n",
      "Nearest to this: three, be, six, at, it, that, has, by,\n",
      "Nearest to system: meteora, was, brutally, three, many, praising, caviar, qualifies,\n",
      "Nearest to world: obstructions, has, catalogues, four, variste, wrath, chk, iast,\n",
      "Nearest to to: zero, two, a, is, nine, as, eight, for,\n",
      "Nearest to eight: as, is, for, s, zero, two, nine, to,\n",
      "Nearest to who: between, american, grammarians, that, b, an, new, on,\n",
      "Nearest to also: he, not, which, at, has, it, five, are,\n",
      "Nearest to it: are, with, four, seven, six, by, that, be,\n",
      "Average loss at step 32000: 3.981503\n",
      "Average loss at step 34000: 4.047863\n",
      "Average loss at step 36000: 4.054365\n",
      "Average loss at step 38000: 4.000145\n",
      "Average loss at step 40000: 4.046147\n",
      "Nearest to of: the, and, one, in, had, that, where, indentation,\n",
      "Nearest to american: who, during, when, or, dial, it, were, most,\n",
      "Nearest to would: world, as, eight, nine, three, by, them, five,\n",
      "Nearest to d: about, however, no, known, as, been, over, american,\n",
      "Nearest to or: it, by, for, from, an, were, which, are,\n",
      "Nearest to their: but, other, at, were, which, from, its, with,\n",
      "Nearest to four: six, it, with, by, seven, that, five, was,\n",
      "Nearest to are: on, from, it, six, seven, an, with, by,\n",
      "Nearest to this: be, it, six, has, or, were, from, at,\n",
      "Nearest to system: meteora, furioso, b, brutally, gundestrup, three, six, was,\n",
      "Nearest to world: would, has, four, obstructions, it, also, they, have,\n",
      "Nearest to to: a, zero, nine, two, is, eight, as, in,\n",
      "Nearest to eight: as, for, is, s, two, zero, to, nine,\n",
      "Nearest to who: had, american, on, such, an, new, has, were,\n",
      "Nearest to also: he, were, not, at, which, has, other, or,\n",
      "Nearest to it: four, with, are, six, or, by, seven, from,\n",
      "Average loss at step 42000: 4.064308\n",
      "Average loss at step 44000: 4.036856\n",
      "Average loss at step 46000: 4.048210\n",
      "Average loss at step 48000: 4.004183\n",
      "Average loss at step 50000: 4.003450\n",
      "Nearest to of: and, the, one, in, that, had, UNK, be,\n",
      "Nearest to american: who, during, new, when, first, or, such, see,\n",
      "Nearest to would: world, between, b, eight, war, as, only, reinhold,\n",
      "Nearest to d: no, about, however, over, known, made, american, as,\n",
      "Nearest to or: it, from, an, for, this, by, his, are,\n",
      "Nearest to their: but, at, its, from, has, which, some, were,\n",
      "Nearest to four: six, with, it, seven, by, five, that, his,\n",
      "Nearest to are: from, it, on, with, seven, six, an, or,\n",
      "Nearest to this: be, at, from, or, which, it, has, an,\n",
      "Nearest to system: meteora, for, his, three, been, that, m, about,\n",
      "Nearest to world: would, has, can, obstructions, between, four, time, also,\n",
      "Nearest to to: zero, a, two, nine, is, as, eight, in,\n",
      "Nearest to eight: as, for, is, s, two, nine, zero, five,\n",
      "Nearest to who: american, new, had, on, has, when, such, be,\n",
      "Nearest to also: were, not, he, which, at, has, but, this,\n",
      "Nearest to it: are, with, or, from, seven, six, his, four,\n",
      "Average loss at step 52000: 4.012803\n",
      "Average loss at step 54000: 4.031578\n",
      "Average loss at step 56000: 3.970938\n",
      "Average loss at step 58000: 4.011163\n",
      "Average loss at step 60000: 4.035647\n",
      "Nearest to of: the, and, one, in, UNK, that, indentation, recommending,\n",
      "Nearest to american: who, during, see, such, when, time, new, into,\n",
      "Nearest to would: world, eight, between, as, b, d, s, than,\n",
      "Nearest to d: no, however, about, been, would, united, american, years,\n",
      "Nearest to or: an, are, it, from, on, his, this, which,\n",
      "Nearest to their: its, at, but, has, some, which, other, had,\n",
      "Nearest to four: six, with, by, seven, it, that, his, five,\n",
      "Nearest to are: from, on, it, with, seven, an, or, six,\n",
      "Nearest to this: which, be, at, an, has, with, his, were,\n",
      "Nearest to system: e, called, use, time, so, up, that, than,\n",
      "Nearest to world: would, time, b, only, has, four, than, also,\n",
      "Nearest to to: zero, a, two, nine, is, eight, as, in,\n",
      "Nearest to eight: as, for, is, s, two, zero, five, three,\n",
      "Nearest to who: new, american, on, such, into, been, an, this,\n",
      "Nearest to also: which, were, not, he, has, at, have, other,\n",
      "Nearest to it: are, seven, from, with, four, six, or, his,\n",
      "Average loss at step 62000: 4.008916\n",
      "Average loss at step 64000: 3.953859\n",
      "Average loss at step 66000: 3.988935\n",
      "Average loss at step 68000: 3.978845\n",
      "Average loss at step 70000: 3.983343\n",
      "Nearest to of: the, and, one, in, UNK, had, indentation, while,\n",
      "Nearest to american: they, new, who, see, into, when, most, such,\n",
      "Nearest to would: world, b, d, between, them, only, see, no,\n",
      "Nearest to d: no, however, about, united, been, would, over, b,\n",
      "Nearest to or: from, an, it, on, are, his, seven, with,\n",
      "Nearest to their: its, at, has, which, but, he, some, other,\n",
      "Nearest to four: six, that, seven, with, his, it, from, are,\n",
      "Nearest to are: from, on, with, it, seven, his, or, six,\n",
      "Nearest to this: be, an, which, but, at, has, from, his,\n",
      "Nearest to system: m, called, so, time, e, use, up, th,\n",
      "Nearest to world: than, they, only, would, also, had, time, b,\n",
      "Nearest to to: zero, a, two, nine, is, as, eight, in,\n",
      "Nearest to eight: as, for, is, s, two, zero, three, nine,\n",
      "Nearest to who: when, new, there, which, be, american, they, into,\n",
      "Nearest to also: he, which, not, were, has, other, at, but,\n",
      "Nearest to it: are, from, with, on, or, seven, his, six,\n",
      "Average loss at step 72000: 4.001709\n",
      "Average loss at step 74000: 3.935344\n",
      "Average loss at step 76000: 4.006259\n",
      "Average loss at step 78000: 4.015770\n",
      "Average loss at step 80000: 3.993896\n",
      "Nearest to of: the, and, one, in, UNK, that, while, indentation,\n",
      "Nearest to american: time, new, they, who, when, into, its, most,\n",
      "Nearest to would: b, world, d, no, however, united, about, three,\n",
      "Nearest to d: no, however, united, would, about, b, been, time,\n",
      "Nearest to or: from, are, it, an, on, with, which, his,\n",
      "Nearest to their: its, has, at, which, he, other, have, but,\n",
      "Nearest to four: six, seven, that, with, by, from, it, was,\n",
      "Nearest to are: from, with, on, seven, or, it, six, his,\n",
      "Nearest to this: be, which, an, from, at, that, or, has,\n",
      "Nearest to system: called, th, time, use, if, about, m, known,\n",
      "Nearest to world: would, than, b, they, only, had, which, also,\n",
      "Nearest to to: zero, a, two, is, nine, eight, as, in,\n",
      "Nearest to eight: as, for, is, s, two, three, zero, nine,\n",
      "Nearest to who: new, when, there, american, or, many, they, such,\n",
      "Nearest to also: he, which, at, not, were, other, have, has,\n",
      "Nearest to it: from, with, are, or, seven, six, on, an,\n",
      "Average loss at step 82000: 3.960171\n",
      "Average loss at step 84000: 3.975457\n",
      "Average loss at step 86000: 3.985029\n",
      "Average loss at step 88000: 3.989685\n",
      "Average loss at step 90000: 3.994745\n",
      "Nearest to of: the, and, one, in, UNK, that, when, their,\n",
      "Nearest to american: new, time, most, who, when, first, they, see,\n",
      "Nearest to would: b, united, between, d, however, about, no, world,\n",
      "Nearest to d: no, united, however, would, about, b, such, been,\n",
      "Nearest to or: from, are, on, it, his, an, with, seven,\n",
      "Nearest to their: has, its, at, other, some, which, but, they,\n",
      "Nearest to four: six, seven, that, by, was, with, from, are,\n",
      "Nearest to are: from, on, or, with, it, seven, his, an,\n",
      "Nearest to this: be, which, at, an, its, from, has, but,\n",
      "Nearest to system: called, state, th, if, use, so, up, time,\n",
      "Nearest to world: than, only, would, b, both, i, during, time,\n",
      "Nearest to to: zero, a, two, nine, is, in, eight, as,\n",
      "Nearest to eight: as, is, for, two, s, nine, three, zero,\n",
      "Nearest to who: there, new, american, when, used, this, during, they,\n",
      "Nearest to also: he, not, which, were, at, has, have, other,\n",
      "Nearest to it: from, with, are, or, on, an, seven, six,\n",
      "Average loss at step 92000: 3.944737\n",
      "Average loss at step 94000: 3.945631\n",
      "Average loss at step 96000: 3.965862\n",
      "Average loss at step 98000: 3.830384\n",
      "Average loss at step 100000: 3.744432\n",
      "Nearest to of: the, and, one, in, UNK, that, indentation, when,\n",
      "Nearest to american: new, time, first, its, used, they, who, such,\n",
      "Nearest to would: b, about, d, however, between, united, world, no,\n",
      "Nearest to d: no, however, b, united, would, i, about, over,\n",
      "Nearest to or: from, are, it, his, on, with, an, seven,\n",
      "Nearest to their: but, other, its, has, they, were, he, all,\n",
      "Nearest to four: six, seven, that, his, from, was, with, by,\n",
      "Nearest to are: from, with, on, or, seven, it, his, six,\n",
      "Nearest to this: has, an, be, his, which, but, from, he,\n",
      "Nearest to system: state, called, so, th, known, history, over, use,\n",
      "Nearest to world: than, only, would, war, during, time, no, both,\n",
      "Nearest to to: zero, a, two, nine, is, as, in, eight,\n",
      "Nearest to eight: as, is, two, for, s, nine, zero, three,\n",
      "Nearest to who: when, there, its, new, american, at, they, some,\n",
      "Nearest to also: he, not, which, were, at, have, has, be,\n",
      "Nearest to it: from, with, or, are, on, his, an, seven,\n"
     ]
    },
    {
     "ename": "NameError",
     "evalue": "name 'sess' is not defined",
     "output_type": "error",
     "traceback": [
      "\u001b[1;31m---------------------------------------------------------------------------\u001b[0m",
      "\u001b[1;31mNameError\u001b[0m                                 Traceback (most recent call last)",
      "\u001b[1;32m<ipython-input-64-2a6d46917b0e>\u001b[0m in \u001b[0;36m<module>\u001b[1;34m()\u001b[0m\n\u001b[0;32m     36\u001b[0m         \u001b[1;32mprint\u001b[0m\u001b[1;33m(\u001b[0m\u001b[0mlog\u001b[0m\u001b[1;33m)\u001b[0m\u001b[1;33m\u001b[0m\u001b[0m\n\u001b[0;32m     37\u001b[0m   \u001b[0mfinal_embeddings\u001b[0m \u001b[1;33m=\u001b[0m \u001b[0mnormalized_embeddings\u001b[0m\u001b[1;33m.\u001b[0m\u001b[0meval\u001b[0m\u001b[1;33m(\u001b[0m\u001b[1;33m)\u001b[0m\u001b[1;33m\u001b[0m\u001b[0m\n\u001b[1;32m---> 38\u001b[1;33m   \u001b[0msave_path\u001b[0m \u001b[1;33m=\u001b[0m \u001b[0msaver\u001b[0m\u001b[1;33m.\u001b[0m\u001b[0msave\u001b[0m\u001b[1;33m(\u001b[0m\u001b[0msess\u001b[0m\u001b[1;33m,\u001b[0m \u001b[0mchkpt_name\u001b[0m\u001b[1;33m)\u001b[0m\u001b[1;33m\u001b[0m\u001b[0m\n\u001b[0m\u001b[0;32m     39\u001b[0m   \u001b[1;32mprint\u001b[0m\u001b[1;33m(\u001b[0m\u001b[1;34m\"Model saved in file: %s\"\u001b[0m \u001b[1;33m%\u001b[0m \u001b[0msave_path\u001b[0m\u001b[1;33m)\u001b[0m\u001b[1;33m\u001b[0m\u001b[0m\n",
      "\u001b[1;31mNameError\u001b[0m: name 'sess' is not defined"
     ]
    }
   ],
   "source": [
    "num_steps = 100001\n",
    "chkpt_name = 'cbow_1.chkpt'\n",
    "\n",
    "with tf.Session(graph=graph) as session:\n",
    "  tf.initialize_all_variables().run()\n",
    "  try:\n",
    "      saver.restore(session, chkpt_name)\n",
    "      print(\"Model restored.\")\n",
    "  except:\n",
    "      print('Model not restored. Cant find that file or smth else!')\n",
    "  print('Initialized')\n",
    "  average_loss = 0\n",
    "  for step in range(num_steps):\n",
    "    batch_data, batch_labels = generate_batch(\n",
    "      batch_size, n_prev, n_post)\n",
    "    feed_dict = {train_dataset : batch_data, train_labels : batch_labels}\n",
    "    _, l = session.run([optimizer, loss], feed_dict=feed_dict)\n",
    "    average_loss += l\n",
    "    if step % 2000 == 0:\n",
    "      if step > 0:\n",
    "        average_loss = average_loss / 2000\n",
    "      # The average loss is an estimate of the loss over the last 2000 batches.\n",
    "      print('Average loss at step %d: %f' % (step, average_loss))\n",
    "      average_loss = 0\n",
    "    # note that this is expensive (~20% slowdown if computed every 500 steps)\n",
    "    if step % 10000 == 0:\n",
    "      sim = similarity.eval()\n",
    "      for i in xrange(valid_size):\n",
    "        valid_word = reverse_dictionary[valid_examples[i]]\n",
    "        top_k = 8 # number of nearest neighbors\n",
    "        nearest = (-sim[i, :]).argsort()[1:top_k+1]\n",
    "        log = 'Nearest to %s:' % valid_word\n",
    "        for k in xrange(top_k):\n",
    "          close_word = reverse_dictionary[nearest[k]]\n",
    "          log = '%s %s,' % (log, close_word)\n",
    "        print(log)\n",
    "  final_embeddings = normalized_embeddings.eval()\n",
    "  save_path = saver.save(session, chkpt_name)\n",
    "  print(\"Model saved in file: %s\" % save_path)"
   ]
  },
  {
   "cell_type": "code",
   "execution_count": 65,
   "metadata": {
    "cellView": "both",
    "colab": {
     "autoexec": {
      "startup": false,
      "wait_interval": 0
     }
    },
    "colab_type": "code",
    "collapsed": false,
    "id": "jjJXYA_XzV79"
   },
   "outputs": [],
   "source": [
    "num_points = 400\n",
    "\n",
    "final_emb_fix = final_embeddings[1:num_points+1, :]\n",
    "final_emb_fix = np.asfarray( final_emb_fix, dtype='float' )\n",
    "tsne = TSNE(perplexity=30, n_components=2, init='pca', n_iter=5000)\n",
    "two_d_embeddings = tsne.fit_transform(final_emb_fix)"
   ]
  },
  {
   "cell_type": "code",
   "execution_count": 66,
   "metadata": {
    "cellView": "both",
    "colab": {
     "autoexec": {
      "startup": false,
      "wait_interval": 0
     },
     "output_extras": [
      {
       "item_id": 1
      }
     ]
    },
    "colab_type": "code",
    "collapsed": false,
    "executionInfo": {
     "elapsed": 4763,
     "status": "ok",
     "timestamp": 1445965465525,
     "user": {
      "color": "#1FA15D",
      "displayName": "Vincent Vanhoucke",
      "isAnonymous": false,
      "isMe": true,
      "permissionId": "05076109866853157986",
      "photoUrl": "//lh6.googleusercontent.com/-cCJa7dTDcgQ/AAAAAAAAAAI/AAAAAAAACgw/r2EZ_8oYer4/s50-c-k-no/photo.jpg",
      "sessionId": "2f1ffade4c9f20de",
      "userId": "102167687554210253930"
     },
     "user_tz": 420
    },
    "id": "o_e0D_UezcDe",
    "outputId": "df22e4a5-e8ec-4e5e-d384-c6cf37c68c34"
   },
   "outputs": [
    {
     "data": {
      "image/png": "[encoded data removed]",
      "text/plain": [
       "<matplotlib.figure.Figure at 0x7f3c07d88810>"
      ]
     },
     "metadata": {},
     "output_type": "display_data"
    }
   ],
   "source": [
    "%matplotlib inline\n",
    "def plot(embeddings, labels):\n",
    "  assert embeddings.shape[0] >= len(labels), 'More labels than embeddings'\n",
    "  pylab.figure(figsize=(15,15))  # in inches\n",
    "  for i, label in enumerate(labels):\n",
    "    x, y = embeddings[i,:]\n",
    "    pylab.scatter(x, y)\n",
    "    pylab.annotate(label, xy=(x, y), xytext=(5, 2), textcoords='offset points',\n",
    "                   ha='right', va='bottom')\n",
    "  pylab.show()\n",
    "\n",
    "words = [reverse_dictionary[i] for i in range(1, num_points+1)]\n",
    "plot(two_d_embeddings, words)"
   ]
  },
  {
   "cell_type": "code",
   "execution_count": null,
   "metadata": {
    "collapsed": true
   },
   "outputs": [],
   "source": []
  }
 ],
 "metadata": {
  "colab": {
   "default_view": {},
   "name": "5_word2vec.ipynb",
   "provenance": [],
   "version": "0.3.2",
   "views": {}
  },
  "kernelspec": {
   "display_name": "Python 2",
   "language": "python",
   "name": "python2"
  },
  "language_info": {
   "codemirror_mode": {
    "name": "ipython",
    "version": 2
   },
   "file_extension": ".py",
   "mimetype": "text/x-python",
   "name": "python",
   "nbconvert_exporter": "python",
   "pygments_lexer": "ipython2",
   "version": "2.7.9"
  }
 },
 "nbformat": 4,
 "nbformat_minor": 0
}
