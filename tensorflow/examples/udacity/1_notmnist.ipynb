{
 "metadata": {
  "colabVersion": "0.3.2",
  "colab_default_view": {},
  "colab_views": {},
  "name": "",
  "signature": "sha256:14c56054e4607f4436b1e3af37e539035c9bc6bfc34fe833f933d46a25e88876"
 },
 "nbformat": 3,
 "nbformat_minor": 0,
 "worksheets": [
  {
   "cells": [
    {
     "cell_type": "markdown",
     "metadata": {
      "colab_type": "text",
      "id": "5hIbr52I7Z7U"
     },
     "source": [
      "Deep Learning\n",
      "=============\n",
      "\n",
      "Assignment 1\n",
      "------------\n",
      "\n",
      "The objective of this assignment is to learn about simple data curation practices, and familiarize you with some of the data we'll be reusing later.\n",
      "\n",
      "This notebook uses the [notMNIST](http://yaroslavvb.blogspot.com/2011/09/notmnist-dataset.html) dataset to be used with python experiments. This dataset is designed to look like the classic [MNIST](http://yann.lecun.com/exdb/mnist/) dataset, while looking a little more like real data: it's a harder task, and the data is a lot less 'clean' than MNIST."
     ]
    },
    {
     "cell_type": "code",
     "collapsed": false,
     "input": [
      "# These are all the modules we'll be using later. Make sure you can import them\n",
      "# before proceeding further.\n",
      "import matplotlib.pyplot as plt\n",
      "import numpy as np\n",
      "import os\n",
      "import tarfile\n",
      "import urllib\n",
      "from IPython.display import display, Image\n",
      "from scipy import ndimage\n",
      "from sklearn.linear_model import LogisticRegression\n",
      "import cPickle as pickle"
     ],
     "language": "python",
     "metadata": {
      "cellView": "both",
      "colab": {
       "autoexec": {
        "startup": false,
        "wait_interval": 0
       }
      },
      "colab_type": "code",
      "id": "apJbCsBHl-2A"
     },
     "outputs": []
    },
    {
     "cell_type": "markdown",
     "metadata": {
      "colab_type": "text",
      "id": "jNWGtZaXn-5j"
     },
     "source": [
      "First, we'll download the dataset to our local machine. The data consists of characters rendered in a variety of fonts on a 28x28 image. The labels are limited to 'A' through 'J' (10 classes). The training set has about 500k and the testset 19000 labelled examples. Given these sizes, it should be possible to train models quickly on any machine."
     ]
    },
    {
     "cell_type": "code",
     "collapsed": false,
     "input": [
      "url = 'http://yaroslavvb.com/upload/notMNIST/'\n",
      "\n",
      "def maybe_download(filename, expected_bytes):\n",
      "  \"\"\"Download a file if not present, and make sure it's the right size.\"\"\"\n",
      "  if not os.path.exists(filename):\n",
      "    filename, _ = urllib.urlretrieve(url + filename, filename)\n",
      "  statinfo = os.stat(filename)\n",
      "  if statinfo.st_size == expected_bytes:\n",
      "    print 'Found and verified', filename\n",
      "  else:\n",
      "    raise Exception(\n",
      "      'Failed to verify' + filename + '. Can you get to it with a browser?')\n",
      "  return filename\n",
      "\n",
      "train_filename = maybe_download('notMNIST_large.tar.gz', 247336696)\n",
      "test_filename = maybe_download('notMNIST_small.tar.gz', 8458043)"
     ],
     "language": "python",
     "metadata": {
      "cellView": "both",
      "colab": {
       "autoexec": {
        "startup": false,
        "wait_interval": 0
       },
       "output_extras": [
        {
         "item_id": 1
        }
       ]
      },
      "colab_type": "code",
      "executionInfo": {
       "elapsed": 186058,
       "status": "ok",
       "timestamp": 1444485672507,
       "user": {
        "color": "#1FA15D",
        "displayName": "Vincent Vanhoucke",
        "isAnonymous": false,
        "isMe": true,
        "permissionId": "05076109866853157986",
        "photoUrl": "//lh6.googleusercontent.com/-cCJa7dTDcgQ/AAAAAAAAAAI/AAAAAAAACgw/r2EZ_8oYer4/s50-c-k-no/photo.jpg",
        "sessionId": "2a0a5e044bb03b66",
        "userId": "102167687554210253930"
       },
       "user_tz": 420
      },
      "id": "EYRJ4ICW6-da",
      "outputId": "0d0f85df-155f-4a89-8e7e-ee32df36ec8d"
     },
     "outputs": []
    },
    {
     "cell_type": "markdown",
     "metadata": {
      "colab_type": "text",
      "id": "cC3p0oEyF8QT"
     },
     "source": [
      "Extract the dataset from the compressed .tar.gz file.\n",
      "This should give you a set of directories, labelled A through J."
     ]
    },
    {
     "cell_type": "code",
     "collapsed": false,
     "input": [
      "num_classes = 10\n",
      "\n",
      "def extract(filename):\n",
      "  root = os.path.splitext(os.path.splitext(filename)[0])[0]  # remove .tar.gz\n",
      "  if not os.path.exists(root):\n",
      "   tar = tarfile.open(filename)\n",
      "   tar.extractall()\n",
      "   tar.close()\n",
      "  data_folders = [os.path.join(root, d) for d in sorted(os.listdir(root))]\n",
      "  if len(data_folders) != num_classes:\n",
      "    raise Exception(\n",
      "      'Expected %d folders, one per class. Found %d instead.' % (\n",
      "        num_classes, len(data_folders)))\n",
      "  print data_folders\n",
      "  return data_folders\n",
      "  \n",
      "train_folders = extract(train_filename)\n",
      "test_folders = extract(test_filename)"
     ],
     "language": "python",
     "metadata": {
      "cellView": "both",
      "colab": {
       "autoexec": {
        "startup": false,
        "wait_interval": 0
       },
       "output_extras": [
        {
         "item_id": 1
        }
       ]
      },
      "colab_type": "code",
      "executionInfo": {
       "elapsed": 186055,
       "status": "ok",
       "timestamp": 1444485672525,
       "user": {
        "color": "#1FA15D",
        "displayName": "Vincent Vanhoucke",
        "isAnonymous": false,
        "isMe": true,
        "permissionId": "05076109866853157986",
        "photoUrl": "//lh6.googleusercontent.com/-cCJa7dTDcgQ/AAAAAAAAAAI/AAAAAAAACgw/r2EZ_8oYer4/s50-c-k-no/photo.jpg",
        "sessionId": "2a0a5e044bb03b66",
        "userId": "102167687554210253930"
       },
       "user_tz": 420
      },
      "id": "H8CBE-WZ8nmj",
      "outputId": "ef6c790c-2513-4b09-962e-27c79390c762"
     },
     "outputs": []
    },
    {
     "cell_type": "markdown",
     "metadata": {
      "colab_type": "text",
      "id": "4riXK3IoHgx6"
     },
     "source": [
      "---\n",
      "Problem 1\n",
      "---------\n",
      "\n",
      "Let's take a peek at some of the data to make sure it looks sensible. Each exemplar should be an image of a character A through J rendered in a different font. Display a sample of the images that we just downloaded. Hint: you can use the package IPython.display.\n",
      "\n",
      "---"
     ]
    },
    {
     "cell_type": "code",
     "collapsed": false,
     "input": [
      "from IPython.display import Image, display\n",
      "def show_samples_from_folders(folder_list):\n",
      "  \"\"\"I'm with stupid ->\"\"\"\n",
      "  for folder in folder_list:\n",
      "    for fname in os.listdir(folder):\n",
      "        fullfname = os.path.join(folder,fname)\n",
      "        if os.path.isfile(fullfname):\n",
      "            if os.path.splitext(fname)[1] == \".png\":\n",
      "                print(fullfname)\n",
      "                display(Image(filename=fullfname))\n",
      "                break\n",
      "                \n",
      "show_samples_from_folders(test_folders)"
     ],
     "language": "python",
     "metadata": {},
     "outputs": [
      {
       "output_type": "stream",
       "stream": "stdout",
       "text": [
        "notMNIST_small/A/Q3VydmF0dXJlLVJvdW5kZWRJdGFsaWMub3Rm.png\n"
       ]
      },
      {
       "metadata": {},
       "output_type": "display_data",
       "png": "[encoded data removed]",
       "text": [
        "<IPython.core.display.Image at 0x7f39eb9ab350>"
       ]
      },
      {
       "output_type": "stream",
       "stream": "stdout",
       "text": [
        "notMNIST_small/B/Q3VydmF0dXJlLVJvdW5kZWRJdGFsaWMub3Rm.png\n"
       ]
      },
      {
       "metadata": {},
       "output_type": "display_data",
       "png": "[encoded data removed]",
       "text": [
        "<IPython.core.display.Image at 0x7f39eb999310>"
       ]
      },
      {
       "output_type": "stream",
       "stream": "stdout",
       "text": [
        "notMNIST_small/C/Q3VydmF0dXJlLVJvdW5kZWRJdGFsaWMub3Rm.png\n"
       ]
      },
      {
       "metadata": {},
       "output_type": "display_data",
       "png": "[encoded data removed]",
       "text": [
        "<IPython.core.display.Image at 0x7f39eb997350>"
       ]
      },
      {
       "output_type": "stream",
       "stream": "stdout",
       "text": [
        "notMNIST_small/D/Q3VydmF0dXJlLVJvdW5kZWRJdGFsaWMub3Rm.png\n"
       ]
      },
      {
       "metadata": {},
       "output_type": "display_data",
       "png": "[encoded data removed]",
       "text": [
        "<IPython.core.display.Image at 0x7f39eb995390>"
       ]
      },
      {
       "output_type": "stream",
       "stream": "stdout",
       "text": [
        "notMNIST_small/E/Q3VydmF0dXJlLVJvdW5kZWRJdGFsaWMub3Rm.png\n"
       ]
      },
      {
       "metadata": {},
       "output_type": "display_data",
       "png": "[encoded data removed]",
       "text": [
        "<IPython.core.display.Image at 0x7f39eb9953d0>"
       ]
      },
      {
       "output_type": "stream",
       "stream": "stdout",
       "text": [
        "notMNIST_small/F/Q3VydmF0dXJlLVJvdW5kZWRJdGFsaWMub3Rm.png\n"
       ]
      },
      {
       "metadata": {},
       "output_type": "display_data",
       "png": "[encoded data removed]",
       "text": [
        "<IPython.core.display.Image at 0x7f39eb995410>"
       ]
      },
      {
       "output_type": "stream",
       "stream": "stdout",
       "text": [
        "notMNIST_small/G/Q3VydmF0dXJlLVJvdW5kZWRJdGFsaWMub3Rm.png\n"
       ]
      },
      {
       "metadata": {},
       "output_type": "display_data",
       "png": "[encoded data removed]",
       "text": [
        "<IPython.core.display.Image at 0x7f39eb995450>"
       ]
      },
      {
       "output_type": "stream",
       "stream": "stdout",
       "text": [
        "notMNIST_small/H/Q3VydmF0dXJlLVJvdW5kZWRJdGFsaWMub3Rm.png\n"
       ]
      },
      {
       "metadata": {},
       "output_type": "display_data",
       "png": "[encoded data removed]",
       "text": [
        "<IPython.core.display.Image at 0x7f39eb995610>"
       ]
      },
      {
       "output_type": "stream",
       "stream": "stdout",
       "text": [
        "notMNIST_small/I/Q3VydmF0dXJlLVJvdW5kZWRJdGFsaWMub3Rm.png\n"
       ]
      },
      {
       "metadata": {},
       "output_type": "display_data",
       "png": "[encoded data removed]",
       "text": [
        "<IPython.core.display.Image at 0x7f39eb9954d0>"
       ]
      },
      {
       "output_type": "stream",
       "stream": "stdout",
       "text": [
        "notMNIST_small/J/Q3VydmF0dXJlLVJvdW5kZWRJdGFsaWMub3Rm.png\n"
       ]
      },
      {
       "metadata": {},
       "output_type": "display_data",
       "png": "[encoded data removed]",
       "text": [
        "<IPython.core.display.Image at 0x7f39eb995650>"
       ]
      }
     ],
     "prompt_number": 31
    },
    {
     "cell_type": "markdown",
     "metadata": {
      "colab_type": "text",
      "id": "PBdkjESPK8tw"
     },
     "source": [
      "Now let's load the data in a more manageable format.\n",
      "\n",
      "We'll convert the entire dataset into a 3D array (image index, x, y) of floating point values, normalized to have approximately zero mean and standard deviation ~0.5 to make training easier down the road. The labels will be stored into a separate array of integers 0 through 9.\n",
      "\n",
      "A few images might not be readable, we'll just skip them."
     ]
    },
    {
     "cell_type": "code",
     "collapsed": false,
     "input": [
      "image_size = 28  # Pixel width and height.\n",
      "pixel_depth = 255.0  # Number of levels per pixel.\n",
      "\n",
      "def load(data_folders, min_num_images, max_num_images):\n",
      "  dataset = np.ndarray(\n",
      "    shape=(max_num_images, image_size, image_size), dtype=np.float32)\n",
      "  labels = np.ndarray(shape=(max_num_images), dtype=np.int32)\n",
      "  label_index = 0\n",
      "  image_index = 0\n",
      "  for folder in data_folders:\n",
      "    print folder\n",
      "    for image in os.listdir(folder):\n",
      "      if image_index >= max_num_images:\n",
      "        raise Exception('More images than expected: %d >= %d' % (\n",
      "          image_index, max_num_images))\n",
      "      image_file = os.path.join(folder, image)\n",
      "      try:\n",
      "        image_data = (ndimage.imread(image_file).astype(float) -\n",
      "                      pixel_depth / 2) / pixel_depth\n",
      "        if image_data.shape != (image_size, image_size):\n",
      "          raise Exception('Unexpected image shape: %s' % str(image_data.shape))\n",
      "        dataset[image_index, :, :] = image_data\n",
      "        labels[image_index] = label_index\n",
      "        image_index += 1\n",
      "      except IOError as e:\n",
      "        print 'Could not read:', image_file, ':', e, '- it\\'s ok, skipping.'\n",
      "    label_index += 1\n",
      "  num_images = image_index\n",
      "  dataset = dataset[0:num_images, :, :]\n",
      "  labels = labels[0:num_images]\n",
      "  if num_images < min_num_images:\n",
      "    raise Exception('Many fewer images than expected: %d < %d' % (\n",
      "        num_images, min_num_images))\n",
      "  print 'Full dataset tensor:', dataset.shape\n",
      "  print 'Mean:', np.mean(dataset)\n",
      "  print 'Standard deviation:', np.std(dataset)\n",
      "  print 'Labels:', labels.shape\n",
      "  return dataset, labels\n",
      "#was 450000, 550000\n",
      "#and 18000, 20000\n",
      "train_dataset, train_labels = load(train_folders, 4000, 550000)\n",
      "test_dataset, test_labels = load(test_folders, 1800, 20000)"
     ],
     "language": "python",
     "metadata": {
      "cellView": "both",
      "colab": {
       "autoexec": {
        "startup": false,
        "wait_interval": 0
       },
       "output_extras": [
        {
         "item_id": 30
        }
       ]
      },
      "colab_type": "code",
      "executionInfo": {
       "elapsed": 399874,
       "status": "ok",
       "timestamp": 1444485886378,
       "user": {
        "color": "#1FA15D",
        "displayName": "Vincent Vanhoucke",
        "isAnonymous": false,
        "isMe": true,
        "permissionId": "05076109866853157986",
        "photoUrl": "//lh6.googleusercontent.com/-cCJa7dTDcgQ/AAAAAAAAAAI/AAAAAAAACgw/r2EZ_8oYer4/s50-c-k-no/photo.jpg",
        "sessionId": "2a0a5e044bb03b66",
        "userId": "102167687554210253930"
       },
       "user_tz": 420
      },
      "id": "h7q0XhG3MJdf",
      "outputId": "92c391bb-86ff-431d-9ada-315568a19e59"
     },
     "outputs": []
    },
    {
     "cell_type": "code",
     "collapsed": false,
     "input": [
      "image_size = 28  # Pixel width and height.\n",
      "pixel_depth = 255.0  # Number of levels per pixel.\n",
      "\n",
      "def test_n_purge_input_files(data_folders, purge):\n",
      "  supported_ext = ['.png']\n",
      "  image_index = 0\n",
      "  label_index = 0\n",
      "  for folder in data_folders:\n",
      "    print folder\n",
      "    for image in os.listdir(folder):\n",
      "      if os.path.splitext(image)[1] in supported_ext:\n",
      "          image_file = os.path.join(folder, image)\n",
      "          try:\n",
      "            image_data = (ndimage.imread(image_file).astype(float) -\n",
      "                          pixel_depth / 2) / pixel_depth\n",
      "            if image_data.shape != (image_size, image_size):\n",
      "              print 'Strange shape!'\n",
      "              raise IOError\n",
      "            image_index += 1\n",
      "          except IOError as e:\n",
      "            if purge:\n",
      "              os.remove(image_file)\n",
      "            print 'Could not read:', image_file, ':', e, '-, purging it.'\n",
      "    if len(os.listdir(folder)) > 0:\n",
      "      print \"label_index \", label_index, \" assigned to \", folder\n",
      "      label_index += 1\n",
      "  print \"Total: \", label_index, \"indexes, \", image_index , \" images.\"\n",
      "  return label_index, image_index\n",
      "#was 450000, 550000\n",
      "#and 18000, 20000\n",
      "label_ind, image_ind = test_n_purge_input_files(test_folders, True)"
     ],
     "language": "python",
     "metadata": {},
     "outputs": [
      {
       "output_type": "stream",
       "stream": "stdout",
       "text": [
        "notMNIST_small/A\n",
        "label_index "
       ]
      },
      {
       "output_type": "stream",
       "stream": "stdout",
       "text": [
        " 0  assigned to  notMNIST_small/A\n",
        "notMNIST_small/B\n",
        "label_index "
       ]
      },
      {
       "output_type": "stream",
       "stream": "stdout",
       "text": [
        " 1  assigned to  notMNIST_small/B\n",
        "notMNIST_small/C\n",
        "label_index "
       ]
      },
      {
       "output_type": "stream",
       "stream": "stdout",
       "text": [
        " 2  assigned to  notMNIST_small/C\n",
        "notMNIST_small/D\n",
        "label_index "
       ]
      },
      {
       "output_type": "stream",
       "stream": "stdout",
       "text": [
        " 3  assigned to  notMNIST_small/D\n",
        "notMNIST_small/E\n",
        "label_index "
       ]
      },
      {
       "output_type": "stream",
       "stream": "stdout",
       "text": [
        " 4  assigned to  notMNIST_small/E\n",
        "notMNIST_small/F\n",
        "label_index "
       ]
      },
      {
       "output_type": "stream",
       "stream": "stdout",
       "text": [
        " 5  assigned to  notMNIST_small/F\n",
        "notMNIST_small/G\n",
        "label_index "
       ]
      },
      {
       "output_type": "stream",
       "stream": "stdout",
       "text": [
        " 6  assigned to  notMNIST_small/G\n",
        "notMNIST_small/H\n",
        "label_index "
       ]
      },
      {
       "output_type": "stream",
       "stream": "stdout",
       "text": [
        " 7  assigned to  notMNIST_small/H\n",
        "notMNIST_small/I\n",
        "label_index "
       ]
      },
      {
       "output_type": "stream",
       "stream": "stdout",
       "text": [
        " 8  assigned to  notMNIST_small/I\n",
        "notMNIST_small/J\n",
        "label_index "
       ]
      },
      {
       "output_type": "stream",
       "stream": "stdout",
       "text": [
        " 9  assigned to  notMNIST_small/J\n"
       ]
      }
     ],
     "prompt_number": 35
    },
    {
     "cell_type": "markdown",
     "metadata": {
      "colab_type": "text",
      "id": "vUdbskYE2d87"
     },
     "source": [
      "---\n",
      "Problem 2\n",
      "---------\n",
      "\n",
      "Let's verify that the data still looks good. Displaying a sample of the labels and images from the ndarray. Hint: you can use matplotlib.pyplot.\n",
      "\n",
      "---"
     ]
    },
    {
     "cell_type": "markdown",
     "metadata": {
      "colab_type": "text",
      "id": "GPTCnjIcyuKN"
     },
     "source": [
      "Next, we'll randomize the data. It's important to have the labels well shuffled for the training and test distributions to match."
     ]
    },
    {
     "cell_type": "code",
     "collapsed": false,
     "input": [
      "np.random.seed(133)\n",
      "def randomize(dataset, labels):\n",
      "  permutation = np.random.permutation(labels.shape[0])\n",
      "  #meh, not enough memory for that\n",
      "  #shuffled_dataset = dataset[permutation,:,:]\n",
      "  #shuffled_labels = labels[permutation]\n",
      "  #let's just don nothing )\n",
      "  return dataset, labels\n",
      "  #return shuffled_dataset, shuffled_labels\n",
      "train_dataset, train_labels = randomize(train_dataset, train_labels)\n",
      "test_dataset, test_labels = randomize(test_dataset, test_labels)"
     ],
     "language": "python",
     "metadata": {
      "cellView": "both",
      "colab": {
       "autoexec": {
        "startup": false,
        "wait_interval": 0
       }
      },
      "colab_type": "code",
      "id": "6WZ2l2tN2zOL"
     },
     "outputs": []
    },
    {
     "cell_type": "markdown",
     "metadata": {
      "colab_type": "text",
      "id": "puDUTe6t6USl"
     },
     "source": [
      "---\n",
      "Problem 3\n",
      "---------\n",
      "Convince yourself that the data is still good after shuffling!\n",
      "\n",
      "---"
     ]
    },
    {
     "cell_type": "markdown",
     "metadata": {
      "colab_type": "text",
      "id": "cYznx5jUwzoO"
     },
     "source": [
      "---\n",
      "Problem 4\n",
      "---------\n",
      "Another check: we expect the data to be balanced across classes. Verify that.\n",
      "\n",
      "---"
     ]
    },
    {
     "cell_type": "markdown",
     "metadata": {
      "colab_type": "text",
      "id": "LA7M7K22ynCt"
     },
     "source": [
      "Prune the training data as needed. Depending on your computer setup, you might not be able to fit it all in memory, and you can tune train_size as needed.\n",
      "\n",
      "Also create a validation dataset for hyperparameter tuning."
     ]
    },
    {
     "cell_type": "code",
     "collapsed": false,
     "input": [
      "train_size = 200000\n",
      "valid_size = 10000\n",
      "\n",
      "valid_dataset = train_dataset[:valid_size,:,:]\n",
      "valid_labels = train_labels[:valid_size]\n",
      "train_dataset = train_dataset[valid_size:valid_size+train_size,:,:]\n",
      "train_labels = train_labels[valid_size:valid_size+train_size]\n",
      "print 'Training', train_dataset.shape, train_labels.shape\n",
      "print 'Validation', valid_dataset.shape, valid_labels.shape"
     ],
     "language": "python",
     "metadata": {
      "cellView": "both",
      "colab": {
       "autoexec": {
        "startup": false,
        "wait_interval": 0
       },
       "output_extras": [
        {
         "item_id": 1
        }
       ]
      },
      "colab_type": "code",
      "executionInfo": {
       "elapsed": 411281,
       "status": "ok",
       "timestamp": 1444485897869,
       "user": {
        "color": "#1FA15D",
        "displayName": "Vincent Vanhoucke",
        "isAnonymous": false,
        "isMe": true,
        "permissionId": "05076109866853157986",
        "photoUrl": "//lh6.googleusercontent.com/-cCJa7dTDcgQ/AAAAAAAAAAI/AAAAAAAACgw/r2EZ_8oYer4/s50-c-k-no/photo.jpg",
        "sessionId": "2a0a5e044bb03b66",
        "userId": "102167687554210253930"
       },
       "user_tz": 420
      },
      "id": "s3mWgZLpyuzq",
      "outputId": "8af66da6-902d-4719-bedc-7c9fb7ae7948"
     },
     "outputs": []
    },
    {
     "cell_type": "markdown",
     "metadata": {
      "colab_type": "text",
      "id": "tIQJaJuwg5Hw"
     },
     "source": [
      "Finally, let's save the data for later reuse:"
     ]
    },
    {
     "cell_type": "code",
     "collapsed": false,
     "input": [
      "pickle_file = 'notMNIST.pickle'\n",
      "\n",
      "try:\n",
      "  f = open(pickle_file, 'wb')\n",
      "  save = {\n",
      "    'train_dataset': train_dataset,\n",
      "    'train_labels': train_labels,\n",
      "    'valid_dataset': valid_dataset,\n",
      "    'valid_labels': valid_labels,\n",
      "    'test_dataset': test_dataset,\n",
      "    'test_labels': test_labels,\n",
      "    }\n",
      "  pickle.dump(save, f, pickle.HIGHEST_PROTOCOL)\n",
      "  f.close()\n",
      "except Exception as e:\n",
      "  print 'Unable to save data to', pickle_file, ':', e\n",
      "  raise"
     ],
     "language": "python",
     "metadata": {
      "cellView": "both",
      "colab": {
       "autoexec": {
        "startup": false,
        "wait_interval": 0
       }
      },
      "colab_type": "code",
      "id": "QiR_rETzem6C"
     },
     "outputs": []
    },
    {
     "cell_type": "code",
     "collapsed": false,
     "input": [
      "statinfo = os.stat(pickle_file)\n",
      "print 'Compressed pickle size:', statinfo.st_size"
     ],
     "language": "python",
     "metadata": {
      "cellView": "both",
      "colab": {
       "autoexec": {
        "startup": false,
        "wait_interval": 0
       },
       "output_extras": [
        {
         "item_id": 1
        }
       ]
      },
      "colab_type": "code",
      "executionInfo": {
       "elapsed": 413065,
       "status": "ok",
       "timestamp": 1444485899688,
       "user": {
        "color": "#1FA15D",
        "displayName": "Vincent Vanhoucke",
        "isAnonymous": false,
        "isMe": true,
        "permissionId": "05076109866853157986",
        "photoUrl": "//lh6.googleusercontent.com/-cCJa7dTDcgQ/AAAAAAAAAAI/AAAAAAAACgw/r2EZ_8oYer4/s50-c-k-no/photo.jpg",
        "sessionId": "2a0a5e044bb03b66",
        "userId": "102167687554210253930"
       },
       "user_tz": 420
      },
      "id": "hQbLjrW_iT39",
      "outputId": "b440efc6-5ee1-4cbc-d02d-93db44ebd956"
     },
     "outputs": []
    },
    {
     "cell_type": "markdown",
     "metadata": {
      "colab_type": "text",
      "id": "gE_cRAQB33lk"
     },
     "source": [
      "---\n",
      "Problem 5\n",
      "---------\n",
      "\n",
      "By construction, this dataset might contain a lot of overlapping samples, including training data that's also contained in the validation and test set! Overlap between training and test can skew the results if you expect to use your model in an environment where there is never an overlap, but are actually ok if you expect to see training samples recur when you use it.\n",
      "Measure how much overlap there is between training, validation and test samples.\n",
      "Optional questions:\n",
      "- What about near duplicates between datasets? (images that are almost identical)\n",
      "- Create a sanitized validation and test set, and compare your accuracy on those in subsequent assignments.\n",
      "---"
     ]
    },
    {
     "cell_type": "markdown",
     "metadata": {
      "colab_type": "text",
      "id": "L8oww1s4JMQx"
     },
     "source": [
      "---\n",
      "Problem 6\n",
      "---------\n",
      "\n",
      "Let's get an idea of what an off-the-shelf classifier can give you on this data. It's always good to check that there is something to learn, and that it's a problem that is not so trivial that a canned solution solves it.\n",
      "\n",
      "Train a simple model on this data using 50, 100, 1000 and 5000 training samples. Hint: you can use the LogisticRegression model from sklearn.linear_model.\n",
      "\n",
      "Optional question: train an off-the-shelf model on all the data!\n",
      "\n",
      "---"
     ]
    }
   ],
   "metadata": {}
  }
 ]
}