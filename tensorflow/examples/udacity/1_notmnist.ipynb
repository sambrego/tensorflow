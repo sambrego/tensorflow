{
 "cells": [
  {
   "cell_type": "markdown",
   "metadata": {
    "colab_type": "text",
    "id": "5hIbr52I7Z7U"
   },
   "source": [
    "Deep Learning\n",
    "=============\n",
    "\n",
    "Assignment 1\n",
    "------------\n",
    "\n",
    "The objective of this assignment is to learn about simple data curation practices, and familiarize you with some of the data we'll be reusing later.\n",
    "\n",
    "This notebook uses the [notMNIST](http://yaroslavvb.blogspot.com/2011/09/notmnist-dataset.html) dataset to be used with python experiments. This dataset is designed to look like the classic [MNIST](http://yann.lecun.com/exdb/mnist/) dataset, while looking a little more like real data: it's a harder task, and the data is a lot less 'clean' than MNIST."
   ]
  },
  {
   "cell_type": "code",
   "execution_count": 6,
   "metadata": {
    "cellView": "both",
    "colab": {
     "autoexec": {
      "startup": false,
      "wait_interval": 0
     }
    },
    "colab_type": "code",
    "collapsed": false,
    "id": "apJbCsBHl-2A"
   },
   "outputs": [],
   "source": [
    "# These are all the modules we'll be using later. Make sure you can import them\n",
    "# before proceeding further.\n",
    "import matplotlib.pyplot as plt\n",
    "import numpy as np\n",
    "import os\n",
    "import tarfile\n",
    "import urllib\n",
    "from IPython.display import display, Image\n",
    "from scipy import ndimage\n",
    "from sklearn.linear_model import LogisticRegression\n",
    "import cPickle as pickle"
   ]
  },
  {
   "cell_type": "markdown",
   "metadata": {
    "colab_type": "text",
    "id": "jNWGtZaXn-5j"
   },
   "source": [
    "First, we'll download the dataset to our local machine. The data consists of characters rendered in a variety of fonts on a 28x28 image. The labels are limited to 'A' through 'J' (10 classes). The training set has about 500k and the testset 19000 labelled examples. Given these sizes, it should be possible to train models quickly on any machine."
   ]
  },
  {
   "cell_type": "code",
   "execution_count": 7,
   "metadata": {
    "cellView": "both",
    "colab": {
     "autoexec": {
      "startup": false,
      "wait_interval": 0
     },
     "output_extras": [
      {
       "item_id": 1
      }
     ]
    },
    "colab_type": "code",
    "collapsed": false,
    "executionInfo": {
     "elapsed": 186058,
     "status": "ok",
     "timestamp": 1444485672507,
     "user": {
      "color": "#1FA15D",
      "displayName": "Vincent Vanhoucke",
      "isAnonymous": false,
      "isMe": true,
      "permissionId": "05076109866853157986",
      "photoUrl": "//lh6.googleusercontent.com/-cCJa7dTDcgQ/AAAAAAAAAAI/AAAAAAAACgw/r2EZ_8oYer4/s50-c-k-no/photo.jpg",
      "sessionId": "2a0a5e044bb03b66",
      "userId": "102167687554210253930"
     },
     "user_tz": 420
    },
    "id": "EYRJ4ICW6-da",
    "outputId": "0d0f85df-155f-4a89-8e7e-ee32df36ec8d"
   },
   "outputs": [
    {
     "name": "stdout",
     "output_type": "stream",
     "text": [
      "Found and verified notMNIST_large.tar.gz\n",
      "Found and verified notMNIST_small.tar.gz\n"
     ]
    }
   ],
   "source": [
    "url = 'http://yaroslavvb.com/upload/notMNIST/'\n",
    "\n",
    "def maybe_download(filename, expected_bytes):\n",
    "  \"\"\"Download a file if not present, and make sure it's the right size.\"\"\"\n",
    "  if not os.path.exists(filename):\n",
    "    filename, _ = urllib.urlretrieve(url + filename, filename)\n",
    "  statinfo = os.stat(filename)\n",
    "  if statinfo.st_size == expected_bytes:\n",
    "    print 'Found and verified', filename\n",
    "  else:\n",
    "    raise Exception(\n",
    "      'Failed to verify' + filename + '. Can you get to it with a browser?')\n",
    "  return filename\n",
    "\n",
    "train_filename = maybe_download('notMNIST_large.tar.gz', 247336696)\n",
    "test_filename = maybe_download('notMNIST_small.tar.gz', 8458043)"
   ]
  },
  {
   "cell_type": "markdown",
   "metadata": {
    "colab_type": "text",
    "id": "cC3p0oEyF8QT"
   },
   "source": [
    "Extract the dataset from the compressed .tar.gz file.\n",
    "This should give you a set of directories, labelled A through J."
   ]
  },
  {
   "cell_type": "code",
   "execution_count": 3,
   "metadata": {
    "cellView": "both",
    "colab": {
     "autoexec": {
      "startup": false,
      "wait_interval": 0
     },
     "output_extras": [
      {
       "item_id": 1
      }
     ]
    },
    "colab_type": "code",
    "collapsed": false,
    "executionInfo": {
     "elapsed": 186055,
     "status": "ok",
     "timestamp": 1444485672525,
     "user": {
      "color": "#1FA15D",
      "displayName": "Vincent Vanhoucke",
      "isAnonymous": false,
      "isMe": true,
      "permissionId": "05076109866853157986",
      "photoUrl": "//lh6.googleusercontent.com/-cCJa7dTDcgQ/AAAAAAAAAAI/AAAAAAAACgw/r2EZ_8oYer4/s50-c-k-no/photo.jpg",
      "sessionId": "2a0a5e044bb03b66",
      "userId": "102167687554210253930"
     },
     "user_tz": 420
    },
    "id": "H8CBE-WZ8nmj",
    "outputId": "ef6c790c-2513-4b09-962e-27c79390c762"
   },
   "outputs": [
    {
     "name": "stdout",
     "output_type": "stream",
     "text": [
      "['notMNIST_large/A', 'notMNIST_large/B', 'notMNIST_large/C', 'notMNIST_large/D', 'notMNIST_large/E', 'notMNIST_large/F', 'notMNIST_large/G', 'notMNIST_large/H', 'notMNIST_large/I', 'notMNIST_large/J']\n",
      "['notMNIST_small/A', 'notMNIST_small/B', 'notMNIST_small/C', 'notMNIST_small/D', 'notMNIST_small/E', 'notMNIST_small/F', 'notMNIST_small/G', 'notMNIST_small/H', 'notMNIST_small/I', 'notMNIST_small/J']\n"
     ]
    }
   ],
   "source": [
    "num_classes = 10\n",
        "np.random.seed(133)\n",
    "\n",
    "def extract(filename):\n",
    "  root = os.path.splitext(os.path.splitext(filename)[0])[0]  # remove .tar.gz\n",
    "  if not os.path.exists(root):\n",
    "   tar = tarfile.open(filename)\n",
        "    print('%s already present - Skipping extraction of %s.' % (root, filename))\n",
        "  else:\n",
        "    tar = tarfile.open(filename)\n",
    "   tar.extractall()\n",
    "   tar.close()\n",
    "  data_folders = [os.path.join(root, d) for d in sorted(os.listdir(root))]\n",
    "  if len(data_folders) != num_classes:\n",
    "    raise Exception(\n",
    "      'Expected %d folders, one per class. Found %d instead.' % (\n",
    "        num_classes, len(data_folders)))\n",
    "  print data_folders\n",
    "  return data_folders\n",
    "  \n",
    "train_folders = extract(train_filename)\n",
    "test_folders = extract(test_filename)"
   ]
  },
  {
   "cell_type": "markdown",
   "metadata": {
    "colab_type": "text",
    "id": "4riXK3IoHgx6"
   },
   "source": [
    "---\n",
    "Problem 1\n",
    "---------\n",
    "\n",
    "Let's take a peek at some of the data to make sure it looks sensible. Each exemplar should be an image of a character A through J rendered in a different font. Display a sample of the images that we just downloaded. Hint: you can use the package IPython.display.\n",
    "\n",
    "---"
   ]
  },
  {
   "cell_type": "code",
   "execution_count": 8,
   "metadata": {
    "collapsed": false
   },
   "outputs": [
    {
     "name": "stdout",
     "output_type": "stream",
     "text": [
      "notMNIST_small/A/Q3VydmF0dXJlLVJvdW5kZWRJdGFsaWMub3Rm.png\n"
     ]
    },
    {
     "data": {
      "image/png": "iVBORw0KGgoAAAANSUhEUgAAABwAAAAcCAAAAABXZoBIAAAB7klEQVR4nF2STUvUURjFf/dlJsEs\npDTCLDQlI8JAJCxKhNKoTft2fYHatYk2fRJxFy0qNGiRiU2LQMUi6E0iFMFAZooUa+bee1rM/Vt0\ntuc+555znseQYUl0Xz430N5mt2sfZqerVtrlLCMPaspIWr9tzd+5Q1NSKrh6inpYoknbdPJxf0yl\nncpyNbX0j3dKsXTvPgCGI59VT5rsxYDh4FPFqI97MzmletQ9rPXee09XVVGbp5tc328FLXnjsoXy\nqoJWuyxguVJOMBdczO4GOoC1dQvAeZLlGamwPtqSYA4LJrYPYkztbZErMUyCFwCOYaWGpsm5DO2f\nFLTRjQUYIcECXpns6ZdYXDMWxAR4VchdGsaQYREHhv1fFbTRllVxzChIo1hwjEtBT7DGGGOMpeNL\nfuwxDBFgBpNykMEeQeUn8iZwEWO5daOU/TQOg6jgA4YDNSWFYl15n/ULOHBc1X9IilppweBtHCNa\n8+h9ualqd85cQyz9sglgVg2l4806oMRdNYJu4gB6fyhooRXvnHPO2/JzBcVBHHhO7YtiYduFfDCd\nZ4HlFRJYLoHjNbu3NtSaxJttL7CMILM1TyyKnSDBy2bRJ76pofliDMMrNfS9u6m0Z3Jrc3ag8Irl\nTrX27nrxiz121PIvOvuKc/4DREMLW+ICHWcAAAAASUVORK5CYII=\n",
      "text/plain": [
       "<IPython.core.display.Image at 0x7effc3098c10>"
      ]
     },
     "metadata": {},
     "output_type": "display_data"
    },
    {
     "name": "stdout",
     "output_type": "stream",
     "text": [
      "notMNIST_small/B/Q3VydmF0dXJlLVJvdW5kZWRJdGFsaWMub3Rm.png\n"
     ]
    },
    {
     "data": {
      "image/png": "iVBORw0KGgoAAAANSUhEUgAAABwAAAAcCAAAAABXZoBIAAACE0lEQVR4nD2Sy4vOcRjFP8/z/b0x\nF1NjchtsXEKGWCDXRMQCSZLsLJSyIX+ALKxZWJCly8ZKwiilLIj41UzCwmKQWyiUqff9fp9j8b7z\nnu2n5+mc0zHaMi/0btq2ZnigJ//9MTb6eNKlLmP4/LtQR6Hxw/gUI535rcgdllsRuogZgKn/5j7l\n5N/qT5M2uHoVRFSnLrfvpt1XM+vDiUEM8AM/FFljPQDOOTWzxuZjnlJKiSMqRT/XAMbQdxW1NtNo\ne0isbKroy3IgcVRRVLt17CX2KGe9TA7GDop4GFMQdgPUBYye58pZ+6naiRvMmlDJ2g4k1raU9WUx\nlbs7xuADlabuGpA4rpx1nwSALzj5XqWpNwuximAPZozcmSbAh5b1KWg8PfLRA6Pno4pKt1flrL+n\ne3FwZ/0cjG4OZXeo/1UBlZeNjZz4UFcCbGikX6b+e1teeYBxW62WzraDYMMXJTV1q+1v9mcVtXbQ\ncHd3M64oZ9UzMJyl8wSfnpEjIkINRhHkDDg7EdT/vDOKwiIQE5NJVGxFMNqtVWzHjOcYMPOtStaG\nKT8Vi34r1FqBgfdNB1iLUkopWe67OhCZG29MAM+UQ38OtZ9O3z+m3NT4XAwwjl0v5lC/+BWNBeuW\nKHuqD054tNd1QRGt7ipD+dJAd7OJQ68VUoSk0NdrI92iDbPo3bV39ZyB1PzzbfzJo++k6GT+D02i\nMtf3E37zAAAAAElFTkSuQmCC\n",
      "text/plain": [
       "<IPython.core.display.Image at 0x7effc307dc10>"
      ]
     },
     "metadata": {},
     "output_type": "display_data"
    },
    {
     "name": "stdout",
     "output_type": "stream",
     "text": [
      "notMNIST_small/C/Q3VydmF0dXJlLVJvdW5kZWRJdGFsaWMub3Rm.png\n"
     ]
    },
    {
     "data": {
      "image/png": "iVBORw0KGgoAAAANSUhEUgAAABwAAAAcCAAAAABXZoBIAAAB9UlEQVR4nE2STUuVURSFn33OK+ot\nDMsILAOjkCZagkkZhYZChCNpUtTQH9AviIqaN4hGURT9hD4IAiO50oVuZEFOKtJCswIt0u57zlkN\n7ofu6cPaa6+9t1Etc5HCsROHOttaw+rymycvKk5qMDqvzCU16vU4vs7wl1aUQo3keUq6hhmAaevD\ncQXvlsoLa6798EFI8hfvV3XNj1UJ+jLZjgHZuT9KQSUAHJdVCXq7G3Pee++ZVIj6egAwdnxXVD5E\nkwPA068U9bnLgWN0p+Bd0fJUG7CbJBbnHRjDRPEsWQ2JEUyUcFho7sNgGrcJJscjwNO3rqDF/Q3o\nuKsYbzrAc0F50FSDAdmRM/swMsQYZsxgGzC+AieA7KNi0vBmJd67qsHgmqKWOzYpzTsDyHwaaonw\n8scGcjHWrAMDCIpkoZ4k7u1ZKecAdMwrKh9unA+u/ou6BwYcVYr6VKhbesYUc5VaMRynEJT/OtXX\nc5xozK5lIuMkgqeNnrIRPBQRsP2DYtAgWXXSJnrXlfR7DwZuSwtAP/Lee0fefrs5Be4sVG1mFJJW\nJ6pNC2fnFCsqbsMA4/yDaA7KpV+puWugO0XvpieWTNXvuq6U8vpXhqjKjUJjz56J90pSSpKSvt3q\nwdUyG2apMHq6d1ebr6wszk49/4lPtcz/AXf4CgKZl9mFAAAAAElFTkSuQmCC\n",
      "text/plain": [
       "<IPython.core.display.Image at 0x7effc307ac50>"
      ]
     },
     "metadata": {},
     "output_type": "display_data"
    },
    {
     "name": "stdout",
     "output_type": "stream",
     "text": [
      "notMNIST_small/D/Q3VydmF0dXJlLVJvdW5kZWRJdGFsaWMub3Rm.png\n"
     ]
    },
    {
     "data": {
      "image/png": "iVBORw0KGgoAAAANSUhEUgAAABwAAAAcCAAAAABXZoBIAAAB9UlEQVR4nFWST0tVURTFf+ecq77s\nj2VEUVkURUSQpajlQINSaNAkIYigUd+gWeOKvkDhLIg+QEMpCEpQwzBCCp0opT5EUEoJ5d1z9mrw\n7n3Rmv44e5291nYATs0P77Q76kqba1/HPta8BIBnVEn/aeYWoWAdy8rNGiTPzfQElwHeuo+Zd8tv\nBODaL58Hs0fzrwACj5Xnek5WN83ubsmiPgM4sgkl032aQ108UExaOQs4ju/ItHWS4r+BLlnSYocH\nz0CLxNwPVCzDGUxUlzw4BkniHb5AYhgck3hcrFzCwWQDGv04eAsEOncUVT1VQk/XlpI2juKBzpYI\n84veSti7J4mJKhliCA+TNLKlD8E0TUC2oGQaLKc62haUlIYJeK5sK2ntYPnS0y0lrezF+UB/JYnx\n9XJHxw0MZracfKQHiSmyRgQDSIzhgUNLSqpdK+rDc2RB0dRLAK7KkhZ3lZYZQ0pRs/txeK4jmNn2\nKuPpxcTsr0xkDKJ6VP+C9TCOgPY5pai+omjXxIVtmf6cwIHfXQHoQiGEEFzeNlqxyMufdZspRdPm\nSH1o6+3virk+HcABjnuvk/PwZXrDmjt6TisGPzGy6urHxlOZ5bG4yphUe9baqDYw8k0mmUkyVV+c\nw7sySeesdejmxcP7Qu336uyH9+sEK3b+C4/DG1TkHCi9AAAAAElFTkSuQmCC\n",
      "text/plain": [
       "<IPython.core.display.Image at 0x7effc3073c90>"
      ]
     },
     "metadata": {},
     "output_type": "display_data"
    },
    {
     "name": "stdout",
     "output_type": "stream",
     "text": [
      "notMNIST_small/E/Q3VydmF0dXJlLVJvdW5kZWRJdGFsaWMub3Rm.png\n"
     ]
    },
    {
     "data": {
      "image/png": "iVBORw0KGgoAAAANSUhEUgAAABwAAAAcCAAAAABXZoBIAAACAklEQVR4nFWSz0uVQRiFn5n5rtdu\nodhPsqRaiLjRLCSyKCoUXEiBtClq1921qD8gIqJ2LcNVm6Kgf8CgEgxKQcxQjFyUYRaaJGhB8n0z\nc1p8917pbA9z3vM+8xpyGRso9Zw63Nywxa+vfHjxJrVSzaP5zlxUTe8HcFUPd3NN0VecLItRdzEG\nwGjb0wF5Z5enFv/apq52iHJXH+fvisNKvRbKTRggufRH0WsCAMttpV7T+zDWOeccZfmg762AYcdP\nBWU9FCwAjiOKQfMtFiy9uwQz4yaLlYIHiGL5mwXDGYJ4GU3FEn2EyBgW44udGHiHpaoVXOHjA8DR\nuSGvpVYKLldC3fkbFxox4LiizGu4RgQwgDEkiD6sof15scIyjA6lDqIAki8KCptcg66R5AAsR/di\nsNWqyK5Oke+UuHiiPlgWZgvV1Pmh6SRWZz9Tlul6Jek/Jdp5Ems3JvOKgMV2H/w6luccVwz6XLfp\n7X4tr1skYDmHYDK11aOgfDbLaMNAwmkEr2pzZPqxjhEisP2TgtexSh9ToGNDUb/3Y8BurQfoQs45\nZ8mahorR82gxHzMuH7U+mIeWLs4ppBprzPFy+UkwFqYmVmOxpftQDM6+HVw2yiHcU4xZ9Sp9UHq/\nVPtax+CsohSjpKgfD9tqoA3GxFJvf8eeBpeuLc2MjvzCxcrO/wB7sA5/bfgEjgAAAABJRU5ErkJg\ngg==\n",
      "text/plain": [
       "<IPython.core.display.Image at 0x7effc3073cd0>"
      ]
     },
     "metadata": {},
     "output_type": "display_data"
    },
    {
     "name": "stdout",
     "output_type": "stream",
     "text": [
      "notMNIST_small/F/Q3VydmF0dXJlLVJvdW5kZWRJdGFsaWMub3Rm.png\n"
     ]
    },
    {
     "data": {
      "image/png": "iVBORw0KGgoAAAANSUhEUgAAABwAAAAcCAAAAABXZoBIAAABo0lEQVR4nG2QTWtTURRF1z33ppSq\npNVWwerAkmJVBBE1fuBErPhrxD+gIyf+DOnMClaowYGIiAoFKUpBKk60GEEwiSDV9uXdux30vQTs\n29PFOuyzHUWMxNH5y3MT+2yzt/5iuWvSgBmXHvZUJKl929zQO7QgpZJlKWqxxg62dOLJbEy1v6/f\nd9Po7I2DUqzduQeA48hnZUkPZnDgmGwpRn3aW8AFZVF3MQshhMB0V1E/T++wxrZyrQbniwojG8q1\nMW2AcXMkwcvcx6Ld3BSi3TYArpCMZ6Sy+tXR6GjtXB3/qFy9wwQzM3NG87uyx3UAz3mlvpZwrjQ5\n0GwAAeAiyfFtcioHoNvBdTo4BBjLilJWZKtzC3PeiifrXxQH06mvFlbO6pkfriopfThTwoDjHLnz\n9x/VI4DrrW+VP+HgqfrKmpTzuMFRHPu7yrU2ZsF7770fIoLFCxPA2h+f83/McY3oeL6LAJZzFhlv\nURU+1lOu1T243cg4OR7Fu01fYRrXwbNSJQIr6ut3oxoe/6G+3lRqMLa4/evVKayKOcJM/jVWi/8A\nrRbY8KLtaMUAAAAASUVORK5CYII=\n",
      "text/plain": [
       "<IPython.core.display.Image at 0x7effc3073d10>"
      ]
     },
     "metadata": {},
     "output_type": "display_data"
    },
    {
     "name": "stdout",
     "output_type": "stream",
     "text": [
      "notMNIST_small/G/Q3VydmF0dXJlLVJvdW5kZWRJdGFsaWMub3Rm.png\n"
     ]
    },
    {
     "data": {
      "image/png": "iVBORw0KGgoAAAANSUhEUgAAABwAAAAcCAAAAABXZoBIAAACEklEQVR4nEWSTUhVURSFv33OVV+v\nELKiUqyQIvohy7AwIZHSaOAkB0FR0MR5DRpHRDSqWTRzUNSkeUUkKP0YQopm1KAErTBTQamMd889\nq8G7z9Z07Z+1115GGeYyiseOH6yvXROWf449HSo5aZWj/vqnqFW868FXOPyVJcWQM2kao25gBmBa\n97BHwbsfo19X3PpDeyDKX7xf7qt5olLQdN96DEjO/VIMGgHAcU2loPEGzHnvvadPIdO3XYCxYU6Z\n0naqHACeFsVMU40OHF2bBO/fWBpzgU1EMTvjwOgkE8+j5ZQ4RQYDOCzUNGPwCkcFEyR+6Dbgaf6r\noNmdOJf4Mlzr2fbq8voLSoMGcf87AZyRILoxYxgXWi415AV+qf+FASRflEV1QveKKu5GLWzHnOPw\nVrD5Cego5IJDCIQVSHxsL2Twct50p7DfwEp7d0iMzZkwHilNdZUkF5LwWCHoMg7YOKNMaSceS5yZ\nZ8tnhag2PNCmmGmqSO6P56SyoMk6DMcJBKN/nCreHSGK8cVEJHQgeLZ6u+jGwRAC6j4qCzqa67Eq\n9q0o6vc2DNzaAkAL8t57b2ntvUIM9E+X1wwrRC33locWz3xQSPW2nBfj/IPMHIyOLMbqxtYmBe9e\n986ayum6qRjTSipDptKt4uprPb2TilKMkqK+392Ns0qczWKx6/SBzbW+tDQ7MTiwgI/5zf8ACGUf\nyW0FYAwAAAAASUVORK5CYII=\n",
      "text/plain": [
       "<IPython.core.display.Image at 0x7effc3073d50>"
      ]
     },
     "metadata": {},
     "output_type": "display_data"
    },
    {
     "name": "stdout",
     "output_type": "stream",
     "text": [
      "notMNIST_small/H/Q3VydmF0dXJlLVJvdW5kZWRJdGFsaWMub3Rm.png\n"
     ]
    },
    {
     "data": {
      "image/png": "iVBORw0KGgoAAAANSUhEUgAAABwAAAAcCAAAAABXZoBIAAAB90lEQVR4nE2STUtVURSGn7XOvlzS\nsMxqEJFh315vNLCuhB8RGFFUv0BoUNC8/1AQ0ahBs2hYo4ZhFEGJ+VGhhELQQK8RlPZFop59zl4N\nzj7kmi2etRfv+64NAAht9V1srs6eKiW73lz9dgUt2+1PfvmXxbRS95baLZICJtw1b3/7tJg873zC\nZLknp59A811cNAj6fYoQt9ZqKFNeAc13diN8+iIWYX1rBi9QQOjuCmUDGGfB+ZnYNwjCWOki0I8x\nN4cCxjAkX+exqP34PoTZ1ClI2FHDmG9qiPBka6Y8xxxo3tiDMkEli3r6QLO3mAOhF+94ig+Fy+oZ\n4MMi5iBjAJVs5FLFACRr3w9Mb7gMhI6fFiy3/xUs2AgJkHDBzMImlluwtU4EhzBA5uzVaowgVAer\nJh+XCm2MmrfFLUg0ciA3b3dIwIntbQBv1lwRQZJe1FyZRsAJ9bYA45DH9IYIlZUJAqhwjuD8dMxO\n8vYehM8LEkBzTmEsvY+3TDh22GA0XuTgD/P2GEVUE6c8NB98b/wxly3zdo1EBYTqPQup3S8eOoYw\nF2YgtO6udAxdPeKl8uxmVMCkpTbbAjcW/qybhczsQemZo8uW2iM4nVows2BjwySR0TFu+UQXdE6m\nG7+XXt9uCFoyYduJtdl1oOVQsrq8AqJlGvwD5tPwucFTLbIAAAAASUVORK5CYII=\n",
      "text/plain": [
       "<IPython.core.display.Image at 0x7effc3073f10>"
      ]
     },
     "metadata": {},
     "output_type": "display_data"
    },
    {
     "name": "stdout",
     "output_type": "stream",
     "text": [
      "notMNIST_small/I/Q3VydmF0dXJlLVJvdW5kZWRJdGFsaWMub3Rm.png\n"
     ]
    },
    {
     "data": {
      "image/png": "iVBORw0KGgoAAAANSUhEUgAAABwAAAAcCAAAAABXZoBIAAABi0lEQVR4nGWSTShEURTH/+e+xzC+\nRk1oUhaGkoQUNhajNMnGSjY2ouztWFhbWNmxsVbKxgZRUspn04yykJdvNTSUMRn33WNx3+TNdTbv\ndH/v97/3nvcIAHWN9DbWlMpcLpu+d65SzwoCzACAwMId+8p9OZjrDgIEAKhYyRaAzP+4ipk/1wct\naB5s66ivsMpqI9FIOZhYQZCzupRHUVX2LV4zM7Ny3eSUXiNh2bZt2wKw4pd6A5VZAwQAVq6UUkpF\ngp8TnvCVBmx/LDM1DXm9s6PNv6LoQFh3udSeCblnVN8d57vSiKVIT4v31skucbHJsZgW+eL4nY3Y\nqv4uPTTaPiQYsfFuS4vO2T1QbIrhTm/vjQShuGjwyJt/Jq4dn8kTrV637ihTbE8WPlwsAMPkmQbd\nqK2bb0MU4VvliUNBgyE4/6HZ92nIZFT3KDV8Gy8zYWjSY/lEickQvXA1fJj9x6rHCv/Oadh3SP1o\nngIrBom7zdf/qcufzMyZ/emAb6qFNtDcEsqnb5+yfuUX8cDfBsCw13wAAAAASUVORK5CYII=\n",
      "text/plain": [
       "<IPython.core.display.Image at 0x7effc3073dd0>"
      ]
     },
     "metadata": {},
     "output_type": "display_data"
    },
    {
     "name": "stdout",
     "output_type": "stream",
     "text": [
      "notMNIST_small/J/Q3VydmF0dXJlLVJvdW5kZWRJdGFsaWMub3Rm.png\n"
     ]
    },
    {
     "data": {
      "image/png": "iVBORw0KGgoAAAANSUhEUgAAABwAAAAcCAAAAABXZoBIAAABqElEQVR4nG2TQW9MURiGn++cW5oJ\npSwIqYQQEiGCtlZsdBIRG41NLaz8DEuNXyB2GomlfVcE0VI0ZKIRiy5IJ42kUoaQe+/5XovbGYP7\n7k6evE++8+UcAzAN3rg4bFRJ3z6/nX2SBwmAwIyS/sriJSIb8JnKPlIU7rqJWaUdubq3a7UdJ46A\nK167R02yqY681KvuOcT+cF1l0sqhrILe34y8Joj8V1bn5SAO7U+hBokmGPO1PVhSSmrWkcDJjpK+\n7KFGGxjbksRcm5qBEuMIXjLwPzO2LSspNavlhhjtDwyckpJWtmIZZv5P8zwOix1TBr7/2PrzvA+f\nRTBLSMB0nvQA61l3L6t0jRGBc0qFPvRqGRNKpVrbMQJNPLDQu7AziovWeiYyzmDiUU8rmgR4ioCd\n75VKjW9swwY4+lOuH/swCI3NAKdRjDFGK4buDHrJ3Y9BAPMqXd+vVNLG5SWVhV4MY4AxdT9ZgDcL\na9o0MnpAZQxzk6umaiHTci+6L7NMym81erNHJt/JJXdJrvbtwwTrbtLMGxMXju8aivnX1dbjh2tE\nrz4CvwGi6eL8d4euFQAAAABJRU5ErkJggg==\n",
      "text/plain": [
       "<IPython.core.display.Image at 0x7effc3073f50>"
      ]
     },
     "metadata": {},
     "output_type": "display_data"
    }
   ],
   "source": [
    "from IPython.display import Image, display\n",
    "def show_samples_from_folders(folder_list):\n",
    "  \"\"\"I'm with stupid ->\"\"\"\n",
    "  for folder in folder_list:\n",
    "    for fname in os.listdir(folder):\n",
    "        fullfname = os.path.join(folder,fname)\n",
    "        if os.path.isfile(fullfname):\n",
    "            if os.path.splitext(fname)[1] == \".png\":\n",
    "                print(fullfname)\n",
    "                display(Image(filename=fullfname))\n",
    "                break\n",
    "                \n",
    "show_samples_from_folders(test_folders)"
   ]
  },
  {
   "cell_type": "markdown",
   "metadata": {
    "colab_type": "text",
    "id": "PBdkjESPK8tw"
   },
   "source": [
    "Now let's load the data in a more manageable format.\n",
    "\n",
    "We'll convert the entire dataset into a 3D array (image index, x, y) of floating point values, normalized to have approximately zero mean and standard deviation ~0.5 to make training easier down the road. The labels will be stored into a separate array of integers 0 through 9.\n",
    "\n",
    "A few images might not be readable, we'll just skip them."
   ]
  },
  {
   "cell_type": "code",
   "execution_count": 9,
   "metadata": {
    "cellView": "both",
    "colab": {
     "autoexec": {
      "startup": false,
      "wait_interval": 0
     },
     "output_extras": [
      {
       "item_id": 30
      }
     ]
    },
    "colab_type": "code",
    "collapsed": false,
    "executionInfo": {
     "elapsed": 399874,
     "status": "ok",
     "timestamp": 1444485886378,
     "user": {
      "color": "#1FA15D",
      "displayName": "Vincent Vanhoucke",
      "isAnonymous": false,
      "isMe": true,
      "permissionId": "05076109866853157986",
      "photoUrl": "//lh6.googleusercontent.com/-cCJa7dTDcgQ/AAAAAAAAAAI/AAAAAAAACgw/r2EZ_8oYer4/s50-c-k-no/photo.jpg",
      "sessionId": "2a0a5e044bb03b66",
      "userId": "102167687554210253930"
     },
     "user_tz": 420
    },
    "id": "h7q0XhG3MJdf",
    "outputId": "92c391bb-86ff-431d-9ada-315568a19e59"
   },
   "outputs": [],
   "source": [
    "image_size = 28  # Pixel width and height.\n",
    "pixel_depth = 255.0  # Number of levels per pixel.\n",
    "\n",
    "def load(data_folders, min_num_images, max_num_images):\n",
    "  dataset = np.ndarray(\n",
    "    shape=(max_num_images, image_size, image_size), dtype=np.float32)\n",
    "  labels = np.ndarray(shape=(max_num_images), dtype=np.int32)\n",
    "  label_index = 0\n",
    "  image_index = 0\n",
    "  for folder in data_folders:\n",
    "    print folder\n",
    "    for image in os.listdir(folder):\n",
    "      if image_index >= max_num_images:\n",
    "        raise Exception('More images than expected: %d >= %d' % (\n",
    "          image_index, max_num_images))\n",
    "      image_file = os.path.join(folder, image)\n",
    "      try:\n",
    "        image_data = (ndimage.imread(image_file).astype(float) -\n",
    "                      pixel_depth / 2) / pixel_depth\n",
    "        if image_data.shape != (image_size, image_size):\n",
    "          raise Exception('Unexpected image shape: %s' % str(image_data.shape))\n",
    "        dataset[image_index, :, :] = image_data\n",
    "        labels[image_index] = label_index\n",
    "        image_index += 1\n",
    "      except IOError as e:\n",
    "        print 'Could not read:', image_file, ':', e, '- it\\'s ok, skipping.'\n",
    "    label_index += 1\n",
    "  num_images = image_index\n",
    "  dataset = dataset[0:num_images, :, :]\n",
    "  labels = labels[0:num_images]\n",
    "  if num_images < min_num_images:\n",
    "    raise Exception('Many fewer images than expected: %d < %d' % (\n",
    "        num_images, min_num_images))\n",
    "  print 'Full dataset tensor:', dataset.shape\n",
    "  print 'Mean:', np.mean(dataset)\n",
    "  print 'Standard deviation:', np.std(dataset)\n",
    "  print 'Labels:', labels.shape\n",
    "  return dataset, labels\n",
    "#was 450000, 550000\n",
    "#and 18000, 20000\n"
   ]
  },
  {
   "cell_type": "code",
   "execution_count": 10,
   "metadata": {
    "collapsed": false
   },
        "    else:\n",
        "      print('Pickling %s.' % set_filename)\n",
        "      dataset = load_letter(folder, min_num_images_per_class)\n",
   "outputs": [
    {
     "name": "stdout",
     "output_type": "stream",
     "text": [
      "notMNIST_large/A\n",
      "label_index  0  assigned to  notMNIST_large/A\n",
      "notMNIST_large/B\n",
      "label_index  1  assigned to  notMNIST_large/B\n",
      "notMNIST_large/C\n",
      "label_index  2  assigned to  notMNIST_large/C\n",
      "notMNIST_large/D\n",
      "label_index  3  assigned to  notMNIST_large/D\n",
      "notMNIST_large/E\n",
      "label_index  4  assigned to  notMNIST_large/E\n",
      "notMNIST_large/F\n",
      "label_index  5  assigned to  notMNIST_large/F\n",
      "notMNIST_large/G\n",
      "label_index  6  assigned to  notMNIST_large/G\n",
      "notMNIST_large/H\n",
      "label_index  7  assigned to  notMNIST_large/H\n",
      "notMNIST_large/I\n",
      "label_index  8  assigned to  notMNIST_large/I\n",
      "notMNIST_large/J\n",
      "label_index  9  assigned to  notMNIST_large/J\n",
      "Total:  10 indexes,  529114  images.\n"
     ]
    }
   ],
   "source": [
    "image_size = 28  # Pixel width and height.\n",
    "pixel_depth = 255.0  # Number of levels per pixel.\n",
    "\n",
    "np.random.seed(133)\n",
    "\n",
    "def test_n_purge_input_files(data_folders, purge):\n",
    "  supported_ext = ['.png']\n",
    "  image_index = 0\n",
    "  label_index = 0\n",
    "  for folder in data_folders:\n",
    "    print folder\n",
    "    for image in os.listdir(folder):\n",
    "      if os.path.splitext(image)[1] in supported_ext:\n",
    "          image_file = os.path.join(folder, image)\n",
    "          try:\n",
    "            image_data = (ndimage.imread(image_file).astype(float) -\n",
    "                          pixel_depth / 2) / pixel_depth\n",
    "            if image_data.shape != (image_size, image_size):\n",
    "              print 'Strange shape!'\n",
    "              raise IOError\n",
    "            image_index += 1\n",
    "          except IOError as e:\n",
    "            if purge:\n",
    "              os.remove(image_file)\n",
    "            print 'Could not read:', image_file, ':', e, '-, purging it to trash.'\n",
    "    if len(os.listdir(folder)) > 0:\n",
    "      print \"label_index \", label_index, \" assigned to \", folder\n",
    "      label_index += 1\n",
    "  print \"Total: \", label_index, \"indexes, \", image_index , \" images.\"\n",
    "  return label_index, image_index\n",
    "    \n",
    "def load_n_shuffle(data_folders, num_img):\n",
    "  \"\"\"Had to make this, /'cause don't have enough memory for separate shuffling\"\"\"\n",
    "  supported_ext = ['.png']\n",
    "  image_index = 0\n",
    "  label_index = 0\n",
    "    \n",
    "  permutation = np.random.permutation(num_img)\n",
    "  dataset = np.ndarray(\n",
    "    shape=(num_img, image_size, image_size), dtype=np.float32)\n",
    "  labels = np.ndarray(shape=(num_img), dtype=np.int32)\n",
    "    \n",
    "  try:  \n",
    "   for folder in data_folders:\n",
    "    for image in os.listdir(folder):\n",
    "      if os.path.splitext(image)[1] in supported_ext:\n",
    "            image_file = os.path.join(folder, image)\n",
    "            image_data = (ndimage.imread(image_file).astype(float) -\n",
    "                          pixel_depth / 2) / pixel_depth\n",
    "            if image_data.shape != (image_size, image_size):\n",
    "              print 'What a strange shape!'\n",
    "              raise IOError\n",
    "            dataset[permutation[image_index], :, :] = image_data\n",
    "            labels[permutation[image_index]] = label_index\n",
    "            if image_index > num_img:\n",
    "                raise Exception('fck, it\\'s too long')\n",
    "            image_index += 1\n",
    "    if len(os.listdir(folder)) > 0:\n",
    "      print \"label_index \", label_index, \" assigned to \", folder\n",
    "      label_index += 1\n",
    "   if image_index < num_img:\n",
    "     raise Exception('fck, it\\'s too short')\n",
    "   print \"Total: \", label_index, \"indexes, \", image_index , \" images.\"\n",
    "            \n",
    "   num_images = image_index\n",
    "  except IOError as e:\n",
    "            print 'Could not read:', image_file, ':', e, '-, can\\'t deal with it, need exact number of imgs.'\n",
    "  return dataset, labels\n",
    "\n",
    "def dataset_info(dataset, labels):\n",
    "   print 'Full dataset tensor:', dataset.shape\n",
    "   print 'Mean:', np.mean(dataset)\n",
    "   print 'Standard deviation:', np.std(dataset)\n",
    "   print 'Labels:', labels.shape\n",
    "\n",
    "\n",
    "_, train_img_num = test_n_purge_input_files(train_folders, True)"
   ]
  },
  {
   "cell_type": "code",
   "execution_count": 11,
   "metadata": {
    "collapsed": false
   },
   "outputs": [
    {
     "name": "stdout",
     "output_type": "stream",
     "text": [
      "label_index  0  assigned to  notMNIST_large/A\n",
      "label_index  1  assigned to  notMNIST_large/B\n",
      "label_index  2  assigned to  notMNIST_large/C\n",
      "label_index  3  assigned to  notMNIST_large/D\n",
      "label_index  4  assigned to  notMNIST_large/E\n",
      "label_index  5  assigned to  notMNIST_large/F\n",
      "label_index  6  assigned to  notMNIST_large/G\n",
      "label_index  7  assigned to  notMNIST_large/H\n",
      "label_index  8  assigned to  notMNIST_large/I\n",
      "label_index  9  assigned to  notMNIST_large/J\n",
      "Total:  10 indexes,  529114  images.\n"
     ]
    }
   ],
   "source": [
    "train_dataset, train_labels = load_n_shuffle(train_folders, train_img_num)"
   ]
  },
  {
   "cell_type": "code",
   "execution_count": 12,
   "metadata": {
    "collapsed": false
   },
   "outputs": [
    {
     "name": "stdout",
     "output_type": "stream",
     "text": [
      "notMNIST_small/A\n",
      "label_index  0  assigned to  notMNIST_small/A\n",
      "notMNIST_small/B\n",
      "label_index  1  assigned to  notMNIST_small/B\n",
      "notMNIST_small/C\n",
      "label_index  2  assigned to  notMNIST_small/C\n",
      "notMNIST_small/D\n",
      "label_index  3  assigned to  notMNIST_small/D\n",
      "notMNIST_small/E\n",
      "label_index  4  assigned to  notMNIST_small/E\n",
      "notMNIST_small/F\n",
      "label_index  5  assigned to  notMNIST_small/F\n",
      "notMNIST_small/G\n",
      "label_index  6  assigned to  notMNIST_small/G\n",
      "notMNIST_small/H\n",
      "label_index  7  assigned to  notMNIST_small/H\n",
      "notMNIST_small/I\n",
      "label_index  8  assigned to  notMNIST_small/I\n",
      "notMNIST_small/J\n",
      "label_index  9  assigned to  notMNIST_small/J\n",
      "Total:  10 indexes,  18724  images.\n",
      "label_index  0  assigned to  notMNIST_small/A\n",
      "label_index  1  assigned to  notMNIST_small/B\n",
      "label_index  2  assigned to  notMNIST_small/C\n",
      "label_index  3  assigned to  notMNIST_small/D\n",
      "label_index  4  assigned to  notMNIST_small/E\n",
      "label_index  5  assigned to  notMNIST_small/F\n",
      "label_index  6  assigned to  notMNIST_small/G\n",
      "label_index  7  assigned to  notMNIST_small/H\n",
      "label_index  8  assigned to  notMNIST_small/I\n",
      "label_index  9  assigned to  notMNIST_small/J\n",
      "Total:  10 indexes,  18724  images.\n"
     ]
    }
   ],
   "source": [
    "_, test_img_num = test_n_purge_input_files(test_folders, True)\n",
    "test_dataset, test_labels = load_n_shuffle(test_folders, test_img_num)"
   ]
  },
  {
   "cell_type": "code",
   "execution_count": 49,
   "metadata": {
    "collapsed": false
   },
   "outputs": [
    {
     "name": "stdout",
     "output_type": "stream",
     "text": [
      "Full dataset tensor: (200000, 28, 28)\n",
      "Mean: -0.0817419\n",
      "Standard deviation: 0.454188\n",
      "Labels: (200000,)\n",
      "Full dataset tensor: (18724, 28, 28)\n",
      "Mean: -0.0746363\n",
      "Standard deviation: 0.458622\n",
      "Labels: (18724,)\n"
     ]
    }
   ],
   "source": [
    "dataset_info(train_dataset, train_labels)\n",
    "dataset_info(test_dataset, test_labels)"
   ]
  },
  {
   "cell_type": "markdown",
   "metadata": {
    "colab_type": "text",
    "id": "vUdbskYE2d87"
   },
   "source": [
    "---\n",
    "Problem 2\n",
    "---------\n",
    "\n",
    "Let's verify that the data still looks good. Displaying a sample of the labels and images from the ndarray. Hint: you can use matplotlib.pyplot.\n",
    "\n",
    "---"
   ]
  },
  {
   "cell_type": "markdown",
   "metadata": {
    "colab_type": "text",
    "id": "GPTCnjIcyuKN"
   },
   "source": [
    "Next, we'll randomize the data. It's important to have the labels well shuffled for the training and test distributions to match."
   ]
  },
  {
   "cell_type": "code",
   "execution_count": null,
   "metadata": {
    "cellView": "both",
    "colab": {
     "autoexec": {
      "startup": false,
      "wait_interval": 0
     }
    },
    "colab_type": "code",
    "collapsed": false,
    "id": "6WZ2l2tN2zOL"
   },
   "outputs": [],
   "source": [
    "#randomized it before, cause ididnt had enuf mmry"
   ]
  },
  {
   "cell_type": "markdown",
   "metadata": {
    "colab_type": "text",
    "id": "puDUTe6t6USl"
   },
   "source": [
    "---\n",
    "Problem 3\n",
    "---------\n",
    "Convince yourself that the data is still good after shuffling!\n",
    "\n",
    "---"
   ]
  },
  {
   "cell_type": "code",
   "execution_count": 39,
   "metadata": {
    "collapsed": false
   },
   "outputs": [
    {
     "name": "stdout",
     "output_type": "stream",
     "text": [
      "Label:  3\n",
      "Label:  5\n",
      "Label:  6\n",
      "Label:  7\n",
      "Label:  9\n",
      "Label:  4\n",
      "Label:  4\n",
      "Label:  3\n",
      "Label:  1\n",
      "Label:  9\n"
     ]
    },
    {
     "data": {
      "image/png": "iVBORw0KGgoAAAANSUhEUgAAAFYAAABYCAYAAABvXACHAAAABHNCSVQICAgIfAhkiAAAAAlwSFlz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\nYYvYMmGL2DLh/wHg/3I24+ZOIQAAAABJRU5ErkJggg==\n",
      "text/plain": [
       "<matplotlib.figure.Figure at 0x7eff501aa550>"
      ]
     },
     "metadata": {},
     "output_type": "display_data"
    },
    {
     "data": {
      "image/png": "iVBORw0KGgoAAAANSUhEUgAAAFYAAABYCAYAAABvXACHAAAABHNCSVQICAgIfAhkiAAAAAlwSFlz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\n",
      "text/plain": [
       "<matplotlib.figure.Figure at 0x7eff4f634f10>"
      ]
     },
     "metadata": {},
     "output_type": "display_data"
    },
    {
     "data": {
      "image/png": "iVBORw0KGgoAAAANSUhEUgAAAFYAAABYCAYAAABvXACHAAAABHNCSVQICAgIfAhkiAAAAAlwSFlz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\nRcL/Ax6fSbaYJ7IQAAAAAElFTkSuQmCC\n",
      "text/plain": [
       "<matplotlib.figure.Figure at 0x7eff4f546710>"
      ]
     },
     "metadata": {},
     "output_type": "display_data"
    },
    {
     "data": {
      "image/png": "iVBORw0KGgoAAAANSUhEUgAAAFYAAABYCAYAAABvXACHAAAABHNCSVQICAgIfAhkiAAAAAlwSFlz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\n",
      "text/plain": [
       "<matplotlib.figure.Figure at 0x7eff4f4b7b50>"
      ]
     },
     "metadata": {},
     "output_type": "display_data"
    },
    {
     "data": {
      "image/png": "iVBORw0KGgoAAAANSUhEUgAAAFYAAABYCAYAAABvXACHAAAABHNCSVQICAgIfAhkiAAAAAlwSFlz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\n87VVjz4gM/UAAAAASUVORK5CYII=\n",
      "text/plain": [
       "<matplotlib.figure.Figure at 0x7eff4f447350>"
      ]
     },
     "metadata": {},
     "output_type": "display_data"
    }
   ],
   "source": [
    "\n",
    "def show_samples(dataset,labels,start,num):\n",
    "    %matplotlib inline\n",
    "    i = start\n",
    "    while i<(start+num):\n",
    "        print \"Label: \", labels[i] \n",
    "        img = dataset[i,:,:]\n",
    "        plt.figure(figsize=(1,1),frameon=False)\n",
    "        plt.imshow(img)\n",
    "        i+=1\n",
    "\n",
    "show_samples(train_dataset,train_labels,10,5)\n",
    "show_samples(test_dataset,test_labels,10,5)"
   ]
  },
  {
   "cell_type": "markdown",
   "metadata": {
    "colab_type": "text",
    "id": "cYznx5jUwzoO"
   },
   "source": [
    "---\n",
    "Problem 4\n",
    "---------\n",
    "Another check: we expect the data to be balanced across classes. Verify that.\n",
    "\n",
    "---"
   ]
  },
  {
   "cell_type": "code",
   "execution_count": 50,
   "metadata": {
    "collapsed": false
   },
   "outputs": [
    {
     "name": "stdout",
     "output_type": "stream",
     "text": [
      "('Total count: ', 18724)\n",
      "('Label: ', 0, '  Count: ', 1872, '  Percent: 9.00')\n",
      "('Label: ', 1, '  Count: ', 1873, '  Percent: 10.00')\n",
      "('Label: ', 2, '  Count: ', 1873, '  Percent: 10.00')\n",
      "('Label: ', 3, '  Count: ', 1873, '  Percent: 10.00')\n",
      "('Label: ', 4, '  Count: ', 1873, '  Percent: 10.00')\n",
      "('Label: ', 5, '  Count: ', 1872, '  Percent: 9.00')\n",
      "('Label: ', 6, '  Count: ', 1872, '  Percent: 9.00')\n",
      "('Label: ', 7, '  Count: ', 1872, '  Percent: 9.00')\n",
      "('Label: ', 8, '  Count: ', 1872, '  Percent: 9.00')\n",
      "('Label: ', 9, '  Count: ', 1872, '  Percent: 9.00')\n"
     ]
    }
   ],
   "source": [
    "def show_me_balance(labels):\n",
    "    i=0\n",
    "    s = np.sum(labels != -1)\n",
    "    print(\"Total count: \", s)\n",
    "    while i<10:\n",
    "        c = np.sum(labels == i)\n",
    "        print(\"Label: \", i, \"  Count: \",c,\"  Percent: %.2f\" % (100*c/s))\n",
    "        i+=1\n",
    "show_me_balance(test_labels)        "
   ]
  },
  {
   "cell_type": "markdown",
   "metadata": {
    "colab_type": "text",
    "id": "LA7M7K22ynCt"
   },
   "source": [
    "Prune the training data as needed. Depending on your computer setup, you might not be able to fit it all in memory, and you can tune train_size as needed.\n",
    "\n",
    "Also create a validation dataset for hyperparameter tuning."
   ]
  },
  {
   "cell_type": "code",
   "execution_count": 13,
   "metadata": {
    "cellView": "both",
    "colab": {
     "autoexec": {
      "startup": false,
      "wait_interval": 0
     },
     "output_extras": [
      {
       "item_id": 1
      }
     ]
    },
    "colab_type": "code",
    "collapsed": false,
    "executionInfo": {
     "elapsed": 411281,
     "status": "ok",
     "timestamp": 1444485897869,
     "user": {
      "color": "#1FA15D",
      "displayName": "Vincent Vanhoucke",
      "isAnonymous": false,
      "isMe": true,
      "permissionId": "05076109866853157986",
      "photoUrl": "//lh6.googleusercontent.com/-cCJa7dTDcgQ/AAAAAAAAAAI/AAAAAAAACgw/r2EZ_8oYer4/s50-c-k-no/photo.jpg",
      "sessionId": "2a0a5e044bb03b66",
      "userId": "102167687554210253930"
     },
     "user_tz": 420
    },
    "id": "s3mWgZLpyuzq",
    "outputId": "8af66da6-902d-4719-bedc-7c9fb7ae7948"
   },
        "        # let's shuffle the letters to have random validation and training set\n",
        "        np.random.shuffle(letter_set)\n",
        "_, _, test_dataset, test_labels = merge_datasets(test_datasets, test_size)\n",
   "outputs": [
    {
     "name": "stdout",
     "output_type": "stream",
     "text": [
      "Training (200000, 28, 28) (200000,)\n",
      "Validation (10000, 28, 28) (10000,)\n"
     ]
    }
        "valid_dataset, valid_labels = randomize(valid_dataset, valid_labels)"
   ],
   "source": [
    "train_size = 200000\n",
    "valid_size = 10000\n",
    "\n",
    "valid_dataset = train_dataset[:valid_size,:,:]\n",
    "valid_labels = train_labels[:valid_size]\n",
    "train_dataset = train_dataset[valid_size:valid_size+train_size,:,:]\n",
    "train_labels = train_labels[valid_size:valid_size+train_size]\n",
    "print 'Training', train_dataset.shape, train_labels.shape\n",
    "print 'Validation', valid_dataset.shape, valid_labels.shape"
   ]
  },
  {
   "cell_type": "markdown",
   "metadata": {
    "colab_type": "text",
    "id": "tIQJaJuwg5Hw"
   },
   "source": [
    "Finally, let's save the data for later reuse:"
   ]
  },
  {
   "cell_type": "code",
   "execution_count": 14,
   "metadata": {
    "cellView": "both",
    "colab": {
     "autoexec": {
      "startup": false,
      "wait_interval": 0
     }
    },
    "colab_type": "code",
    "collapsed": false,
    "id": "QiR_rETzem6C"
   },
   "outputs": [],
   "source": [
    "pickle_file = 'notMNIST.pickle'\n",
    "\n",
    "try:\n",
    "  f = open(pickle_file, 'wb')\n",
    "  save = {\n",
    "    'train_dataset': train_dataset,\n",
    "    'train_labels': train_labels,\n",
    "    'valid_dataset': valid_dataset,\n",
    "    'valid_labels': valid_labels,\n",
    "    'test_dataset': test_dataset,\n",
    "    'test_labels': test_labels,\n",
    "    }\n",
    "  pickle.dump(save, f, pickle.HIGHEST_PROTOCOL)\n",
    "  f.close()\n",
    "except Exception as e:\n",
    "  print 'Unable to save data to', pickle_file, ':', e\n",
    "  raise"
   ]
  },
  {
   "cell_type": "code",
   "execution_count": 15,
   "metadata": {
    "cellView": "both",
    "colab": {
     "autoexec": {
      "startup": false,
      "wait_interval": 0
     },
     "output_extras": [
      {
       "item_id": 1
      }
     ]
    },
    "colab_type": "code",
    "collapsed": false,
    "executionInfo": {
     "elapsed": 413065,
     "status": "ok",
     "timestamp": 1444485899688,
     "user": {
      "color": "#1FA15D",
      "displayName": "Vincent Vanhoucke",
      "isAnonymous": false,
      "isMe": true,
      "permissionId": "05076109866853157986",
      "photoUrl": "//lh6.googleusercontent.com/-cCJa7dTDcgQ/AAAAAAAAAAI/AAAAAAAACgw/r2EZ_8oYer4/s50-c-k-no/photo.jpg",
      "sessionId": "2a0a5e044bb03b66",
      "userId": "102167687554210253930"
     },
     "user_tz": 420
    },
    "id": "hQbLjrW_iT39",
    "outputId": "b440efc6-5ee1-4cbc-d02d-93db44ebd956"
   },
   "outputs": [
    {
     "name": "stdout",
     "output_type": "stream",
     "text": [
      "Compressed pickle size: 718193801\n"
     ]
    }
   ],
   "source": [
    "statinfo = os.stat(pickle_file)\n",
    "print 'Compressed pickle size:', statinfo.st_size"
   ]
  },
  {
   "cell_type": "markdown",
   "metadata": {
    "colab_type": "text",
    "id": "gE_cRAQB33lk"
   },
   "source": [
    "---\n",
    "Problem 5\n",
    "---------\n",
    "\n",
    "By construction, this dataset might contain a lot of overlapping samples, including training data that's also contained in the validation and test set! Overlap between training and test can skew the results if you expect to use your model in an environment where there is never an overlap, but are actually ok if you expect to see training samples recur when you use it.\n",
    "Measure how much overlap there is between training, validation and test samples.\n",
    "Optional questions:\n",
    "- What about near duplicates between datasets? (images that are almost identical)\n",
    "- Create a sanitized validation and test set, and compare your accuracy on those in subsequent assignments.\n",
    "---"
   ]
  },
  {
   "cell_type": "markdown",
   "metadata": {
    "colab_type": "text",
    "id": "L8oww1s4JMQx"
   },
   "source": [
    "---\n",
    "Problem 6\n",
    "---------\n",
    "\n",
    "Let's get an idea of what an off-the-shelf classifier can give you on this data. It's always good to check that there is something to learn, and that it's a problem that is not so trivial that a canned solution solves it.\n",
    "\n",
    "Train a simple model on this data using 50, 100, 1000 and 5000 training samples. Hint: you can use the LogisticRegression model from sklearn.linear_model.\n",
    "\n",
    "Optional question: train an off-the-shelf model on all the data!\n",
    "\n",
    "---"
   ]
  },
  {
   "cell_type": "code",
   "execution_count": 2,
   "metadata": {
    "collapsed": false
   },
   "outputs": [],
   "source": [
    "import cPickle as pickle\n",
    "import numpy as np\n",
    "from sklearn.linear_model import LogisticRegression"
   ]
  },
  {
   "cell_type": "code",
   "execution_count": 3,
   "metadata": {
    "collapsed": false
   },
   "outputs": [
    {
     "name": "stdout",
     "output_type": "stream",
     "text": [
      "Training set (200000, 28, 28) (200000,)\n",
      "Validation set (10000, 28, 28) (10000,)\n",
      "Test set (18724, 28, 28) (18724,)\n"
     ]
    }
   ],
   "source": [
    "#i don't want to use previious steps, cause it will be long\n",
    "# so let's just copy pickle load from 2_notmnist....\n",
    "pickle_file = 'notMNIST.pickle'\n",
    "\n",
    "with open(pickle_file, 'rb') as f:\n",
    "  save = pickle.load(f)\n",
    "  train_dataset = save['train_dataset']\n",
    "  train_labels = save['train_labels']\n",
    "  valid_dataset = save['valid_dataset']\n",
    "  valid_labels = save['valid_labels']\n",
    "  test_dataset = save['test_dataset']\n",
    "  test_labels = save['test_labels']\n",
    "  del save  # hint to help gc free up memory\n",
    "  print 'Training set', train_dataset.shape, train_labels.shape\n",
    "  print 'Validation set', valid_dataset.shape, valid_labels.shape\n",
    "  print 'Test set', test_dataset.shape, test_labels.shape"
   ]
  },
  {
   "cell_type": "code",
   "execution_count": 4,
   "metadata": {
    "collapsed": false
   },
   "outputs": [
    {
     "name": "stdout",
     "output_type": "stream",
     "text": [
      "Training set (200000, 784) (200000,)\n",
      "Validation set (10000, 784) (10000,)\n",
      "Test set (18724, 784) (18724,)\n"
     ]
    }
   ],
   "source": [
    "image_size = 28\n",
    "num_labels = 10\n",
    "\n",
    "def reformat(dataset, labels):\n",
    "  dataset = dataset.reshape((-1, image_size * image_size)).astype(np.float32)\n",
    "  # Map 0 to [1.0, 0.0, 0.0 ...], 1 to [0.0, 1.0, 0.0 ...]\n",
    "  labels = labels\n",
    "  return dataset, labels\n",
    "train_dataset, train_labels = reformat(train_dataset, train_labels)\n",
    "valid_dataset, valid_labels = reformat(valid_dataset, valid_labels)\n",
    "test_dataset, test_labels = reformat(test_dataset, test_labels)\n",
    "print 'Training set', train_dataset.shape, train_labels.shape\n",
    "print 'Validation set', valid_dataset.shape, valid_labels.shape\n",
    "print 'Test set', test_dataset.shape, test_labels.shape"
   ]
  },
  {
   "cell_type": "code",
   "execution_count": 8,
   "metadata": {
    "collapsed": false
   },
   "outputs": [
    {
     "name": "stdout",
     "output_type": "stream",
     "text": [
      "784\n"
     ]
    }
   ],
   "source": [
    "logreg = LogisticRegression(C=1e5)\n",
    "numfit = 5000\n",
    "numtest = 1000\n",
    "X = train_dataset[:numfit,:]\n",
    "Y = train_labels[:numfit]\n",
    "logreg.fit(X, Y)\n",
    "X_test = test_dataset[:numtest,:]\n",
    "X_test_lbl = test_labels[:numtest]\n",
    "predicted = logreg.predict(X_test)\n",
    "print (predicted==X_test_lbl).sum()\n"
   ]
  },
  {
   "cell_type": "code",
   "execution_count": null,
   "metadata": {
    "collapsed": false
   },
   "outputs": [],
   "source": []
  }
 ],
 "metadata": {
  "colabVersion": "0.3.2",
  "colab_default_view": {},
  "colab_views": {},
  "kernelspec": {
   "display_name": "Python 2",
   "language": "python",
   "name": "python2"
  },
  "language_info": {
   "codemirror_mode": {
    "name": "ipython",
    "version": 2
   },
   "file_extension": ".py",
   "mimetype": "text/x-python",
   "name": "python",
   "nbconvert_exporter": "python",
   "pygments_lexer": "ipython2",
   "version": "2.7.9"
  }
 },
 "nbformat": 4,
 "nbformat_minor": 0
}
